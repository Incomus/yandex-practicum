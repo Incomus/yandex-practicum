{
 "cells": [
  {
   "cell_type": "markdown",
   "metadata": {},
   "source": [
    "Привет, меня зовут Артем. Сегодня я проверю твой проект.\n",
    "<br> Дальнейшее общение будет происходить на \"ты\" если это не вызывает никаких проблем.\n",
    "<br> Желательно реагировать на каждый мой комментарий ('исправил', 'не понятно как исправить ошибку', ...)\n",
    "<br> Пожалуйста, не удаляй комментарии ревьюера, так как они повышают качество повторного ревью.\n",
    "\n",
    "Комментарии будут в <font color='green'>зеленой</font>, <font color='blue'>синей</font> или <font color='red'>красной</font> рамках:\n",
    "\n",
    "<div class=\"alert alert-block alert-success\">\n",
    "<b>Успех:</b> Если все сделано отлично\n",
    "</div>\n",
    "\n",
    "<div class=\"alert alert-block alert-info\">\n",
    "<b>Совет: </b> Если можно немного улучшить\n",
    "</div>\n",
    "\n",
    "<div class=\"alert alert-block alert-danger\">\n",
    "<b>Ошибка:</b> Если требуются исправления. Работа не может быть принята с красными комментариями.\n",
    "</div>\n",
    "\n",
    "-------------------\n",
    "\n",
    "Будет очень хорошо, если ты будешь помечать свои действия следующим образом:\n",
    "<div class=\"alert alert-block alert-warning\">\n",
    "<b>Комментарий студента:</b> ...\n",
    "</div>\n",
    "\n",
    "<div class=\"alert alert-block alert-warning\">\n",
    "<b>Изменения:</b> Были внесены следующие изменения ...\n",
    "</div>\n",
    "\n",
    "<font color='green'><b>Полезные (и просто интересные) материалы:</b></font> \\\n",
    "Для работы с текстами используют и другие подходы. Например, сейчас активно используются RNN (LSTM) и трансформеры (BERT и другие с улицы Сезам, например, ELMO). НО! Они не являются панацеей, не всегда они нужны, так как и TF-IDF или Word2Vec + модели из классического ML тоже могут справляться. \\\n",
    "BERT тяжелый, существует много его вариаций для разных задач, есть готовые модели, есть надстройки над библиотекой transformers. Если, обучать BERT на GPU (можно в Google Colab или Kaggle), то должно быть побыстрее.\\\n",
    "https://huggingface.co/transformers/model_doc/bert.html \\\n",
    "https://t.me/renat_alimbekov \\\n",
    "https://colah.github.io/posts/2015-08-Understanding-LSTMs/ - Про LSTM \\\n",
    "https://web.stanford.edu/~jurafsky/slp3/10.pdf - про энкодер-декодер модели, этеншены\\\n",
    "https://pytorch.org/tutorials/beginner/transformer_tutorial.html - официальный гайд\n",
    "по трансформеру от создателей pytorch\\\n",
    "https://transformer.huggingface.co/ - поболтать с трансформером \\\n",
    "Библиотеки: allennlp, fairseq, transformers, tensorflow-text — множествореализованных\n",
    "методов для трансформеров методов NLP \\\n",
    "Word2Vec https://radimrehurek.com/gensim/models/word2vec.html \n",
    "\n",
    "<font color='green'>Пример BERT с GPU:\n",
    "```python\n",
    "%%time\n",
    "from tqdm import notebook\n",
    "batch_size = 2 # для примера возьмем такой батч, где будет всего две строки датасета\n",
    "embeddings = [] \n",
    "for i in notebook.tqdm(range(input_ids.shape[0] // batch_size)):\n",
    "        batch = torch.LongTensor(input_ids[batch_size*i:batch_size*(i+1)]).cuda() # закидываем тензор на GPU\n",
    "        attention_mask_batch = torch.LongTensor(attention_mask[batch_size*i:batch_size*(i+1)]).cuda()\n",
    "        \n",
    "        with torch.no_grad():\n",
    "            model.cuda()\n",
    "            batch_embeddings = model(batch, attention_mask=attention_mask_batch)\n",
    "        \n",
    "        embeddings.append(batch_embeddings[0][:,0,:].cpu().numpy()) # перевод обратно на проц, чтобы в нумпай кинуть\n",
    "        del batch\n",
    "        del attention_mask_batch\n",
    "        del batch_embeddings\n",
    "        \n",
    "features = np.concatenate(embeddings) \n",
    "```\n",
    "Можно сделать предварительную проверку на наличие GPU.\\\n",
    "Например, так: ```device = torch.device(\"cuda:0\") if torch.cuda.is_available() else torch.device(\"cpu\")```\\\n",
    "Тогда вместо .cuda() нужно писать .to(device)\n",
    "\n",
    "Если понравилась работа с текстами, то можешь посмотреть очень интересный (но очень-очень сложный) курс лекций: https://github.com/yandexdataschool/nlp_course .\n",
    "</font>\n",
    "\n",
    "### <font color='orange'>Общее впечатление</font>\n",
    "* Большое спасибо за проделанную работу. Видно, что приложено много усилий.\n",
    "* Радует, что ноутбук хорошо структурирован. Приятно проверять такие работы.\n",
    "* Отлично, что стоп-слова были исключены!\n",
    "* Над этим проектом нужно будет еще немного поработать. Однако, изменения не должны занять много времени.\n",
    "* С радостью отвечу на твои вопросы, если они есть. Лучше всего их собрать в следующей ячейке. Жду новую версию проекта."
   ]
  },
  {
   "cell_type": "markdown",
   "metadata": {},
   "source": [
    "### <font color='orange'>Общее впечатление (ревью 2)</font>\n",
    "* Проект зачтен!\n",
    "* Для удобства все новые комментарии обозначены фразой \"ревью 2\".\n",
    "* Удачи в дальнейшем обучении и следующих работах!"
   ]
  },
  {
   "cell_type": "markdown",
   "metadata": {
    "toc": true
   },
   "source": [
    "<h1>Содержание<span class=\"tocSkip\"></span></h1>\n",
    "<div class=\"toc\"><ul class=\"toc-item\"><li><ul class=\"toc-item\"><li><span><a href=\"#Общее-впечатление\" data-toc-modified-id=\"Общее-впечатление-0.1\"><span class=\"toc-item-num\">0.1&nbsp;&nbsp;</span><font color=\"orange\">Общее впечатление</font></a></span></li><li><span><a href=\"#Общее-впечатление-(ревью-2)\" data-toc-modified-id=\"Общее-впечатление-(ревью-2)-0.2\"><span class=\"toc-item-num\">0.2&nbsp;&nbsp;</span><font color=\"orange\">Общее впечатление (ревью 2)</font></a></span></li></ul></li><li><span><a href=\"#Подготовка\" data-toc-modified-id=\"Подготовка-1\"><span class=\"toc-item-num\">1&nbsp;&nbsp;</span>Подготовка</a></span></li><li><span><a href=\"#Обучение\" data-toc-modified-id=\"Обучение-2\"><span class=\"toc-item-num\">2&nbsp;&nbsp;</span>Обучение</a></span><ul class=\"toc-item\"><li><span><a href=\"#LogisticRegression\" data-toc-modified-id=\"LogisticRegression-2.1\"><span class=\"toc-item-num\">2.1&nbsp;&nbsp;</span>LogisticRegression</a></span></li><li><span><a href=\"#RandomForestClassifier\" data-toc-modified-id=\"RandomForestClassifier-2.2\"><span class=\"toc-item-num\">2.2&nbsp;&nbsp;</span>RandomForestClassifier</a></span></li><li><span><a href=\"#CatBoostClassifier\" data-toc-modified-id=\"CatBoostClassifier-2.3\"><span class=\"toc-item-num\">2.3&nbsp;&nbsp;</span>CatBoostClassifier</a></span></li></ul></li><li><span><a href=\"#Выводы\" data-toc-modified-id=\"Выводы-3\"><span class=\"toc-item-num\">3&nbsp;&nbsp;</span>Выводы</a></span></li><li><span><a href=\"#Чек-лист-проверки\" data-toc-modified-id=\"Чек-лист-проверки-4\"><span class=\"toc-item-num\">4&nbsp;&nbsp;</span>Чек-лист проверки</a></span></li></ul></div>"
   ]
  },
  {
   "cell_type": "markdown",
   "metadata": {},
   "source": [
    "# Проект для «Викишоп»"
   ]
  },
  {
   "cell_type": "markdown",
   "metadata": {},
   "source": [
    "Интернет-магазин «Викишоп» запускает новый сервис. Теперь пользователи могут редактировать и дополнять описания товаров, как в вики-сообществах. То есть клиенты предлагают свои правки и комментируют изменения других. Магазину нужен инструмент, который будет искать токсичные комментарии и отправлять их на модерацию. \n",
    "\n",
    "Обучите модель классифицировать комментарии на позитивные и негативные. В вашем распоряжении набор данных с разметкой о токсичности правок.\n",
    "\n",
    "Постройте модель со значением метрики качества *F1* не меньше 0.75. \n",
    "\n",
    "**Инструкция по выполнению проекта**\n",
    "\n",
    "1. Загрузите и подготовьте данные.\n",
    "2. Обучите разные модели. \n",
    "3. Сделайте выводы.\n",
    "\n",
    "Для выполнения проекта применять *BERT* необязательно, но вы можете попробовать.\n",
    "\n",
    "**Описание данных**\n",
    "\n",
    "Данные находятся в файле `toxic_comments.csv`. Столбец *text* в нём содержит текст комментария, а *toxic* — целевой признак."
   ]
  },
  {
   "cell_type": "markdown",
   "metadata": {},
   "source": [
    "## Подготовка"
   ]
  },
  {
   "cell_type": "code",
   "execution_count": 1,
   "metadata": {},
   "outputs": [],
   "source": [
    "import pandas as pd\n",
    "#from pymystem3 import Mystem\n",
    "import re \n",
    "import nltk\n",
    "from nltk.corpus import stopwords as nltk_stopwords\n",
    "from sklearn.feature_extraction.text import TfidfVectorizer\n",
    "from sklearn.model_selection import train_test_split\n",
    "from sklearn.linear_model import LogisticRegression\n",
    "from sklearn.ensemble import RandomForestClassifier\n",
    "from sklearn.metrics import f1_score, accuracy_score\n",
    "from catboost import CatBoostClassifier\n",
    "from tqdm.notebook import tqdm\n",
    "import numpy as np\n",
    "import torch\n",
    "import transformers\n",
    "from tqdm import notebook\n",
    "from sklearn.utils import shuffle\n",
    "import spacy\n",
    "\n",
    "\n",
    "STATE = 1337"
   ]
  },
  {
   "cell_type": "markdown",
   "metadata": {},
   "source": [
    "<div class=\"alert alert-block alert-success\">\n",
    "<b>Успех:</b> Отлично, что все импорты собраны в первой ячейке ноутбука! Если у того, кто будет запускать твой ноутбук будут отсутствовать некоторые библиотеки, то он это увидит сразу, а не в процессе!\n",
    "</div>"
   ]
  },
  {
   "cell_type": "code",
   "execution_count": 2,
   "metadata": {
    "scrolled": true
   },
   "outputs": [
    {
     "name": "stdout",
     "output_type": "stream",
     "text": [
      "<class 'pandas.core.frame.DataFrame'>\n",
      "RangeIndex: 159292 entries, 0 to 159291\n",
      "Data columns (total 3 columns):\n",
      " #   Column      Non-Null Count   Dtype \n",
      "---  ------      --------------   ----- \n",
      " 0   Unnamed: 0  159292 non-null  int64 \n",
      " 1   text        159292 non-null  object\n",
      " 2   toxic       159292 non-null  int64 \n",
      "dtypes: int64(2), object(1)\n",
      "memory usage: 3.6+ MB\n"
     ]
    },
    {
     "data": {
      "text/html": [
       "<div>\n",
       "<style scoped>\n",
       "    .dataframe tbody tr th:only-of-type {\n",
       "        vertical-align: middle;\n",
       "    }\n",
       "\n",
       "    .dataframe tbody tr th {\n",
       "        vertical-align: top;\n",
       "    }\n",
       "\n",
       "    .dataframe thead th {\n",
       "        text-align: right;\n",
       "    }\n",
       "</style>\n",
       "<table border=\"1\" class=\"dataframe\">\n",
       "  <thead>\n",
       "    <tr style=\"text-align: right;\">\n",
       "      <th></th>\n",
       "      <th>Unnamed: 0</th>\n",
       "      <th>text</th>\n",
       "      <th>toxic</th>\n",
       "    </tr>\n",
       "  </thead>\n",
       "  <tbody>\n",
       "    <tr>\n",
       "      <th>0</th>\n",
       "      <td>0</td>\n",
       "      <td>Explanation\\nWhy the edits made under my usern...</td>\n",
       "      <td>0</td>\n",
       "    </tr>\n",
       "    <tr>\n",
       "      <th>1</th>\n",
       "      <td>1</td>\n",
       "      <td>D'aww! He matches this background colour I'm s...</td>\n",
       "      <td>0</td>\n",
       "    </tr>\n",
       "    <tr>\n",
       "      <th>2</th>\n",
       "      <td>2</td>\n",
       "      <td>Hey man, I'm really not trying to edit war. It...</td>\n",
       "      <td>0</td>\n",
       "    </tr>\n",
       "    <tr>\n",
       "      <th>3</th>\n",
       "      <td>3</td>\n",
       "      <td>\"\\nMore\\nI can't make any real suggestions on ...</td>\n",
       "      <td>0</td>\n",
       "    </tr>\n",
       "    <tr>\n",
       "      <th>4</th>\n",
       "      <td>4</td>\n",
       "      <td>You, sir, are my hero. Any chance you remember...</td>\n",
       "      <td>0</td>\n",
       "    </tr>\n",
       "    <tr>\n",
       "      <th>5</th>\n",
       "      <td>5</td>\n",
       "      <td>\"\\n\\nCongratulations from me as well, use the ...</td>\n",
       "      <td>0</td>\n",
       "    </tr>\n",
       "    <tr>\n",
       "      <th>6</th>\n",
       "      <td>6</td>\n",
       "      <td>COCKSUCKER BEFORE YOU PISS AROUND ON MY WORK</td>\n",
       "      <td>1</td>\n",
       "    </tr>\n",
       "    <tr>\n",
       "      <th>7</th>\n",
       "      <td>7</td>\n",
       "      <td>Your vandalism to the Matt Shirvington article...</td>\n",
       "      <td>0</td>\n",
       "    </tr>\n",
       "    <tr>\n",
       "      <th>8</th>\n",
       "      <td>8</td>\n",
       "      <td>Sorry if the word 'nonsense' was offensive to ...</td>\n",
       "      <td>0</td>\n",
       "    </tr>\n",
       "    <tr>\n",
       "      <th>9</th>\n",
       "      <td>9</td>\n",
       "      <td>alignment on this subject and which are contra...</td>\n",
       "      <td>0</td>\n",
       "    </tr>\n",
       "  </tbody>\n",
       "</table>\n",
       "</div>"
      ],
      "text/plain": [
       "   Unnamed: 0                                               text  toxic\n",
       "0           0  Explanation\\nWhy the edits made under my usern...      0\n",
       "1           1  D'aww! He matches this background colour I'm s...      0\n",
       "2           2  Hey man, I'm really not trying to edit war. It...      0\n",
       "3           3  \"\\nMore\\nI can't make any real suggestions on ...      0\n",
       "4           4  You, sir, are my hero. Any chance you remember...      0\n",
       "5           5  \"\\n\\nCongratulations from me as well, use the ...      0\n",
       "6           6       COCKSUCKER BEFORE YOU PISS AROUND ON MY WORK      1\n",
       "7           7  Your vandalism to the Matt Shirvington article...      0\n",
       "8           8  Sorry if the word 'nonsense' was offensive to ...      0\n",
       "9           9  alignment on this subject and which are contra...      0"
      ]
     },
     "execution_count": 2,
     "metadata": {},
     "output_type": "execute_result"
    }
   ],
   "source": [
    "data = pd.read_csv('/datasets/toxic_comments.csv')\n",
    "data.info()\n",
    "#data['text'] = [i[:1000] for i in data.text]\n",
    "data.head(10)"
   ]
  },
  {
   "cell_type": "markdown",
   "metadata": {},
   "source": [
    "В дате представленны три столбца: одна не несущая информацию, текст комментария и целевой признак. Рассмотрим распределение целевого признака"
   ]
  },
  {
   "cell_type": "code",
   "execution_count": 3,
   "metadata": {
    "scrolled": false
   },
   "outputs": [
    {
     "data": {
      "text/plain": [
       "0    143106\n",
       "1     16186\n",
       "Name: toxic, dtype: int64"
      ]
     },
     "execution_count": 3,
     "metadata": {},
     "output_type": "execute_result"
    }
   ],
   "source": [
    "data.toxic.value_counts()"
   ]
  },
  {
   "cell_type": "markdown",
   "metadata": {},
   "source": [
    "<div class=\"alert alert-block alert-success\">\n",
    "<b>Успех:</b> Данные загружены корреткно. Радует, что баланс классов был изучен.\n",
    "</div>"
   ]
  },
  {
   "cell_type": "markdown",
   "metadata": {},
   "source": [
    "Есть дисбаланс, восстановим его при подготовке выборок"
   ]
  },
  {
   "cell_type": "code",
   "execution_count": 4,
   "metadata": {},
   "outputs": [],
   "source": [
    "def upsample(features, target): \n",
    "    features_zeros = features[target == 0]\n",
    "    features_ones = features[target == 1]\n",
    "    target_zeros = target[target == 0]  \n",
    "    target_ones = target[target == 1]\n",
    "    repeat = int(round(len(features_zeros)/len(features_ones)))\n",
    "    features_upsampled = pd.concat([features_zeros] + [features_ones] * repeat) \n",
    "    target_upsampled = pd.concat([target_zeros] + [target_ones] * repeat)\n",
    "    return features_upsampled, target_upsampled"
   ]
  },
  {
   "cell_type": "markdown",
   "metadata": {},
   "source": [
    "Отделим обучающую выборку и устраним в ней дисбаланс, не трогая валидационную и тестовую"
   ]
  },
  {
   "cell_type": "code",
   "execution_count": 5,
   "metadata": {
    "scrolled": false
   },
   "outputs": [],
   "source": [
    "#m = Mystem()\n",
    "features = data.text\n",
    "target = data.toxic\n",
    "features_train, features, target_train, target = train_test_split(features, target, \n",
    "                                                                            test_size=2/5, random_state=STATE)\n",
    "features_train,target_train=upsample(features_train,target_train)"
   ]
  },
  {
   "cell_type": "code",
   "execution_count": 6,
   "metadata": {
    "scrolled": false
   },
   "outputs": [
    {
     "data": {
      "text/plain": [
       "1    87498\n",
       "0    85853\n",
       "Name: toxic, dtype: int64"
      ]
     },
     "execution_count": 6,
     "metadata": {},
     "output_type": "execute_result"
    }
   ],
   "source": [
    "target_train.value_counts()"
   ]
  },
  {
   "cell_type": "markdown",
   "metadata": {},
   "source": [
    "Дизбаланс в тестовой выборке исправлен\n",
    "\n",
    "Лемматизируем и очистим текст, разделим валидационную и тестовую выборки"
   ]
  },
  {
   "cell_type": "markdown",
   "metadata": {},
   "source": [
    "<div class=\"alert alert-block alert-success\">\n",
    "<b>Успех:</b> Хорошо, что баланс классов был изменен только в треине!\n",
    "</div>"
   ]
  },
  {
   "cell_type": "code",
   "execution_count": 7,
   "metadata": {
    "scrolled": false
   },
   "outputs": [
    {
     "data": {
      "application/vnd.jupyter.widget-view+json": {
       "model_id": "499e2f5ab85349c280865936f2ebdae4",
       "version_major": 2,
       "version_minor": 0
      },
      "text/plain": [
       "Лемматизируем и очищаем features_train:   0%|          | 0/173351 [00:00<?, ?it/s]"
      ]
     },
     "metadata": {},
     "output_type": "display_data"
    },
    {
     "data": {
      "application/vnd.jupyter.widget-view+json": {
       "model_id": "dda84490894044c2855a83bf661c507b",
       "version_major": 2,
       "version_minor": 0
      },
      "text/plain": [
       "Лемматизируем и очищаем features:   0%|          | 0/63717 [00:00<?, ?it/s]"
      ]
     },
     "metadata": {},
     "output_type": "display_data"
    }
   ],
   "source": [
    "def lemma(text):\n",
    "#    text = ' '.join(re.sub(r'[^a-zA-Z\\' ]', ' ', text).split())\n",
    "#    text = \"\".join(m.lemmatize(text))\n",
    "    text = nlp(text)\n",
    "    text = \" \".join([token.lemma_ for token in text])\n",
    "    text = ' '.join(re.sub(r'[^a-zA-Z ]', ' ', text).split())\n",
    "    \n",
    "    return text\n",
    "\n",
    "nlp = spacy.load('en_core_web_sm')\n",
    "tqdm.pandas(desc='Лемматизируем и очищаем features_train')\n",
    "features_train = features_train.progress_apply(lemma)\n",
    "tqdm.pandas(desc='Лемматизируем и очищаем features')\n",
    "features = features.progress_apply(lemma)\n",
    "\n",
    "features_test, features_valid, target_test, target_valid = train_test_split(features, target, \n",
    "                                                                            test_size=1/2, random_state=STATE)"
   ]
  },
  {
   "cell_type": "markdown",
   "metadata": {},
   "source": [
    "<div class=\"alert alert-block alert-success\">\n",
    "<b>Успех:</b> Очистка и лемматизация были сделаны корректно.\n",
    "</div>"
   ]
  },
  {
   "cell_type": "markdown",
   "metadata": {},
   "source": [
    "Приводим текст в векторный вид"
   ]
  },
  {
   "cell_type": "code",
   "execution_count": 8,
   "metadata": {
    "scrolled": true
   },
   "outputs": [
    {
     "name": "stderr",
     "output_type": "stream",
     "text": [
      "[nltk_data] Downloading package stopwords to /home/jovyan/nltk_data...\n",
      "[nltk_data]   Package stopwords is already up-to-date!\n"
     ]
    }
   ],
   "source": [
    "nltk.download('stopwords')\n",
    "stopwords = set(nltk_stopwords.words('english'))\n",
    "vectorizer = TfidfVectorizer(stop_words=stopwords)\n",
    "features_train = vectorizer.fit_transform(features_train)\n",
    "features_valid = vectorizer.transform(features_valid)\n",
    "features_test = vectorizer.transform(features_test)"
   ]
  },
  {
   "cell_type": "code",
   "execution_count": 9,
   "metadata": {},
   "outputs": [
    {
     "data": {
      "text/plain": [
       "(173351, 115427)"
      ]
     },
     "execution_count": 9,
     "metadata": {},
     "output_type": "execute_result"
    }
   ],
   "source": [
    "features_train.shape"
   ]
  },
  {
   "cell_type": "markdown",
   "metadata": {},
   "source": [
    "<div class=\"alert alert-block alert-success\">\n",
    "<b>Успех:</b> Разбиение было сделано верно. Отлично, что векторизатор был обучен только на тренировочной части данных.\n",
    "</div>"
   ]
  },
  {
   "cell_type": "markdown",
   "metadata": {},
   "source": [
    "## Обучение\n",
    "\n",
    "### LogisticRegression"
   ]
  },
  {
   "cell_type": "markdown",
   "metadata": {},
   "source": [
    "Построим логистическую модель и проверим её метрикой f1"
   ]
  },
  {
   "cell_type": "code",
   "execution_count": 23,
   "metadata": {
    "scrolled": true
   },
   "outputs": [
    {
     "name": "stderr",
     "output_type": "stream",
     "text": [
      "[Parallel(n_jobs=1)]: Using backend SequentialBackend with 1 concurrent workers.\n"
     ]
    },
    {
     "name": "stdout",
     "output_type": "stream",
     "text": [
      "RUNNING THE L-BFGS-B CODE\n",
      "\n",
      "           * * *\n",
      "\n",
      "Machine precision = 2.220D-16\n",
      " N =       115428     M =           10\n",
      "\n",
      "At X0         0 variables are exactly at the bounds\n",
      "\n",
      "At iterate    0    f=  1.20158D+05    |proj g|=  1.76714D+03\n"
     ]
    },
    {
     "name": "stderr",
     "output_type": "stream",
     "text": [
      " This problem is unconstrained.\n"
     ]
    },
    {
     "name": "stdout",
     "output_type": "stream",
     "text": [
      "\n",
      "At iterate   50    f=  3.43154D+04    |proj g|=  1.95306D+02\n",
      "\n",
      "At iterate  100    f=  3.39201D+04    |proj g|=  5.89464D+01\n",
      "\n",
      "At iterate  150    f=  3.39062D+04    |proj g|=  4.11261D+00\n",
      "\n",
      "           * * *\n",
      "\n",
      "Tit   = total number of iterations\n",
      "Tnf   = total number of function evaluations\n",
      "Tnint = total number of segments explored during Cauchy searches\n",
      "Skip  = number of BFGS updates skipped\n",
      "Nact  = number of active bounds at final generalized Cauchy point\n",
      "Projg = norm of the final projected gradient\n",
      "F     = final function value\n",
      "\n",
      "           * * *\n",
      "\n",
      "   N    Tit     Tnf  Tnint  Skip  Nact     Projg        F\n",
      "*****    192    225      1     0     0   1.798D-01   3.391D+04\n",
      "  F =   33906.045980538162     \n",
      "\n",
      "CONVERGENCE: REL_REDUCTION_OF_F_<=_FACTR*EPSMCH             \n"
     ]
    },
    {
     "name": "stderr",
     "output_type": "stream",
     "text": [
      "[Parallel(n_jobs=1)]: Done   1 out of   1 | elapsed:  1.8min finished\n"
     ]
    }
   ],
   "source": [
    "model = LogisticRegression(verbose=1, max_iter=200)\n",
    "model.fit(features_train, target_train)\n",
    "predict_lr = model.predict(features_valid)\n",
    "predict_lr_test = model.predict(features_test)"
   ]
  },
  {
   "cell_type": "code",
   "execution_count": 24,
   "metadata": {
    "scrolled": false
   },
   "outputs": [
    {
     "name": "stdout",
     "output_type": "stream",
     "text": [
      "LogisticRegression f1 score\n"
     ]
    },
    {
     "data": {
      "text/plain": [
       "0.75"
      ]
     },
     "execution_count": 24,
     "metadata": {},
     "output_type": "execute_result"
    }
   ],
   "source": [
    "print('LogisticRegression f1 score')\n",
    "round(f1_score(target_valid,predict_lr),2)"
   ]
  },
  {
   "cell_type": "markdown",
   "metadata": {},
   "source": [
    "### RandomForestClassifier\n",
    "\n",
    "Построим модель случайного леса и проверим её метрикой f1"
   ]
  },
  {
   "cell_type": "code",
   "execution_count": 36,
   "metadata": {
    "scrolled": true
   },
   "outputs": [
    {
     "name": "stderr",
     "output_type": "stream",
     "text": [
      "[Parallel(n_jobs=1)]: Using backend SequentialBackend with 1 concurrent workers.\n"
     ]
    },
    {
     "name": "stdout",
     "output_type": "stream",
     "text": [
      "building tree 1 of 40\n"
     ]
    },
    {
     "name": "stderr",
     "output_type": "stream",
     "text": [
      "[Parallel(n_jobs=1)]: Done   1 out of   1 | elapsed:    9.4s remaining:    0.0s\n"
     ]
    },
    {
     "name": "stdout",
     "output_type": "stream",
     "text": [
      "building tree 2 of 40\n",
      "building tree 3 of 40\n",
      "building tree 4 of 40\n",
      "building tree 5 of 40\n",
      "building tree 6 of 40\n",
      "building tree 7 of 40\n",
      "building tree 8 of 40\n",
      "building tree 9 of 40\n",
      "building tree 10 of 40\n",
      "building tree 11 of 40\n",
      "building tree 12 of 40\n",
      "building tree 13 of 40\n",
      "building tree 14 of 40\n",
      "building tree 15 of 40\n",
      "building tree 16 of 40\n",
      "building tree 17 of 40\n",
      "building tree 18 of 40\n",
      "building tree 19 of 40\n",
      "building tree 20 of 40\n",
      "building tree 21 of 40\n",
      "building tree 22 of 40\n",
      "building tree 23 of 40\n",
      "building tree 24 of 40\n",
      "building tree 25 of 40\n",
      "building tree 26 of 40\n",
      "building tree 27 of 40\n",
      "building tree 28 of 40\n",
      "building tree 29 of 40\n",
      "building tree 30 of 40\n",
      "building tree 31 of 40\n",
      "building tree 32 of 40\n",
      "building tree 33 of 40\n",
      "building tree 34 of 40\n",
      "building tree 35 of 40\n",
      "building tree 36 of 40\n",
      "building tree 37 of 40\n",
      "building tree 38 of 40\n",
      "building tree 39 of 40\n",
      "building tree 40 of 40\n"
     ]
    },
    {
     "name": "stderr",
     "output_type": "stream",
     "text": [
      "[Parallel(n_jobs=1)]: Done  40 out of  40 | elapsed:  5.5min finished\n",
      "[Parallel(n_jobs=1)]: Using backend SequentialBackend with 1 concurrent workers.\n",
      "[Parallel(n_jobs=1)]: Done   1 out of   1 | elapsed:    0.0s remaining:    0.0s\n",
      "[Parallel(n_jobs=1)]: Done  40 out of  40 | elapsed:    1.4s finished\n",
      "[Parallel(n_jobs=1)]: Using backend SequentialBackend with 1 concurrent workers.\n",
      "[Parallel(n_jobs=1)]: Done   1 out of   1 | elapsed:    0.0s remaining:    0.0s\n",
      "[Parallel(n_jobs=1)]: Done  40 out of  40 | elapsed:    1.4s finished\n"
     ]
    }
   ],
   "source": [
    "model = RandomForestClassifier(verbose=2,n_estimators=40, random_state=STATE)\n",
    "model.fit(features_train, target_train)\n",
    "predict_rf = model.predict(features_valid)\n",
    "predict_rf_test = model.predict(features_test)"
   ]
  },
  {
   "cell_type": "code",
   "execution_count": 37,
   "metadata": {
    "scrolled": false
   },
   "outputs": [
    {
     "name": "stdout",
     "output_type": "stream",
     "text": [
      "RandomForestClassifier f1 score\n"
     ]
    },
    {
     "data": {
      "text/plain": [
       "0.65"
      ]
     },
     "execution_count": 37,
     "metadata": {},
     "output_type": "execute_result"
    }
   ],
   "source": [
    "print('RandomForestClassifier f1 score')\n",
    "round(f1_score(target_valid,predict_rf),2)"
   ]
  },
  {
   "cell_type": "markdown",
   "metadata": {},
   "source": [
    "### CatBoostClassifier\n",
    "\n",
    "Построим модель CatBoost и проверим её метрикой f1"
   ]
  },
  {
   "cell_type": "code",
   "execution_count": 27,
   "metadata": {
    "scrolled": true
   },
   "outputs": [
    {
     "name": "stdout",
     "output_type": "stream",
     "text": [
      "Learning rate set to 0.5\n",
      "0:\tlearn: 0.5563929\ttotal: 2.9s\tremaining: 2m 51s\n",
      "1:\tlearn: 0.5084779\ttotal: 5.26s\tremaining: 2m 32s\n",
      "2:\tlearn: 0.4826163\ttotal: 7.83s\tremaining: 2m 28s\n",
      "3:\tlearn: 0.4573280\ttotal: 10.3s\tremaining: 2m 23s\n",
      "4:\tlearn: 0.4377482\ttotal: 12.6s\tremaining: 2m 19s\n",
      "5:\tlearn: 0.4226805\ttotal: 15s\tremaining: 2m 15s\n",
      "6:\tlearn: 0.4095217\ttotal: 17.5s\tremaining: 2m 12s\n",
      "7:\tlearn: 0.4006845\ttotal: 19.8s\tremaining: 2m 8s\n",
      "8:\tlearn: 0.3931462\ttotal: 22.1s\tremaining: 2m 5s\n",
      "9:\tlearn: 0.3854199\ttotal: 24.3s\tremaining: 2m 1s\n",
      "10:\tlearn: 0.3775826\ttotal: 26.6s\tremaining: 1m 58s\n",
      "11:\tlearn: 0.3711627\ttotal: 28.9s\tremaining: 1m 55s\n",
      "12:\tlearn: 0.3650667\ttotal: 31.1s\tremaining: 1m 52s\n",
      "13:\tlearn: 0.3602474\ttotal: 33.5s\tremaining: 1m 49s\n",
      "14:\tlearn: 0.3563560\ttotal: 35.8s\tremaining: 1m 47s\n",
      "15:\tlearn: 0.3526541\ttotal: 38s\tremaining: 1m 44s\n",
      "16:\tlearn: 0.3482662\ttotal: 40.2s\tremaining: 1m 41s\n",
      "17:\tlearn: 0.3435393\ttotal: 42.5s\tremaining: 1m 39s\n",
      "18:\tlearn: 0.3400882\ttotal: 44.8s\tremaining: 1m 36s\n",
      "19:\tlearn: 0.3370208\ttotal: 47.1s\tremaining: 1m 34s\n",
      "20:\tlearn: 0.3335367\ttotal: 49.3s\tremaining: 1m 31s\n",
      "21:\tlearn: 0.3298073\ttotal: 51.6s\tremaining: 1m 29s\n",
      "22:\tlearn: 0.3254791\ttotal: 53.9s\tremaining: 1m 26s\n",
      "23:\tlearn: 0.3222507\ttotal: 56s\tremaining: 1m 24s\n",
      "24:\tlearn: 0.3198627\ttotal: 58.1s\tremaining: 1m 21s\n",
      "25:\tlearn: 0.3167984\ttotal: 1m\tremaining: 1m 18s\n",
      "26:\tlearn: 0.3140088\ttotal: 1m 2s\tremaining: 1m 16s\n",
      "27:\tlearn: 0.3110221\ttotal: 1m 4s\tremaining: 1m 14s\n",
      "28:\tlearn: 0.3083779\ttotal: 1m 7s\tremaining: 1m 11s\n",
      "29:\tlearn: 0.3053497\ttotal: 1m 9s\tremaining: 1m 9s\n",
      "30:\tlearn: 0.3025993\ttotal: 1m 11s\tremaining: 1m 7s\n",
      "31:\tlearn: 0.3007110\ttotal: 1m 14s\tremaining: 1m 4s\n",
      "32:\tlearn: 0.2989736\ttotal: 1m 16s\tremaining: 1m 2s\n",
      "33:\tlearn: 0.2951906\ttotal: 1m 18s\tremaining: 1m\n",
      "34:\tlearn: 0.2930370\ttotal: 1m 20s\tremaining: 57.8s\n",
      "35:\tlearn: 0.2910202\ttotal: 1m 23s\tremaining: 55.4s\n",
      "36:\tlearn: 0.2889168\ttotal: 1m 25s\tremaining: 53.1s\n",
      "37:\tlearn: 0.2869948\ttotal: 1m 28s\tremaining: 51s\n",
      "38:\tlearn: 0.2844915\ttotal: 1m 30s\tremaining: 48.8s\n",
      "39:\tlearn: 0.2827077\ttotal: 1m 32s\tremaining: 46.5s\n",
      "40:\tlearn: 0.2807519\ttotal: 1m 35s\tremaining: 44.1s\n",
      "41:\tlearn: 0.2787159\ttotal: 1m 37s\tremaining: 41.7s\n",
      "42:\tlearn: 0.2761755\ttotal: 1m 39s\tremaining: 39.3s\n",
      "43:\tlearn: 0.2747258\ttotal: 1m 41s\tremaining: 37s\n",
      "44:\tlearn: 0.2731738\ttotal: 1m 43s\tremaining: 34.6s\n",
      "45:\tlearn: 0.2718342\ttotal: 1m 45s\tremaining: 32.2s\n",
      "46:\tlearn: 0.2701265\ttotal: 1m 48s\tremaining: 29.9s\n",
      "47:\tlearn: 0.2685226\ttotal: 1m 50s\tremaining: 27.5s\n",
      "48:\tlearn: 0.2668815\ttotal: 1m 52s\tremaining: 25.2s\n",
      "49:\tlearn: 0.2655501\ttotal: 1m 54s\tremaining: 22.9s\n",
      "50:\tlearn: 0.2645745\ttotal: 1m 56s\tremaining: 20.5s\n",
      "51:\tlearn: 0.2633805\ttotal: 1m 58s\tremaining: 18.2s\n",
      "52:\tlearn: 0.2622286\ttotal: 2m\tremaining: 15.9s\n",
      "53:\tlearn: 0.2605294\ttotal: 2m 2s\tremaining: 13.7s\n",
      "54:\tlearn: 0.2587976\ttotal: 2m 4s\tremaining: 11.4s\n",
      "55:\tlearn: 0.2574453\ttotal: 2m 7s\tremaining: 9.09s\n",
      "56:\tlearn: 0.2559444\ttotal: 2m 9s\tremaining: 6.82s\n",
      "57:\tlearn: 0.2548697\ttotal: 2m 11s\tremaining: 4.54s\n",
      "58:\tlearn: 0.2534964\ttotal: 2m 13s\tremaining: 2.27s\n",
      "59:\tlearn: 0.2521455\ttotal: 2m 16s\tremaining: 0us\n"
     ]
    }
   ],
   "source": [
    "model = CatBoostClassifier(loss_function=\"Logloss\", iterations=60)\n",
    "model.fit(features_train, target_train)\n",
    "predict_cb = model.predict(features_valid)\n",
    "predict_cb_test = model.predict(features_test)"
   ]
  },
  {
   "cell_type": "code",
   "execution_count": 28,
   "metadata": {
    "scrolled": true
   },
   "outputs": [
    {
     "name": "stdout",
     "output_type": "stream",
     "text": [
      "CatBoostClassifier f1 score\n"
     ]
    },
    {
     "data": {
      "text/plain": [
       "0.73"
      ]
     },
     "execution_count": 28,
     "metadata": {},
     "output_type": "execute_result"
    }
   ],
   "source": [
    "print('CatBoostClassifier f1 score')\n",
    "round(f1_score(target_valid,predict_cb),2)"
   ]
  },
  {
   "cell_type": "markdown",
   "metadata": {},
   "source": [
    "Лучшей моделью оказалась логистическая, проведем оценку на тестовой выборке"
   ]
  },
  {
   "cell_type": "code",
   "execution_count": 30,
   "metadata": {},
   "outputs": [
    {
     "data": {
      "text/plain": [
       "0.75"
      ]
     },
     "execution_count": 30,
     "metadata": {},
     "output_type": "execute_result"
    }
   ],
   "source": [
    "round(f1_score(target_test,predict_lr_test),2)"
   ]
  },
  {
   "cell_type": "markdown",
   "metadata": {},
   "source": [
    "<div class=\"alert alert-block alert-danger\">\n",
    "\n",
    "<b>Ошибка:</b> На тестовой выборке нужно измерить только одну – лучшую модель. Сравнение моделей нужно провести только на кросс-валидации `grid.best_score_` (с одним и тем же параметром \"cv\") или только на валидационной выборке.\n",
    "</div>"
   ]
  },
  {
   "cell_type": "markdown",
   "metadata": {},
   "source": [
    "<div class=\"alert alert-block alert-warning\">\n",
    "<b>Комментарий студента:</b> Я не понимаю ошибки. Модели сравнены на валидационной выборке и на основании этого сравнения, лучшая модель измерена на тестовой выборке. Я сделал все как тут и написано, минус кросс-валидация. Да я подготовил для каждой модели предсказания по тестовой выборке заранее, но это никак не влияет на выбор по валидационной выборке\n",
    "</div>"
   ]
  },
  {
   "cell_type": "markdown",
   "metadata": {},
   "source": [
    "<div class=\"alert alert-block alert-success\">\n",
    "<b>Успех (ревью 2):</b> Если ты не измерял качество на разных моделях, то ОК.\n",
    "</div>"
   ]
  },
  {
   "cell_type": "markdown",
   "metadata": {},
   "source": [
    "Тестовая выборка сходится с валидационной и не меньше 0.75\n",
    "\n",
    "**Ниже привидены мои тщетные попытки построить bert модель в Jupyter**"
   ]
  },
  {
   "cell_type": "markdown",
   "metadata": {},
   "source": [
    "tokenizer = transformers.BertTokenizer(\n",
    "    vocab_file='/datasets/ds_bert/vocab.txt')\n",
    "\n",
    "tokenized = data.head(500).text.apply(\n",
    "    lambda x: tokenizer.encode(x, add_special_tokens=True))\n",
    "\n",
    "max_len = 0\n",
    "for i in tokenized.values:\n",
    "    if len(i) > max_len:\n",
    "        max_len = len(i)\n",
    "\n",
    "padded = np.array([i + [0]*(max_len - len(i)) for i in tokenized.values])\n",
    "\n",
    "attention_mask = np.where(padded != 0, 1, 0)"
   ]
  },
  {
   "cell_type": "markdown",
   "metadata": {},
   "source": [
    "config = transformers.BertConfig.from_json_file(\n",
    "    '/datasets/ds_bert/bert_config.json')\n",
    "model = transformers.BertModel.from_pretrained(\n",
    "    '/datasets/ds_bert/rubert_model.bin', config=config)"
   ]
  },
  {
   "cell_type": "markdown",
   "metadata": {},
   "source": [
    "batch_size = 100\n",
    "embeddings = []\n",
    "for i in notebook.tqdm(range(padded.shape[0] // batch_size)):\n",
    "        batch = torch.LongTensor(padded[batch_size*i:batch_size*(i+1)]) \n",
    "        attention_mask_batch = torch.LongTensor(attention_mask[batch_size*i:batch_size*(i+1)])\n",
    "        \n",
    "        with torch.no_grad():\n",
    "            batch_embeddings = model(batch, attention_mask=attention_mask_batch)\n",
    "        \n",
    "        embeddings.append(batch_embeddings[0][:,0,:].numpy())"
   ]
  },
  {
   "cell_type": "markdown",
   "metadata": {},
   "source": [
    "features = np.concatenate(embeddings)\n",
    "features_train = features[0:400]\n",
    "features_valid = features[400:]\n",
    "target = data.toxic.head(500)\n",
    "target_train = target[0:400]\n",
    "target_valid = target[400:]\n",
    "\n",
    "model = LogisticRegression()\n",
    "model.fit(features_train, target_train)\n",
    "predictions = model.predict(features_valid)\n",
    "print('BertModel f1 score')\n",
    "f1_score(target_valid,predictions)"
   ]
  },
  {
   "cell_type": "markdown",
   "metadata": {},
   "source": [
    "<div class=\"alert alert-block alert-info\">\n",
    "<b>Совет: </b> Берт лучше запускать в google colab.\n",
    "</div>"
   ]
  },
  {
   "cell_type": "markdown",
   "metadata": {},
   "source": [
    "## Выводы"
   ]
  },
  {
   "cell_type": "markdown",
   "metadata": {},
   "source": [
    "Проведено обучение моделей для определения токсичности комментариев. Процесс обучения включает в себя приведение к балансу классов и разделение выборок. Использована библиотека spaCy для проведения лемматизации. Производительность трех разных моделей: линейной регрессии, случайного леса и CatBoost, сравнивается с использованием стандартных гиперпараметров. Линейная регрессия демонстрирует превосходящее качество по сравнению с другими моделями и дает метрику f1 в 0.75.\n",
    "\n",
    "Результаты позволяют выбрать оптимальную модель для определения токсичности комментариев. Линейная регрессия оказалась единственной моделью с результатами, не ниже минимальных. Стоит отметить что она так же была самой быстрой для обучения."
   ]
  },
  {
   "cell_type": "markdown",
   "metadata": {},
   "source": [
    "<div class=\"alert alert-block alert-success\">\n",
    "<b>Успех:</b> Приятно видеть вывод в конце проекта!\n",
    "</div>"
   ]
  },
  {
   "cell_type": "markdown",
   "metadata": {},
   "source": [
    "## Чек-лист проверки"
   ]
  },
  {
   "cell_type": "markdown",
   "metadata": {},
   "source": [
    "- [x]  Jupyter Notebook открыт\n",
    "- [x]  Весь код выполняется без ошибок\n",
    "- [x]  Ячейки с кодом расположены в порядке исполнения\n",
    "- [x]  Данные загружены и подготовлены\n",
    "- [x]  Модели обучены\n",
    "- [x]  Значение метрики *F1* не меньше 0.75\n",
    "- [x]  Выводы написаны"
   ]
  }
 ],
 "metadata": {
  "ExecuteTimeLog": [
   {
    "duration": 1466,
    "start_time": "2023-06-16T10:14:48.556Z"
   },
   {
    "duration": 2739,
    "start_time": "2023-06-16T10:15:29.636Z"
   },
   {
    "duration": 160,
    "start_time": "2023-06-16T10:16:07.341Z"
   },
   {
    "duration": 3,
    "start_time": "2023-06-16T10:16:22.220Z"
   },
   {
    "duration": 4,
    "start_time": "2023-06-16T10:16:48.420Z"
   },
   {
    "duration": 3,
    "start_time": "2023-06-16T10:19:28.520Z"
   },
   {
    "duration": 60,
    "start_time": "2023-06-16T10:19:34.076Z"
   },
   {
    "duration": 6,
    "start_time": "2023-06-16T10:19:42.957Z"
   },
   {
    "duration": 6,
    "start_time": "2023-06-16T10:19:58.980Z"
   },
   {
    "duration": 7,
    "start_time": "2023-06-16T10:21:39.517Z"
   },
   {
    "duration": 14,
    "start_time": "2023-06-16T10:21:44.671Z"
   },
   {
    "duration": 72,
    "start_time": "2023-06-16T10:23:11.213Z"
   },
   {
    "duration": 10217,
    "start_time": "2023-06-16T10:23:11.468Z"
   },
   {
    "duration": 56670,
    "start_time": "2023-06-16T10:23:21.687Z"
   },
   {
    "duration": 8,
    "start_time": "2023-06-16T10:24:36.096Z"
   },
   {
    "duration": 12,
    "start_time": "2023-06-16T10:27:30.669Z"
   },
   {
    "duration": 53,
    "start_time": "2023-06-16T10:27:45.324Z"
   },
   {
    "duration": 20,
    "start_time": "2023-06-16T10:27:49.852Z"
   },
   {
    "duration": 4,
    "start_time": "2023-06-16T10:28:04.629Z"
   },
   {
    "duration": 66,
    "start_time": "2023-06-16T10:28:07.453Z"
   },
   {
    "duration": 33,
    "start_time": "2023-06-16T10:28:58.272Z"
   },
   {
    "duration": 45,
    "start_time": "2023-06-16T10:32:53.161Z"
   },
   {
    "duration": 59740,
    "start_time": "2023-06-16T10:34:05.517Z"
   },
   {
    "duration": 13,
    "start_time": "2023-06-16T10:35:10.977Z"
   },
   {
    "duration": 58591,
    "start_time": "2023-06-16T10:35:21.773Z"
   },
   {
    "duration": 7,
    "start_time": "2023-06-16T10:37:03.733Z"
   },
   {
    "duration": 8,
    "start_time": "2023-06-16T10:37:06.625Z"
   },
   {
    "duration": 5,
    "start_time": "2023-06-16T10:37:22.028Z"
   },
   {
    "duration": 5,
    "start_time": "2023-06-16T10:37:26.740Z"
   },
   {
    "duration": 28,
    "start_time": "2023-06-16T10:38:28.316Z"
   },
   {
    "duration": 14,
    "start_time": "2023-06-16T10:39:33.117Z"
   },
   {
    "duration": 21866,
    "start_time": "2023-06-16T10:39:38.316Z"
   },
   {
    "duration": 57566,
    "start_time": "2023-06-16T10:40:02.709Z"
   },
   {
    "duration": 148,
    "start_time": "2023-06-16T10:41:05.681Z"
   },
   {
    "duration": 1463,
    "start_time": "2023-06-16T10:43:27.569Z"
   },
   {
    "duration": 940,
    "start_time": "2023-06-16T10:43:30.200Z"
   },
   {
    "duration": 84,
    "start_time": "2023-06-16T10:43:32.400Z"
   },
   {
    "duration": 11174,
    "start_time": "2023-06-16T10:43:34.343Z"
   },
   {
    "duration": 122551,
    "start_time": "2023-06-16T10:43:48.174Z"
   },
   {
    "duration": 32,
    "start_time": "2023-06-16T10:45:53.614Z"
   },
   {
    "duration": 145920,
    "start_time": "2023-06-16T10:46:08.776Z"
   },
   {
    "duration": 49,
    "start_time": "2023-06-16T10:48:37.225Z"
   },
   {
    "duration": 75467,
    "start_time": "2023-06-16T10:48:48.276Z"
   },
   {
    "duration": 23,
    "start_time": "2023-06-16T10:50:07.512Z"
   },
   {
    "duration": 235528,
    "start_time": "2023-06-16T10:50:14.669Z"
   },
   {
    "duration": 40,
    "start_time": "2023-06-16T10:54:32.244Z"
   },
   {
    "duration": 29208,
    "start_time": "2023-06-16T10:56:18.964Z"
   },
   {
    "duration": 52,
    "start_time": "2023-06-16T10:57:18.528Z"
   },
   {
    "duration": 10407,
    "start_time": "2023-06-16T10:57:30.219Z"
   },
   {
    "duration": 126611,
    "start_time": "2023-06-16T10:57:49.185Z"
   },
   {
    "duration": 65,
    "start_time": "2023-06-16T11:00:08.020Z"
   },
   {
    "duration": 135481,
    "start_time": "2023-06-16T11:00:33.713Z"
   },
   {
    "duration": 41,
    "start_time": "2023-06-16T11:02:49.197Z"
   },
   {
    "duration": 38,
    "start_time": "2023-06-16T11:14:57.708Z"
   },
   {
    "duration": 56,
    "start_time": "2023-06-16T11:15:28.159Z"
   },
   {
    "duration": 9216,
    "start_time": "2023-06-16T11:15:31.697Z"
   },
   {
    "duration": 27869,
    "start_time": "2023-06-16T11:15:43.751Z"
   },
   {
    "duration": 45,
    "start_time": "2023-06-16T11:18:39.744Z"
   },
   {
    "duration": 56429,
    "start_time": "2023-06-16T11:19:03.233Z"
   },
   {
    "duration": 8,
    "start_time": "2023-06-16T11:21:17.633Z"
   },
   {
    "duration": 10295,
    "start_time": "2023-06-16T11:21:28.625Z"
   },
   {
    "duration": 59134,
    "start_time": "2023-06-16T11:21:38.922Z"
   },
   {
    "duration": 10,
    "start_time": "2023-06-16T11:23:00.225Z"
   },
   {
    "duration": 40,
    "start_time": "2023-06-16T11:23:53.129Z"
   },
   {
    "duration": 131,
    "start_time": "2023-06-16T11:30:55.402Z"
   },
   {
    "duration": 133,
    "start_time": "2023-06-16T11:31:15.738Z"
   },
   {
    "duration": 1506,
    "start_time": "2023-06-16T11:35:18.717Z"
   },
   {
    "duration": 936,
    "start_time": "2023-06-16T11:35:20.226Z"
   },
   {
    "duration": 66,
    "start_time": "2023-06-16T11:35:21.164Z"
   },
   {
    "duration": 9483,
    "start_time": "2023-06-16T11:35:21.749Z"
   },
   {
    "duration": 2725,
    "start_time": "2023-06-16T11:40:01.670Z"
   },
   {
    "duration": 889,
    "start_time": "2023-06-16T11:40:04.397Z"
   },
   {
    "duration": 73,
    "start_time": "2023-06-16T11:40:05.288Z"
   },
   {
    "duration": 9508,
    "start_time": "2023-06-16T11:40:05.363Z"
   },
   {
    "duration": 1556,
    "start_time": "2023-06-16T11:41:54.786Z"
   },
   {
    "duration": 980,
    "start_time": "2023-06-16T11:41:56.346Z"
   },
   {
    "duration": 74,
    "start_time": "2023-06-16T11:41:57.328Z"
   },
   {
    "duration": 9575,
    "start_time": "2023-06-16T11:41:57.405Z"
   },
   {
    "duration": 1838,
    "start_time": "2023-06-16T11:45:16.077Z"
   },
   {
    "duration": 989,
    "start_time": "2023-06-16T11:45:17.918Z"
   },
   {
    "duration": 8,
    "start_time": "2023-06-16T11:45:18.908Z"
   },
   {
    "duration": 263,
    "start_time": "2023-06-16T11:45:18.918Z"
   },
   {
    "duration": 5079,
    "start_time": "2023-06-16T11:45:25.591Z"
   },
   {
    "duration": 127,
    "start_time": "2023-06-16T11:45:33.313Z"
   },
   {
    "duration": 5,
    "start_time": "2023-06-16T11:48:06.760Z"
   },
   {
    "duration": 22,
    "start_time": "2023-06-16T11:48:48.192Z"
   },
   {
    "duration": 11,
    "start_time": "2023-06-16T11:49:02.935Z"
   },
   {
    "duration": 5,
    "start_time": "2023-06-16T11:49:38.643Z"
   },
   {
    "duration": 5,
    "start_time": "2023-06-16T11:49:43.069Z"
   },
   {
    "duration": 5698,
    "start_time": "2023-06-16T11:51:09.266Z"
   },
   {
    "duration": 28,
    "start_time": "2023-06-16T11:51:21.743Z"
   },
   {
    "duration": 4,
    "start_time": "2023-06-16T11:51:29.541Z"
   },
   {
    "duration": 5141,
    "start_time": "2023-06-16T11:52:05.540Z"
   },
   {
    "duration": 45,
    "start_time": "2023-06-16T11:52:27.033Z"
   },
   {
    "duration": 4,
    "start_time": "2023-06-16T11:52:30.771Z"
   },
   {
    "duration": 5,
    "start_time": "2023-06-16T11:52:36.274Z"
   },
   {
    "duration": 1747,
    "start_time": "2023-06-16T11:55:01.572Z"
   },
   {
    "duration": 923,
    "start_time": "2023-06-16T11:55:03.328Z"
   },
   {
    "duration": 8,
    "start_time": "2023-06-16T11:55:04.254Z"
   },
   {
    "duration": 205,
    "start_time": "2023-06-16T11:55:04.264Z"
   },
   {
    "duration": 5245,
    "start_time": "2023-06-16T11:55:09.734Z"
   },
   {
    "duration": 159,
    "start_time": "2023-06-16T11:55:19.196Z"
   },
   {
    "duration": 11,
    "start_time": "2023-06-16T11:55:21.065Z"
   },
   {
    "duration": 14,
    "start_time": "2023-06-16T11:56:17.412Z"
   },
   {
    "duration": 5686,
    "start_time": "2023-06-16T11:56:38.982Z"
   },
   {
    "duration": 5,
    "start_time": "2023-06-16T11:56:48.069Z"
   },
   {
    "duration": 16,
    "start_time": "2023-06-16T11:56:49.966Z"
   },
   {
    "duration": 8,
    "start_time": "2023-06-16T12:00:38.579Z"
   },
   {
    "duration": 72,
    "start_time": "2023-06-16T12:00:40.177Z"
   },
   {
    "duration": 27000,
    "start_time": "2023-06-16T12:00:50.397Z"
   },
   {
    "duration": 17,
    "start_time": "2023-06-16T12:01:20.781Z"
   },
   {
    "duration": 174,
    "start_time": "2023-06-16T12:01:28.099Z"
   },
   {
    "duration": 10,
    "start_time": "2023-06-16T12:01:31.555Z"
   },
   {
    "duration": 55,
    "start_time": "2023-06-16T12:01:48.334Z"
   },
   {
    "duration": 23,
    "start_time": "2023-06-16T12:01:49.771Z"
   },
   {
    "duration": 1756,
    "start_time": "2023-06-16T12:02:12.608Z"
   },
   {
    "duration": 939,
    "start_time": "2023-06-16T12:02:14.369Z"
   },
   {
    "duration": 7,
    "start_time": "2023-06-16T12:02:15.310Z"
   },
   {
    "duration": 301,
    "start_time": "2023-06-16T12:02:15.318Z"
   },
   {
    "duration": 65,
    "start_time": "2023-06-16T12:02:17.539Z"
   },
   {
    "duration": 151,
    "start_time": "2023-06-16T12:02:19.021Z"
   },
   {
    "duration": 7,
    "start_time": "2023-06-16T12:02:25.714Z"
   },
   {
    "duration": 17,
    "start_time": "2023-06-16T12:02:26.374Z"
   },
   {
    "duration": 22,
    "start_time": "2023-06-16T12:02:28.067Z"
   },
   {
    "duration": 19,
    "start_time": "2023-06-16T12:02:29.496Z"
   },
   {
    "duration": 60,
    "start_time": "2023-06-16T12:02:50.884Z"
   },
   {
    "duration": 10325,
    "start_time": "2023-06-16T12:02:51.075Z"
   },
   {
    "duration": 59575,
    "start_time": "2023-06-16T12:03:04.185Z"
   },
   {
    "duration": 23,
    "start_time": "2023-06-16T12:04:08.876Z"
   },
   {
    "duration": 4,
    "start_time": "2023-06-16T12:04:45.589Z"
   },
   {
    "duration": 939,
    "start_time": "2023-06-16T12:04:47.561Z"
   },
   {
    "duration": 89,
    "start_time": "2023-06-16T12:04:49.904Z"
   },
   {
    "duration": 10485,
    "start_time": "2023-06-16T12:04:51.509Z"
   },
   {
    "duration": 14,
    "start_time": "2023-06-16T12:05:36.898Z"
   },
   {
    "duration": 57072,
    "start_time": "2023-06-16T12:05:46.392Z"
   },
   {
    "duration": 17,
    "start_time": "2023-06-16T12:06:46.632Z"
   },
   {
    "duration": 12,
    "start_time": "2023-06-16T12:07:19.963Z"
   },
   {
    "duration": 30504,
    "start_time": "2023-06-16T12:07:31.326Z"
   },
   {
    "duration": 53,
    "start_time": "2023-06-16T12:08:02.844Z"
   },
   {
    "duration": 8,
    "start_time": "2023-06-16T12:08:11.778Z"
   },
   {
    "duration": 107,
    "start_time": "2023-06-16T12:08:12.808Z"
   },
   {
    "duration": 43,
    "start_time": "2023-06-16T12:08:16.299Z"
   },
   {
    "duration": 4,
    "start_time": "2023-06-16T12:08:17.582Z"
   },
   {
    "duration": 149,
    "start_time": "2023-06-16T12:08:21.567Z"
   },
   {
    "duration": 8,
    "start_time": "2023-06-16T12:08:23.412Z"
   },
   {
    "duration": 8162,
    "start_time": "2023-06-16T12:08:26.399Z"
   },
   {
    "duration": 15,
    "start_time": "2023-06-16T12:08:35.871Z"
   },
   {
    "duration": 594,
    "start_time": "2023-06-16T12:08:48.153Z"
   },
   {
    "duration": 7,
    "start_time": "2023-06-16T12:08:50.324Z"
   },
   {
    "duration": 5975,
    "start_time": "2023-06-16T12:08:57.903Z"
   },
   {
    "duration": 16,
    "start_time": "2023-06-16T12:09:12.116Z"
   },
   {
    "duration": 4,
    "start_time": "2023-06-16T12:09:49.628Z"
   },
   {
    "duration": 383,
    "start_time": "2023-06-16T12:09:56.886Z"
   },
   {
    "duration": 25,
    "start_time": "2023-06-16T12:10:00.734Z"
   },
   {
    "duration": 10,
    "start_time": "2023-06-16T12:10:14.032Z"
   },
   {
    "duration": 665,
    "start_time": "2023-06-16T12:10:16.142Z"
   },
   {
    "duration": 14559,
    "start_time": "2023-06-16T12:10:19.325Z"
   },
   {
    "duration": 6,
    "start_time": "2023-06-16T12:10:36.434Z"
   },
   {
    "duration": 5852,
    "start_time": "2023-06-16T12:10:38.028Z"
   },
   {
    "duration": 83,
    "start_time": "2023-06-16T12:10:45.976Z"
   },
   {
    "duration": 167282,
    "start_time": "2023-06-16T12:10:49.901Z"
   },
   {
    "duration": 14,
    "start_time": "2023-06-16T12:13:42.179Z"
   },
   {
    "duration": 58,
    "start_time": "2023-06-16T12:14:33.706Z"
   },
   {
    "duration": 10399,
    "start_time": "2023-06-16T12:14:33.892Z"
   },
   {
    "duration": 33719,
    "start_time": "2023-06-16T12:14:48.828Z"
   },
   {
    "duration": 1193,
    "start_time": "2023-06-16T12:15:43.282Z"
   },
   {
    "duration": 101,
    "start_time": "2023-06-16T12:15:47.095Z"
   },
   {
    "duration": 12761,
    "start_time": "2023-06-16T12:15:55.112Z"
   },
   {
    "duration": 464,
    "start_time": "2023-06-16T12:16:09.125Z"
   },
   {
    "duration": 11927,
    "start_time": "2023-06-16T12:16:18.379Z"
   },
   {
    "duration": 139,
    "start_time": "2023-06-16T12:16:31.875Z"
   },
   {
    "duration": 31640,
    "start_time": "2023-06-16T12:16:44.232Z"
   },
   {
    "duration": 363,
    "start_time": "2023-06-16T12:17:15.877Z"
   },
   {
    "duration": 2740,
    "start_time": "2023-06-16T12:18:23.187Z"
   },
   {
    "duration": 105,
    "start_time": "2023-06-16T12:18:27.302Z"
   },
   {
    "duration": 17,
    "start_time": "2023-06-16T16:00:54.180Z"
   },
   {
    "duration": 845,
    "start_time": "2023-06-16T16:01:06.224Z"
   },
   {
    "duration": 860,
    "start_time": "2023-06-16T16:01:40.740Z"
   },
   {
    "duration": 893,
    "start_time": "2023-06-16T16:02:11.932Z"
   },
   {
    "duration": 8,
    "start_time": "2023-06-16T16:09:52.540Z"
   },
   {
    "duration": 2052,
    "start_time": "2023-06-16T16:10:02.851Z"
   },
   {
    "duration": 4,
    "start_time": "2023-06-16T16:11:50.489Z"
   },
   {
    "duration": 1406,
    "start_time": "2023-06-16T16:12:04.678Z"
   },
   {
    "duration": 2331,
    "start_time": "2023-06-16T16:12:06.086Z"
   },
   {
    "duration": 2109,
    "start_time": "2023-06-16T16:12:11.348Z"
   },
   {
    "duration": 1398,
    "start_time": "2023-06-16T16:12:43.172Z"
   },
   {
    "duration": 2342,
    "start_time": "2023-06-16T16:12:46.421Z"
   },
   {
    "duration": 1399,
    "start_time": "2023-06-16T16:13:05.036Z"
   },
   {
    "duration": 2375,
    "start_time": "2023-06-16T16:13:06.437Z"
   },
   {
    "duration": 1335,
    "start_time": "2023-06-16T16:13:13.283Z"
   },
   {
    "duration": 942,
    "start_time": "2023-06-16T16:13:14.620Z"
   },
   {
    "duration": 1458,
    "start_time": "2023-06-16T16:13:35.670Z"
   },
   {
    "duration": 2335,
    "start_time": "2023-06-16T16:13:37.130Z"
   },
   {
    "duration": 50,
    "start_time": "2023-06-16T16:13:45.541Z"
   },
   {
    "duration": 259,
    "start_time": "2023-06-16T16:13:48.180Z"
   },
   {
    "duration": 45,
    "start_time": "2023-06-16T16:13:54.635Z"
   },
   {
    "duration": 5,
    "start_time": "2023-06-16T16:13:57.491Z"
   },
   {
    "duration": 52,
    "start_time": "2023-06-16T16:14:01.147Z"
   },
   {
    "duration": 8,
    "start_time": "2023-06-16T16:14:01.827Z"
   },
   {
    "duration": 836,
    "start_time": "2023-06-16T16:14:10.195Z"
   },
   {
    "duration": 453,
    "start_time": "2023-06-16T16:14:11.033Z"
   },
   {
    "duration": 784,
    "start_time": "2023-06-16T16:14:12.875Z"
   },
   {
    "duration": 9100,
    "start_time": "2023-06-16T16:14:13.661Z"
   },
   {
    "duration": 92,
    "start_time": "2023-06-16T16:14:22.764Z"
   },
   {
    "duration": 185,
    "start_time": "2023-06-16T16:14:25.643Z"
   },
   {
    "duration": 15,
    "start_time": "2023-06-16T16:14:25.866Z"
   },
   {
    "duration": 23,
    "start_time": "2023-06-16T16:14:49.554Z"
   },
   {
    "duration": 583,
    "start_time": "2023-06-16T16:14:50.107Z"
   },
   {
    "duration": 10353,
    "start_time": "2023-06-16T16:14:54.203Z"
   },
   {
    "duration": 5,
    "start_time": "2023-06-16T16:15:10.235Z"
   },
   {
    "duration": 182,
    "start_time": "2023-06-16T16:15:17.547Z"
   },
   {
    "duration": 15,
    "start_time": "2023-06-16T16:15:19.971Z"
   },
   {
    "duration": 5117,
    "start_time": "2023-06-16T16:15:56.403Z"
   },
   {
    "duration": 81,
    "start_time": "2023-06-16T16:16:07.059Z"
   },
   {
    "duration": 1338,
    "start_time": "2023-06-16T16:16:45.036Z"
   },
   {
    "duration": 957,
    "start_time": "2023-06-16T16:16:46.376Z"
   },
   {
    "duration": 70,
    "start_time": "2023-06-16T16:16:47.334Z"
   },
   {
    "duration": 9531,
    "start_time": "2023-06-16T16:16:47.406Z"
   },
   {
    "duration": 58026,
    "start_time": "2023-06-16T16:16:56.939Z"
   },
   {
    "duration": 90,
    "start_time": "2023-06-16T16:17:54.967Z"
   },
   {
    "duration": 2268,
    "start_time": "2023-06-16T16:17:55.059Z"
   },
   {
    "duration": 98,
    "start_time": "2023-06-16T16:17:57.329Z"
   },
   {
    "duration": 121,
    "start_time": "2023-06-16T16:18:52.260Z"
   },
   {
    "duration": 553,
    "start_time": "2023-06-16T16:18:57.548Z"
   },
   {
    "duration": 6,
    "start_time": "2023-06-16T16:19:01.973Z"
   },
   {
    "duration": 917,
    "start_time": "2023-06-16T16:20:02.213Z"
   },
   {
    "duration": 19801,
    "start_time": "2023-06-16T16:27:04.878Z"
   },
   {
    "duration": 2243,
    "start_time": "2023-06-16T16:27:31.974Z"
   },
   {
    "duration": 27194,
    "start_time": "2023-06-16T16:27:44.677Z"
   },
   {
    "duration": 305,
    "start_time": "2023-06-16T16:28:14.710Z"
   },
   {
    "duration": 13702,
    "start_time": "2023-06-16T16:28:20.486Z"
   },
   {
    "duration": 55209,
    "start_time": "2023-06-16T16:29:16.654Z"
   },
   {
    "duration": 7,
    "start_time": "2023-06-16T16:30:11.955Z"
   },
   {
    "duration": 7,
    "start_time": "2023-06-16T16:30:15.885Z"
   },
   {
    "duration": 14,
    "start_time": "2023-06-16T16:30:25.477Z"
   },
   {
    "duration": 6,
    "start_time": "2023-06-16T16:30:31.357Z"
   },
   {
    "duration": 16,
    "start_time": "2023-06-16T16:48:06.879Z"
   },
   {
    "duration": 6,
    "start_time": "2023-06-16T16:48:12.318Z"
   },
   {
    "duration": 19,
    "start_time": "2023-06-16T16:48:14.494Z"
   },
   {
    "duration": 5,
    "start_time": "2023-06-16T16:50:53.022Z"
   },
   {
    "duration": 5,
    "start_time": "2023-06-16T16:51:39.846Z"
   },
   {
    "duration": 10,
    "start_time": "2023-06-16T16:51:49.991Z"
   },
   {
    "duration": 7,
    "start_time": "2023-06-16T16:51:53.510Z"
   },
   {
    "duration": 7871,
    "start_time": "2023-06-16T16:55:15.055Z"
   },
   {
    "duration": 13,
    "start_time": "2023-06-16T16:55:27.815Z"
   },
   {
    "duration": 51,
    "start_time": "2023-06-16T16:55:59.207Z"
   },
   {
    "duration": 5,
    "start_time": "2023-06-16T16:56:20.782Z"
   },
   {
    "duration": 5,
    "start_time": "2023-06-16T16:56:25.823Z"
   },
   {
    "duration": 8,
    "start_time": "2023-06-16T16:56:46.871Z"
   },
   {
    "duration": 5,
    "start_time": "2023-06-16T16:56:49.063Z"
   },
   {
    "duration": 2,
    "start_time": "2023-06-16T16:57:03.671Z"
   },
   {
    "duration": 5,
    "start_time": "2023-06-16T16:57:06.398Z"
   },
   {
    "duration": 5,
    "start_time": "2023-06-16T16:57:08.839Z"
   },
   {
    "duration": 5,
    "start_time": "2023-06-16T16:57:40.846Z"
   },
   {
    "duration": 4,
    "start_time": "2023-06-16T16:58:14.526Z"
   },
   {
    "duration": 5,
    "start_time": "2023-06-16T16:58:20.255Z"
   },
   {
    "duration": 19,
    "start_time": "2023-06-16T17:00:15.927Z"
   },
   {
    "duration": 15,
    "start_time": "2023-06-16T17:02:22.759Z"
   },
   {
    "duration": 14,
    "start_time": "2023-06-16T17:04:20.143Z"
   },
   {
    "duration": 17,
    "start_time": "2023-06-16T17:05:45.175Z"
   },
   {
    "duration": 756,
    "start_time": "2023-06-16T17:06:10.463Z"
   },
   {
    "duration": 749,
    "start_time": "2023-06-16T17:06:58.479Z"
   },
   {
    "duration": 719,
    "start_time": "2023-06-16T17:07:33.448Z"
   },
   {
    "duration": 763,
    "start_time": "2023-06-16T17:08:50.247Z"
   },
   {
    "duration": 68888,
    "start_time": "2023-06-16T17:10:07.391Z"
   },
   {
    "duration": 8419,
    "start_time": "2023-06-16T17:11:19.736Z"
   },
   {
    "duration": 53060,
    "start_time": "2023-06-16T17:11:30.696Z"
   },
   {
    "duration": 9,
    "start_time": "2023-06-16T17:12:26.464Z"
   },
   {
    "duration": 5133,
    "start_time": "2023-06-16T17:12:55.897Z"
   },
   {
    "duration": 2424,
    "start_time": "2023-06-16T17:13:10.120Z"
   },
   {
    "duration": 4947,
    "start_time": "2023-06-16T17:13:24.064Z"
   },
   {
    "duration": 202,
    "start_time": "2023-06-16T17:13:31.064Z"
   },
   {
    "duration": 6525,
    "start_time": "2023-06-16T17:13:56.135Z"
   },
   {
    "duration": 139,
    "start_time": "2023-06-16T17:14:05.208Z"
   },
   {
    "duration": 13992,
    "start_time": "2023-06-16T17:14:12.328Z"
   },
   {
    "duration": 180,
    "start_time": "2023-06-16T17:14:29.223Z"
   },
   {
    "duration": 26009,
    "start_time": "2023-06-16T17:14:41.920Z"
   },
   {
    "duration": 316,
    "start_time": "2023-06-16T17:15:09.544Z"
   },
   {
    "duration": 41877,
    "start_time": "2023-06-16T17:15:36.759Z"
   },
   {
    "duration": 429,
    "start_time": "2023-06-16T17:16:35.497Z"
   },
   {
    "duration": 401,
    "start_time": "2023-06-16T17:17:49.416Z"
   },
   {
    "duration": 10,
    "start_time": "2023-06-16T17:17:59.200Z"
   },
   {
    "duration": 414,
    "start_time": "2023-06-16T17:18:01.976Z"
   },
   {
    "duration": 50885,
    "start_time": "2023-06-16T17:23:09.872Z"
   },
   {
    "duration": 13,
    "start_time": "2023-06-16T17:24:05.689Z"
   },
   {
    "duration": 4,
    "start_time": "2023-06-16T17:24:09.434Z"
   },
   {
    "duration": 11,
    "start_time": "2023-06-16T17:24:14.729Z"
   },
   {
    "duration": 44810,
    "start_time": "2023-06-16T17:24:30.152Z"
   },
   {
    "duration": 421,
    "start_time": "2023-06-16T17:25:17.234Z"
   },
   {
    "duration": 389,
    "start_time": "2023-06-16T17:25:31.937Z"
   },
   {
    "duration": 418,
    "start_time": "2023-06-16T17:25:37.224Z"
   },
   {
    "duration": 387,
    "start_time": "2023-06-16T17:26:47.633Z"
   },
   {
    "duration": 395,
    "start_time": "2023-06-16T17:26:58.722Z"
   },
   {
    "duration": 52826,
    "start_time": "2023-06-16T17:27:04.529Z"
   },
   {
    "duration": 13,
    "start_time": "2023-06-16T17:27:57.357Z"
   },
   {
    "duration": 4,
    "start_time": "2023-06-16T17:28:07.105Z"
   },
   {
    "duration": 6,
    "start_time": "2023-06-16T17:28:16.481Z"
   },
   {
    "duration": 4,
    "start_time": "2023-06-16T17:28:23.121Z"
   },
   {
    "duration": 4,
    "start_time": "2023-06-16T17:28:38.697Z"
   },
   {
    "duration": 6,
    "start_time": "2023-06-16T17:28:41.521Z"
   },
   {
    "duration": 5,
    "start_time": "2023-06-16T17:28:57.561Z"
   },
   {
    "duration": 3,
    "start_time": "2023-06-16T17:29:06.121Z"
   },
   {
    "duration": 5,
    "start_time": "2023-06-16T17:29:09.145Z"
   },
   {
    "duration": 9,
    "start_time": "2023-06-16T17:29:13.209Z"
   },
   {
    "duration": 6,
    "start_time": "2023-06-16T17:29:19.352Z"
   },
   {
    "duration": 4,
    "start_time": "2023-06-16T17:29:38.875Z"
   },
   {
    "duration": 6,
    "start_time": "2023-06-16T17:29:45.801Z"
   },
   {
    "duration": 10,
    "start_time": "2023-06-16T17:30:56.841Z"
   },
   {
    "duration": 9,
    "start_time": "2023-06-16T17:31:03.840Z"
   },
   {
    "duration": 4,
    "start_time": "2023-06-16T17:31:52.985Z"
   },
   {
    "duration": 7,
    "start_time": "2023-06-16T17:32:00.321Z"
   },
   {
    "duration": 6,
    "start_time": "2023-06-16T17:32:04.017Z"
   },
   {
    "duration": 9,
    "start_time": "2023-06-16T17:32:10.233Z"
   },
   {
    "duration": 14,
    "start_time": "2023-06-16T17:32:12.415Z"
   },
   {
    "duration": 604770,
    "start_time": "2023-06-16T17:33:18.225Z"
   },
   {
    "duration": 9,
    "start_time": "2023-06-16T17:43:31.898Z"
   },
   {
    "duration": 1619,
    "start_time": "2023-06-16T17:50:23.076Z"
   },
   {
    "duration": 2251,
    "start_time": "2023-06-16T17:50:55.149Z"
   },
   {
    "duration": 2682,
    "start_time": "2023-06-16T17:53:48.632Z"
   },
   {
    "duration": 894,
    "start_time": "2023-06-16T17:53:51.316Z"
   },
   {
    "duration": 7,
    "start_time": "2023-06-16T17:53:52.213Z"
   },
   {
    "duration": 1285,
    "start_time": "2023-06-16T17:54:23.340Z"
   },
   {
    "duration": 272,
    "start_time": "2023-06-16T17:54:27.052Z"
   },
   {
    "duration": 49,
    "start_time": "2023-06-16T17:54:27.327Z"
   },
   {
    "duration": 8,
    "start_time": "2023-06-16T17:54:29.164Z"
   },
   {
    "duration": 46,
    "start_time": "2023-06-16T17:55:00.284Z"
   },
   {
    "duration": 9,
    "start_time": "2023-06-16T17:55:05.827Z"
   },
   {
    "duration": 41,
    "start_time": "2023-06-16T17:55:08.212Z"
   },
   {
    "duration": 7,
    "start_time": "2023-06-16T17:55:09.739Z"
   },
   {
    "duration": 14854,
    "start_time": "2023-06-16T17:55:14.031Z"
   },
   {
    "duration": 0,
    "start_time": "2023-06-16T17:55:28.887Z"
   },
   {
    "duration": 0,
    "start_time": "2023-06-16T17:55:28.889Z"
   },
   {
    "duration": 1161,
    "start_time": "2023-06-16T17:55:33.836Z"
   },
   {
    "duration": 71,
    "start_time": "2023-06-16T17:55:37.132Z"
   },
   {
    "duration": 43,
    "start_time": "2023-06-16T17:55:38.219Z"
   },
   {
    "duration": 7,
    "start_time": "2023-06-16T17:55:38.747Z"
   },
   {
    "duration": 4,
    "start_time": "2023-06-16T17:55:45.419Z"
   },
   {
    "duration": 4,
    "start_time": "2023-06-16T17:55:49.587Z"
   },
   {
    "duration": 6,
    "start_time": "2023-06-16T17:55:57.923Z"
   },
   {
    "duration": 4,
    "start_time": "2023-06-16T17:56:04.974Z"
   },
   {
    "duration": 4,
    "start_time": "2023-06-16T17:56:08.620Z"
   },
   {
    "duration": 86,
    "start_time": "2023-06-16T17:56:11.028Z"
   },
   {
    "duration": 8,
    "start_time": "2023-06-16T17:56:12.586Z"
   },
   {
    "duration": 5241,
    "start_time": "2023-06-16T17:56:20.452Z"
   },
   {
    "duration": 576,
    "start_time": "2023-06-16T17:56:27.179Z"
   },
   {
    "duration": 4313,
    "start_time": "2023-06-16T17:56:27.757Z"
   },
   {
    "duration": 7,
    "start_time": "2023-06-16T17:56:33.547Z"
   },
   {
    "duration": 4,
    "start_time": "2023-06-16T17:56:35.708Z"
   },
   {
    "duration": 401,
    "start_time": "2023-06-16T17:56:37.108Z"
   },
   {
    "duration": 8,
    "start_time": "2023-06-16T17:56:39.468Z"
   },
   {
    "duration": 6732,
    "start_time": "2023-06-16T17:56:43.507Z"
   },
   {
    "duration": 14346,
    "start_time": "2023-06-16T17:58:16.396Z"
   },
   {
    "duration": 19,
    "start_time": "2023-06-16T17:58:50.893Z"
   },
   {
    "duration": 4,
    "start_time": "2023-06-16T17:58:57.732Z"
   },
   {
    "duration": 16415,
    "start_time": "2023-06-16T17:59:03.604Z"
   },
   {
    "duration": 16582,
    "start_time": "2023-06-16T17:59:25.236Z"
   },
   {
    "duration": 564,
    "start_time": "2023-06-16T17:59:58.525Z"
   },
   {
    "duration": 4729,
    "start_time": "2023-06-16T18:06:36.797Z"
   },
   {
    "duration": 114,
    "start_time": "2023-06-16T18:06:59.486Z"
   },
   {
    "duration": 4,
    "start_time": "2023-06-16T18:07:27.229Z"
   },
   {
    "duration": 4,
    "start_time": "2023-06-16T18:07:32.165Z"
   },
   {
    "duration": 4,
    "start_time": "2023-06-16T18:07:41.309Z"
   },
   {
    "duration": 48,
    "start_time": "2023-06-16T18:20:32.824Z"
   },
   {
    "duration": 12500,
    "start_time": "2023-06-16T18:23:17.554Z"
   },
   {
    "duration": 2332,
    "start_time": "2023-06-16T18:23:34.598Z"
   },
   {
    "duration": 18688,
    "start_time": "2023-06-16T18:23:48.022Z"
   },
   {
    "duration": 16721,
    "start_time": "2023-06-16T18:24:08.270Z"
   },
   {
    "duration": 825,
    "start_time": "2023-06-16T18:24:26.822Z"
   },
   {
    "duration": 417,
    "start_time": "2023-06-16T18:24:34.991Z"
   },
   {
    "duration": 6,
    "start_time": "2023-06-16T18:25:40.310Z"
   },
   {
    "duration": 53,
    "start_time": "2023-06-16T18:26:45.118Z"
   },
   {
    "duration": 60,
    "start_time": "2023-06-16T18:28:36.385Z"
   },
   {
    "duration": 336,
    "start_time": "2023-06-16T18:28:58.631Z"
   },
   {
    "duration": 2729,
    "start_time": "2023-06-16T18:30:17.655Z"
   },
   {
    "duration": 947,
    "start_time": "2023-06-16T18:30:20.387Z"
   },
   {
    "duration": 2419,
    "start_time": "2023-06-16T18:30:36.975Z"
   },
   {
    "duration": 2742,
    "start_time": "2023-06-16T18:30:41.187Z"
   },
   {
    "duration": 351,
    "start_time": "2023-06-16T18:30:46.103Z"
   },
   {
    "duration": 77,
    "start_time": "2023-06-16T18:34:27.839Z"
   },
   {
    "duration": 18,
    "start_time": "2023-06-16T18:34:35.151Z"
   },
   {
    "duration": 33,
    "start_time": "2023-06-16T18:34:47.695Z"
   },
   {
    "duration": 5,
    "start_time": "2023-06-16T18:35:07.393Z"
   },
   {
    "duration": 6,
    "start_time": "2023-06-16T18:35:18.038Z"
   },
   {
    "duration": 34,
    "start_time": "2023-06-16T18:35:38.854Z"
   },
   {
    "duration": 34,
    "start_time": "2023-06-16T18:37:07.807Z"
   },
   {
    "duration": 4,
    "start_time": "2023-06-16T18:37:57.942Z"
   },
   {
    "duration": 5,
    "start_time": "2023-06-16T18:38:08.111Z"
   },
   {
    "duration": 19,
    "start_time": "2023-06-16T18:38:27.639Z"
   },
   {
    "duration": 4,
    "start_time": "2023-06-16T18:38:35.207Z"
   },
   {
    "duration": 57,
    "start_time": "2023-06-16T18:39:03.388Z"
   },
   {
    "duration": 5,
    "start_time": "2023-06-16T18:39:05.351Z"
   },
   {
    "duration": 896,
    "start_time": "2023-06-16T18:39:10.889Z"
   },
   {
    "duration": 4,
    "start_time": "2023-06-16T18:48:45.264Z"
   },
   {
    "duration": 5,
    "start_time": "2023-06-16T18:48:51.608Z"
   },
   {
    "duration": 4,
    "start_time": "2023-06-16T18:48:56.628Z"
   },
   {
    "duration": 5,
    "start_time": "2023-06-16T18:48:59.511Z"
   },
   {
    "duration": 6,
    "start_time": "2023-06-16T18:49:06.807Z"
   },
   {
    "duration": 6,
    "start_time": "2023-06-16T18:49:11.384Z"
   },
   {
    "duration": 839,
    "start_time": "2023-06-16T18:49:51.424Z"
   },
   {
    "duration": 224,
    "start_time": "2023-06-16T18:50:11.144Z"
   },
   {
    "duration": 869,
    "start_time": "2023-06-16T18:50:51.401Z"
   },
   {
    "duration": 1253,
    "start_time": "2023-06-16T18:51:14.112Z"
   },
   {
    "duration": 18,
    "start_time": "2023-06-16T18:51:30.999Z"
   },
   {
    "duration": 5,
    "start_time": "2023-06-16T18:51:54.696Z"
   },
   {
    "duration": 6,
    "start_time": "2023-06-16T18:52:00.088Z"
   },
   {
    "duration": 6,
    "start_time": "2023-06-16T18:52:10.655Z"
   },
   {
    "duration": 5,
    "start_time": "2023-06-16T18:52:24.359Z"
   },
   {
    "duration": 29,
    "start_time": "2023-06-16T18:53:03.656Z"
   },
   {
    "duration": 889,
    "start_time": "2023-06-16T18:53:14.064Z"
   },
   {
    "duration": 71,
    "start_time": "2023-06-16T18:53:19.352Z"
   },
   {
    "duration": 949,
    "start_time": "2023-06-16T18:53:46.768Z"
   },
   {
    "duration": 963,
    "start_time": "2023-06-16T18:53:53.840Z"
   },
   {
    "duration": 974,
    "start_time": "2023-06-16T18:53:56.417Z"
   },
   {
    "duration": 2634,
    "start_time": "2023-06-16T18:55:20.840Z"
   },
   {
    "duration": 997,
    "start_time": "2023-06-16T18:55:23.476Z"
   },
   {
    "duration": 2591,
    "start_time": "2023-06-16T18:56:31.568Z"
   },
   {
    "duration": 966,
    "start_time": "2023-06-16T18:56:34.161Z"
   },
   {
    "duration": 2281,
    "start_time": "2023-06-16T18:56:57.384Z"
   },
   {
    "duration": 2534,
    "start_time": "2023-06-16T18:57:01.992Z"
   },
   {
    "duration": 400110,
    "start_time": "2023-06-16T18:57:06.153Z"
   },
   {
    "duration": 1347,
    "start_time": "2023-06-16T19:03:53.720Z"
   },
   {
    "duration": 728,
    "start_time": "2023-06-16T19:04:23.529Z"
   },
   {
    "duration": 4,
    "start_time": "2023-06-16T19:05:00.169Z"
   },
   {
    "duration": 2251,
    "start_time": "2023-06-16T19:05:27.512Z"
   },
   {
    "duration": 894,
    "start_time": "2023-06-16T19:05:39.897Z"
   },
   {
    "duration": 61,
    "start_time": "2023-06-16T19:05:46.081Z"
   },
   {
    "duration": 3220,
    "start_time": "2023-06-16T19:05:59.176Z"
   },
   {
    "duration": 2530,
    "start_time": "2023-06-16T19:06:13.689Z"
   },
   {
    "duration": 2352,
    "start_time": "2023-06-16T19:06:16.220Z"
   },
   {
    "duration": 2576,
    "start_time": "2023-06-16T19:06:24.400Z"
   },
   {
    "duration": 16604,
    "start_time": "2023-06-16T19:06:26.978Z"
   },
   {
    "duration": 2453,
    "start_time": "2023-06-16T19:06:58.361Z"
   },
   {
    "duration": 2384,
    "start_time": "2023-06-16T19:07:04.296Z"
   },
   {
    "duration": 2684,
    "start_time": "2023-06-16T19:07:12.034Z"
   },
   {
    "duration": 16728,
    "start_time": "2023-06-16T19:07:14.720Z"
   },
   {
    "duration": 2555,
    "start_time": "2023-06-16T19:09:58.329Z"
   },
   {
    "duration": 2302,
    "start_time": "2023-06-16T19:10:00.886Z"
   },
   {
    "duration": 6,
    "start_time": "2023-06-16T19:10:05.849Z"
   },
   {
    "duration": 166,
    "start_time": "2023-06-16T19:11:30.657Z"
   },
   {
    "duration": 4,
    "start_time": "2023-06-16T19:11:35.170Z"
   },
   {
    "duration": 54443,
    "start_time": "2023-06-16T19:11:44.977Z"
   },
   {
    "duration": 5014,
    "start_time": "2023-06-16T19:12:57.026Z"
   },
   {
    "duration": 21,
    "start_time": "2023-06-16T19:13:06.263Z"
   },
   {
    "duration": 4,
    "start_time": "2023-06-16T19:14:51.138Z"
   },
   {
    "duration": 19,
    "start_time": "2023-06-16T19:14:54.161Z"
   },
   {
    "duration": 1282,
    "start_time": "2023-06-16T19:16:18.770Z"
   },
   {
    "duration": 1281,
    "start_time": "2023-06-16T19:16:30.690Z"
   },
   {
    "duration": 17,
    "start_time": "2023-06-16T19:16:44.322Z"
   },
   {
    "duration": 25,
    "start_time": "2023-06-16T19:16:53.497Z"
   },
   {
    "duration": 5,
    "start_time": "2023-06-16T19:17:51.409Z"
   },
   {
    "duration": 15,
    "start_time": "2023-06-16T19:17:54.682Z"
   },
   {
    "duration": 21,
    "start_time": "2023-06-16T19:18:29.170Z"
   },
   {
    "duration": 5,
    "start_time": "2023-06-16T19:18:34.356Z"
   },
   {
    "duration": 22,
    "start_time": "2023-06-16T19:18:44.130Z"
   },
   {
    "duration": 11,
    "start_time": "2023-06-16T19:18:53.395Z"
   },
   {
    "duration": 13,
    "start_time": "2023-06-16T19:19:15.610Z"
   },
   {
    "duration": 4789,
    "start_time": "2023-06-16T19:19:26.522Z"
   },
   {
    "duration": 28,
    "start_time": "2023-06-16T19:19:33.130Z"
   },
   {
    "duration": 22,
    "start_time": "2023-06-16T19:20:23.098Z"
   },
   {
    "duration": 3,
    "start_time": "2023-06-16T19:20:31.691Z"
   },
   {
    "duration": 5,
    "start_time": "2023-06-16T19:20:48.938Z"
   },
   {
    "duration": 4,
    "start_time": "2023-06-16T19:25:23.722Z"
   },
   {
    "duration": 4,
    "start_time": "2023-06-16T19:25:28.010Z"
   },
   {
    "duration": 5,
    "start_time": "2023-06-16T19:25:36.674Z"
   },
   {
    "duration": 5,
    "start_time": "2023-06-16T19:25:52.666Z"
   },
   {
    "duration": 3,
    "start_time": "2023-06-16T19:26:15.619Z"
   },
   {
    "duration": 17,
    "start_time": "2023-06-16T19:26:18.219Z"
   },
   {
    "duration": 4,
    "start_time": "2023-06-16T19:26:41.357Z"
   },
   {
    "duration": 5,
    "start_time": "2023-06-16T19:26:59.730Z"
   },
   {
    "duration": 13,
    "start_time": "2023-06-16T19:27:05.628Z"
   },
   {
    "duration": 4,
    "start_time": "2023-06-16T19:27:26.755Z"
   },
   {
    "duration": 3,
    "start_time": "2023-06-16T19:27:48.404Z"
   },
   {
    "duration": 4,
    "start_time": "2023-06-16T19:27:50.500Z"
   },
   {
    "duration": 4980,
    "start_time": "2023-06-16T19:27:58.299Z"
   },
   {
    "duration": 3,
    "start_time": "2023-06-16T19:28:08.107Z"
   },
   {
    "duration": 3,
    "start_time": "2023-06-16T19:28:12.018Z"
   },
   {
    "duration": 4,
    "start_time": "2023-06-16T19:28:13.755Z"
   },
   {
    "duration": 4,
    "start_time": "2023-06-16T19:28:30.259Z"
   },
   {
    "duration": 4,
    "start_time": "2023-06-16T19:28:32.563Z"
   },
   {
    "duration": 4,
    "start_time": "2023-06-16T19:28:40.746Z"
   },
   {
    "duration": 5,
    "start_time": "2023-06-16T19:29:23.570Z"
   },
   {
    "duration": 5,
    "start_time": "2023-06-16T19:29:32.250Z"
   },
   {
    "duration": 4,
    "start_time": "2023-06-16T19:29:50.331Z"
   },
   {
    "duration": 4,
    "start_time": "2023-06-16T19:30:05.059Z"
   },
   {
    "duration": 5013,
    "start_time": "2023-06-16T19:30:06.834Z"
   },
   {
    "duration": 23,
    "start_time": "2023-06-16T19:30:13.315Z"
   },
   {
    "duration": 4,
    "start_time": "2023-06-16T19:30:37.114Z"
   },
   {
    "duration": 3,
    "start_time": "2023-06-16T19:30:38.891Z"
   },
   {
    "duration": 12,
    "start_time": "2023-06-16T19:30:41.547Z"
   },
   {
    "duration": 5,
    "start_time": "2023-06-16T19:30:46.106Z"
   },
   {
    "duration": 3,
    "start_time": "2023-06-16T19:31:15.475Z"
   },
   {
    "duration": 4,
    "start_time": "2023-06-16T19:31:27.586Z"
   },
   {
    "duration": 21,
    "start_time": "2023-06-16T19:31:31.707Z"
   },
   {
    "duration": 4,
    "start_time": "2023-06-16T19:31:35.084Z"
   },
   {
    "duration": 4,
    "start_time": "2023-06-16T19:31:48.754Z"
   },
   {
    "duration": 4,
    "start_time": "2023-06-16T19:31:59.275Z"
   },
   {
    "duration": 5,
    "start_time": "2023-06-16T19:32:09.603Z"
   },
   {
    "duration": 4,
    "start_time": "2023-06-16T19:32:23.098Z"
   },
   {
    "duration": 4,
    "start_time": "2023-06-16T19:35:01.127Z"
   },
   {
    "duration": 4,
    "start_time": "2023-06-16T19:36:53.068Z"
   },
   {
    "duration": 15,
    "start_time": "2023-06-16T19:36:55.452Z"
   },
   {
    "duration": 1712,
    "start_time": "2023-06-16T19:42:00.074Z"
   },
   {
    "duration": 9,
    "start_time": "2023-06-16T19:42:46.277Z"
   },
   {
    "duration": 6,
    "start_time": "2023-06-16T19:42:50.523Z"
   },
   {
    "duration": 3,
    "start_time": "2023-06-16T19:43:01.700Z"
   },
   {
    "duration": 2836,
    "start_time": "2023-06-16T19:43:02.539Z"
   },
   {
    "duration": 24,
    "start_time": "2023-06-16T19:43:10.107Z"
   },
   {
    "duration": 7,
    "start_time": "2023-06-16T19:43:15.092Z"
   },
   {
    "duration": 6,
    "start_time": "2023-06-16T19:43:35.546Z"
   },
   {
    "duration": 7,
    "start_time": "2023-06-16T19:43:56.260Z"
   },
   {
    "duration": 4,
    "start_time": "2023-06-16T19:44:15.852Z"
   },
   {
    "duration": 5,
    "start_time": "2023-06-16T19:44:27.435Z"
   },
   {
    "duration": 2868,
    "start_time": "2023-06-16T19:44:59.427Z"
   },
   {
    "duration": 2877,
    "start_time": "2023-06-16T19:45:12.420Z"
   },
   {
    "duration": 4,
    "start_time": "2023-06-16T19:45:18.348Z"
   },
   {
    "duration": 3,
    "start_time": "2023-06-16T19:45:24.299Z"
   },
   {
    "duration": 2648,
    "start_time": "2023-06-16T19:45:28.132Z"
   },
   {
    "duration": 2782,
    "start_time": "2023-06-16T19:45:53.085Z"
   },
   {
    "duration": 2813,
    "start_time": "2023-06-16T19:46:10.672Z"
   },
   {
    "duration": 2850,
    "start_time": "2023-06-16T19:46:31.494Z"
   },
   {
    "duration": 63,
    "start_time": "2023-06-16T19:47:03.364Z"
   },
   {
    "duration": 2858,
    "start_time": "2023-06-16T19:47:12.323Z"
   },
   {
    "duration": 67,
    "start_time": "2023-06-16T19:47:23.028Z"
   },
   {
    "duration": 6,
    "start_time": "2023-06-16T19:48:39.372Z"
   },
   {
    "duration": 16,
    "start_time": "2023-06-16T19:49:20.629Z"
   },
   {
    "duration": 20,
    "start_time": "2023-06-16T19:49:23.228Z"
   },
   {
    "duration": 20,
    "start_time": "2023-06-16T19:49:27.387Z"
   },
   {
    "duration": 19,
    "start_time": "2023-06-16T19:49:36.956Z"
   },
   {
    "duration": 21,
    "start_time": "2023-06-16T19:49:42.596Z"
   },
   {
    "duration": 4,
    "start_time": "2023-06-16T19:49:47.476Z"
   },
   {
    "duration": 22,
    "start_time": "2023-06-16T19:49:47.612Z"
   },
   {
    "duration": 5,
    "start_time": "2023-06-16T19:50:07.725Z"
   },
   {
    "duration": 96,
    "start_time": "2023-06-16T19:50:11.237Z"
   },
   {
    "duration": 7,
    "start_time": "2023-06-16T19:50:16.596Z"
   },
   {
    "duration": 5,
    "start_time": "2023-06-16T19:50:23.116Z"
   },
   {
    "duration": 7,
    "start_time": "2023-06-16T19:50:29.700Z"
   },
   {
    "duration": 9,
    "start_time": "2023-06-16T19:50:48.804Z"
   },
   {
    "duration": 18,
    "start_time": "2023-06-16T19:50:58.995Z"
   },
   {
    "duration": 8,
    "start_time": "2023-06-16T19:51:34.524Z"
   },
   {
    "duration": 5,
    "start_time": "2023-06-16T19:51:44.428Z"
   },
   {
    "duration": 6,
    "start_time": "2023-06-16T19:51:57.732Z"
   },
   {
    "duration": 6,
    "start_time": "2023-06-16T19:52:04.748Z"
   },
   {
    "duration": 8,
    "start_time": "2023-06-16T19:52:24.540Z"
   },
   {
    "duration": 8,
    "start_time": "2023-06-16T19:52:28.692Z"
   },
   {
    "duration": 3,
    "start_time": "2023-06-16T19:52:59.357Z"
   },
   {
    "duration": 20,
    "start_time": "2023-06-16T19:53:01.253Z"
   },
   {
    "duration": 6,
    "start_time": "2023-06-16T19:53:30.221Z"
   },
   {
    "duration": 6,
    "start_time": "2023-06-16T19:53:45.900Z"
   },
   {
    "duration": 7,
    "start_time": "2023-06-16T19:54:15.724Z"
   },
   {
    "duration": 6,
    "start_time": "2023-06-16T19:54:21.500Z"
   },
   {
    "duration": 6,
    "start_time": "2023-06-16T19:54:31.148Z"
   },
   {
    "duration": 6,
    "start_time": "2023-06-16T19:54:36.685Z"
   },
   {
    "duration": 6,
    "start_time": "2023-06-16T19:54:57.396Z"
   },
   {
    "duration": 12,
    "start_time": "2023-06-16T19:55:12.540Z"
   },
   {
    "duration": 5,
    "start_time": "2023-06-16T19:55:15.180Z"
   },
   {
    "duration": 4,
    "start_time": "2023-06-16T19:56:10.453Z"
   },
   {
    "duration": 16,
    "start_time": "2023-06-16T19:56:11.740Z"
   },
   {
    "duration": 13,
    "start_time": "2023-06-16T19:56:28.864Z"
   },
   {
    "duration": 6,
    "start_time": "2023-06-16T19:56:44.474Z"
   },
   {
    "duration": 7823,
    "start_time": "2023-06-16T19:56:53.805Z"
   },
   {
    "duration": 21,
    "start_time": "2023-06-16T19:57:11.675Z"
   },
   {
    "duration": 6,
    "start_time": "2023-06-16T19:57:19.533Z"
   },
   {
    "duration": 6,
    "start_time": "2023-06-16T19:57:22.474Z"
   },
   {
    "duration": 989,
    "start_time": "2023-06-16T19:57:35.376Z"
   },
   {
    "duration": 10776,
    "start_time": "2023-06-16T19:57:38.284Z"
   },
   {
    "duration": 8,
    "start_time": "2023-06-16T19:57:52.516Z"
   },
   {
    "duration": 4,
    "start_time": "2023-06-16T19:57:58.213Z"
   },
   {
    "duration": 762,
    "start_time": "2023-06-16T19:58:09.524Z"
   },
   {
    "duration": 6,
    "start_time": "2023-06-16T19:58:12.757Z"
   },
   {
    "duration": 41,
    "start_time": "2023-06-16T19:58:28.237Z"
   },
   {
    "duration": 15,
    "start_time": "2023-06-16T19:58:31.325Z"
   },
   {
    "duration": 14401,
    "start_time": "2023-06-16T19:58:35.700Z"
   },
   {
    "duration": 1624,
    "start_time": "2023-06-16T19:58:53.445Z"
   },
   {
    "duration": 10838,
    "start_time": "2023-06-16T19:58:57.316Z"
   },
   {
    "duration": 7,
    "start_time": "2023-06-16T19:59:13.083Z"
   },
   {
    "duration": 1599,
    "start_time": "2023-06-16T19:59:23.081Z"
   },
   {
    "duration": 7,
    "start_time": "2023-06-16T19:59:26.932Z"
   },
   {
    "duration": 67,
    "start_time": "2023-06-16T19:59:36.949Z"
   },
   {
    "duration": 21,
    "start_time": "2023-06-16T19:59:40.525Z"
   },
   {
    "duration": 35935,
    "start_time": "2023-06-16T19:59:42.881Z"
   },
   {
    "duration": 4174,
    "start_time": "2023-06-16T20:00:18.819Z"
   },
   {
    "duration": 44875,
    "start_time": "2023-06-16T20:00:22.995Z"
   },
   {
    "duration": 8,
    "start_time": "2023-06-16T20:01:17.636Z"
   },
   {
    "duration": 4451,
    "start_time": "2023-06-16T20:01:31.027Z"
   },
   {
    "duration": 7,
    "start_time": "2023-06-16T20:01:38.215Z"
   },
   {
    "duration": 76,
    "start_time": "2023-06-16T20:01:43.036Z"
   },
   {
    "duration": 71434,
    "start_time": "2023-06-16T20:01:43.893Z"
   },
   {
    "duration": 7539,
    "start_time": "2023-06-16T20:02:55.329Z"
   },
   {
    "duration": 54887,
    "start_time": "2023-06-16T20:03:02.870Z"
   },
   {
    "duration": 9,
    "start_time": "2023-06-16T20:04:34.437Z"
   },
   {
    "duration": 8385,
    "start_time": "2023-06-16T20:04:48.230Z"
   },
   {
    "duration": 9,
    "start_time": "2023-06-16T20:05:04.677Z"
   },
   {
    "duration": 112,
    "start_time": "2023-06-16T20:05:36.396Z"
   },
   {
    "duration": 127252,
    "start_time": "2023-06-16T20:05:38.181Z"
   },
   {
    "duration": 12242,
    "start_time": "2023-06-16T20:07:45.436Z"
   },
   {
    "duration": 57275,
    "start_time": "2023-06-16T20:07:57.680Z"
   },
   {
    "duration": 12,
    "start_time": "2023-06-16T20:09:01.933Z"
   },
   {
    "duration": 14861,
    "start_time": "2023-06-16T20:09:08.557Z"
   },
   {
    "duration": 123246,
    "start_time": "2023-06-16T20:09:41.021Z"
   },
   {
    "duration": 10,
    "start_time": "2023-06-16T20:11:49.030Z"
   },
   {
    "duration": 13,
    "start_time": "2023-06-16T20:21:25.789Z"
   },
   {
    "duration": 13,
    "start_time": "2023-06-16T20:21:31.390Z"
   },
   {
    "duration": 16,
    "start_time": "2023-06-16T20:21:48.518Z"
   },
   {
    "duration": 16,
    "start_time": "2023-06-16T20:21:54.951Z"
   },
   {
    "duration": 8,
    "start_time": "2023-06-16T20:22:01.358Z"
   },
   {
    "duration": 2372,
    "start_time": "2023-06-16T20:25:08.309Z"
   },
   {
    "duration": 881,
    "start_time": "2023-06-16T20:25:10.683Z"
   },
   {
    "duration": 7,
    "start_time": "2023-06-16T20:25:11.631Z"
   },
   {
    "duration": 4,
    "start_time": "2023-06-16T20:25:15.222Z"
   },
   {
    "duration": 76,
    "start_time": "2023-06-16T20:25:16.830Z"
   },
   {
    "duration": 6,
    "start_time": "2023-06-16T20:25:40.726Z"
   },
   {
    "duration": 122346,
    "start_time": "2023-06-16T20:26:00.463Z"
   },
   {
    "duration": 11755,
    "start_time": "2023-06-16T20:28:02.811Z"
   },
   {
    "duration": 56992,
    "start_time": "2023-06-16T20:28:14.567Z"
   },
   {
    "duration": 11,
    "start_time": "2023-06-16T20:29:41.847Z"
   },
   {
    "duration": 22774,
    "start_time": "2023-06-16T20:30:29.118Z"
   },
   {
    "duration": 11,
    "start_time": "2023-06-16T20:30:54.640Z"
   },
   {
    "duration": 23,
    "start_time": "2023-06-16T20:31:57.867Z"
   },
   {
    "duration": 739,
    "start_time": "2023-06-16T20:33:06.195Z"
   },
   {
    "duration": 13,
    "start_time": "2023-06-16T20:33:14.164Z"
   },
   {
    "duration": 192263,
    "start_time": "2023-06-16T20:34:00.955Z"
   },
   {
    "duration": 9,
    "start_time": "2023-06-16T20:37:32.064Z"
   },
   {
    "duration": 11,
    "start_time": "2023-06-16T20:37:44.135Z"
   },
   {
    "duration": 91,
    "start_time": "2023-06-16T20:44:38.209Z"
   },
   {
    "duration": 7,
    "start_time": "2023-06-16T20:44:39.939Z"
   },
   {
    "duration": 95146,
    "start_time": "2023-06-16T20:44:47.017Z"
   },
   {
    "duration": 9363,
    "start_time": "2023-06-16T20:46:22.165Z"
   },
   {
    "duration": 50923,
    "start_time": "2023-06-16T20:46:31.530Z"
   },
   {
    "duration": 14,
    "start_time": "2023-06-16T20:48:34.713Z"
   },
   {
    "duration": 14438,
    "start_time": "2023-06-16T20:48:42.803Z"
   },
   {
    "duration": 16,
    "start_time": "2023-06-16T20:49:07.000Z"
   },
   {
    "duration": 87,
    "start_time": "2023-06-16T20:49:17.760Z"
   },
   {
    "duration": 8,
    "start_time": "2023-06-16T20:49:21.344Z"
   },
   {
    "duration": 17,
    "start_time": "2023-06-16T20:49:23.047Z"
   },
   {
    "duration": 5,
    "start_time": "2023-06-16T20:49:55.264Z"
   },
   {
    "duration": 13,
    "start_time": "2023-06-16T20:49:59.665Z"
   },
   {
    "duration": 14,
    "start_time": "2023-06-16T20:50:32.376Z"
   },
   {
    "duration": 2552,
    "start_time": "2023-06-16T20:51:33.526Z"
   },
   {
    "duration": 917,
    "start_time": "2023-06-16T20:51:36.080Z"
   },
   {
    "duration": 5,
    "start_time": "2023-06-16T20:51:37.796Z"
   },
   {
    "duration": 61,
    "start_time": "2023-06-16T20:51:39.768Z"
   },
   {
    "duration": 7,
    "start_time": "2023-06-16T20:51:40.786Z"
   },
   {
    "duration": 169,
    "start_time": "2023-06-16T20:51:41.920Z"
   },
   {
    "duration": 95056,
    "start_time": "2023-06-16T20:52:14.702Z"
   },
   {
    "duration": 102452,
    "start_time": "2023-06-16T20:56:36.986Z"
   },
   {
    "duration": 24,
    "start_time": "2023-06-16T20:58:41.653Z"
   },
   {
    "duration": 9349,
    "start_time": "2023-06-16T20:58:43.411Z"
   },
   {
    "duration": 24631,
    "start_time": "2023-06-16T20:58:52.762Z"
   },
   {
    "duration": 2568,
    "start_time": "2023-06-16T20:59:30.946Z"
   },
   {
    "duration": 849,
    "start_time": "2023-06-16T20:59:33.516Z"
   },
   {
    "duration": 5,
    "start_time": "2023-06-16T20:59:34.367Z"
   },
   {
    "duration": 4,
    "start_time": "2023-06-16T20:59:34.591Z"
   },
   {
    "duration": 59,
    "start_time": "2023-06-16T20:59:38.719Z"
   },
   {
    "duration": 5,
    "start_time": "2023-06-16T20:59:41.195Z"
   },
   {
    "duration": 103098,
    "start_time": "2023-06-16T20:59:48.774Z"
   },
   {
    "duration": 24,
    "start_time": "2023-06-16T21:01:40.984Z"
   },
   {
    "duration": 6,
    "start_time": "2023-06-16T21:01:57.403Z"
   },
   {
    "duration": 4,
    "start_time": "2023-06-16T21:02:11.603Z"
   },
   {
    "duration": 4,
    "start_time": "2023-06-16T21:02:23.029Z"
   },
   {
    "duration": 4,
    "start_time": "2023-06-16T21:02:32.915Z"
   },
   {
    "duration": 4,
    "start_time": "2023-06-16T21:02:58.862Z"
   },
   {
    "duration": 90,
    "start_time": "2023-06-16T21:06:30.110Z"
   },
   {
    "duration": 2046,
    "start_time": "2023-06-16T21:06:32.507Z"
   },
   {
    "duration": 1574,
    "start_time": "2023-06-16T21:07:00.851Z"
   },
   {
    "duration": 70,
    "start_time": "2023-06-16T21:07:22.890Z"
   },
   {
    "duration": 1628,
    "start_time": "2023-06-16T21:07:25.181Z"
   },
   {
    "duration": 18124,
    "start_time": "2023-06-16T21:08:29.976Z"
   },
   {
    "duration": 41,
    "start_time": "2023-06-16T21:09:37.383Z"
   },
   {
    "duration": 2640,
    "start_time": "2023-06-16T21:09:46.919Z"
   },
   {
    "duration": 877,
    "start_time": "2023-06-16T21:09:49.563Z"
   },
   {
    "duration": 4,
    "start_time": "2023-06-16T21:09:50.453Z"
   },
   {
    "duration": 63,
    "start_time": "2023-06-16T21:09:51.959Z"
   },
   {
    "duration": 1892,
    "start_time": "2023-06-16T21:09:54.411Z"
   },
   {
    "duration": 3,
    "start_time": "2023-06-16T21:12:17.818Z"
   },
   {
    "duration": 2144,
    "start_time": "2023-06-16T21:12:27.449Z"
   },
   {
    "duration": 1617,
    "start_time": "2023-06-16T21:16:14.917Z"
   },
   {
    "duration": 1732,
    "start_time": "2023-06-16T21:17:42.781Z"
   },
   {
    "duration": 3,
    "start_time": "2023-06-16T21:18:24.365Z"
   },
   {
    "duration": 5,
    "start_time": "2023-06-16T21:18:30.167Z"
   },
   {
    "duration": 5,
    "start_time": "2023-06-16T21:18:34.034Z"
   },
   {
    "duration": 4,
    "start_time": "2023-06-16T21:19:02.306Z"
   },
   {
    "duration": 4,
    "start_time": "2023-06-16T21:19:18.734Z"
   },
   {
    "duration": 6,
    "start_time": "2023-06-16T21:19:22.446Z"
   },
   {
    "duration": 5,
    "start_time": "2023-06-16T21:19:28.229Z"
   },
   {
    "duration": 6,
    "start_time": "2023-06-16T21:19:35.320Z"
   },
   {
    "duration": 2578,
    "start_time": "2023-06-16T21:20:05.704Z"
   },
   {
    "duration": 858,
    "start_time": "2023-06-16T21:20:08.284Z"
   },
   {
    "duration": 14,
    "start_time": "2023-06-16T21:20:09.143Z"
   },
   {
    "duration": 12,
    "start_time": "2023-06-16T21:20:09.159Z"
   },
   {
    "duration": 62,
    "start_time": "2023-06-16T21:20:10.181Z"
   },
   {
    "duration": 6,
    "start_time": "2023-06-16T21:20:13.588Z"
   },
   {
    "duration": 1955,
    "start_time": "2023-06-16T21:20:20.256Z"
   },
   {
    "duration": 1745,
    "start_time": "2023-06-16T21:20:28.247Z"
   },
   {
    "duration": 1657,
    "start_time": "2023-06-16T21:20:40.021Z"
   },
   {
    "duration": 5,
    "start_time": "2023-06-16T21:23:15.476Z"
   },
   {
    "duration": 5,
    "start_time": "2023-06-16T21:24:33.850Z"
   },
   {
    "duration": 4,
    "start_time": "2023-06-16T21:25:07.507Z"
   },
   {
    "duration": 6,
    "start_time": "2023-06-16T21:29:18.181Z"
   },
   {
    "duration": 14,
    "start_time": "2023-06-16T21:29:21.716Z"
   },
   {
    "duration": 359,
    "start_time": "2023-06-16T21:35:58.117Z"
   },
   {
    "duration": 72508,
    "start_time": "2023-06-16T21:37:37.287Z"
   },
   {
    "duration": 102155,
    "start_time": "2023-06-16T21:38:54.566Z"
   },
   {
    "duration": 50668,
    "start_time": "2023-06-16T21:42:30.566Z"
   },
   {
    "duration": 2813,
    "start_time": "2023-06-16T21:43:30.356Z"
   },
   {
    "duration": 887,
    "start_time": "2023-06-16T21:43:33.171Z"
   },
   {
    "duration": 8,
    "start_time": "2023-06-16T21:43:34.060Z"
   },
   {
    "duration": 15,
    "start_time": "2023-06-16T21:43:34.069Z"
   },
   {
    "duration": 84,
    "start_time": "2023-06-16T21:43:34.086Z"
   },
   {
    "duration": 8,
    "start_time": "2023-06-16T21:43:34.174Z"
   },
   {
    "duration": 105033,
    "start_time": "2023-06-16T21:44:04.558Z"
   },
   {
    "duration": 10237,
    "start_time": "2023-06-16T21:47:12.123Z"
   },
   {
    "duration": 50795,
    "start_time": "2023-06-16T21:47:22.362Z"
   },
   {
    "duration": 14,
    "start_time": "2023-06-16T21:48:18.012Z"
   },
   {
    "duration": 2599,
    "start_time": "2023-06-16T21:48:55.832Z"
   },
   {
    "duration": 882,
    "start_time": "2023-06-16T21:48:58.433Z"
   },
   {
    "duration": 5,
    "start_time": "2023-06-16T21:48:59.317Z"
   },
   {
    "duration": 12,
    "start_time": "2023-06-16T21:48:59.323Z"
   },
   {
    "duration": 75,
    "start_time": "2023-06-16T21:48:59.337Z"
   },
   {
    "duration": 5,
    "start_time": "2023-06-16T21:48:59.414Z"
   },
   {
    "duration": 93921,
    "start_time": "2023-06-16T21:48:59.421Z"
   },
   {
    "duration": 9734,
    "start_time": "2023-06-16T21:50:33.344Z"
   },
   {
    "duration": 51591,
    "start_time": "2023-06-16T21:50:43.080Z"
   },
   {
    "duration": 14,
    "start_time": "2023-06-16T21:51:43.064Z"
   },
   {
    "duration": 169,
    "start_time": "2023-06-16T21:55:44.013Z"
   },
   {
    "duration": 6,
    "start_time": "2023-06-16T21:55:57.332Z"
   },
   {
    "duration": 2554,
    "start_time": "2023-06-16T21:56:10.874Z"
   },
   {
    "duration": 951,
    "start_time": "2023-06-16T21:56:13.430Z"
   },
   {
    "duration": 6,
    "start_time": "2023-06-16T21:56:14.383Z"
   },
   {
    "duration": 36,
    "start_time": "2023-06-16T21:56:14.390Z"
   },
   {
    "duration": 70,
    "start_time": "2023-06-16T21:56:14.428Z"
   },
   {
    "duration": 6,
    "start_time": "2023-06-16T21:56:14.500Z"
   },
   {
    "duration": 79550,
    "start_time": "2023-06-16T21:56:14.509Z"
   },
   {
    "duration": 2662,
    "start_time": "2023-06-16T21:58:12.197Z"
   },
   {
    "duration": 852,
    "start_time": "2023-06-16T21:58:14.861Z"
   },
   {
    "duration": 6,
    "start_time": "2023-06-16T21:58:15.714Z"
   },
   {
    "duration": 23,
    "start_time": "2023-06-16T21:58:15.721Z"
   },
   {
    "duration": 77,
    "start_time": "2023-06-16T21:58:15.746Z"
   },
   {
    "duration": 5,
    "start_time": "2023-06-16T21:58:15.825Z"
   },
   {
    "duration": 5,
    "start_time": "2023-06-16T21:58:25.246Z"
   },
   {
    "duration": 5,
    "start_time": "2023-06-16T21:58:32.992Z"
   },
   {
    "duration": 8,
    "start_time": "2023-06-16T21:58:50.293Z"
   },
   {
    "duration": 771,
    "start_time": "2023-06-16T21:59:01.711Z"
   },
   {
    "duration": 11,
    "start_time": "2023-06-16T21:59:57.148Z"
   },
   {
    "duration": 14,
    "start_time": "2023-06-16T22:00:56.578Z"
   },
   {
    "duration": 15,
    "start_time": "2023-06-16T22:01:17.056Z"
   },
   {
    "duration": 15,
    "start_time": "2023-06-16T22:02:47.260Z"
   },
   {
    "duration": 5186,
    "start_time": "2023-06-16T22:03:50.658Z"
   },
   {
    "duration": 2583,
    "start_time": "2023-06-16T22:04:04.546Z"
   },
   {
    "duration": 897,
    "start_time": "2023-06-16T22:04:07.132Z"
   },
   {
    "duration": 6,
    "start_time": "2023-06-16T22:04:08.031Z"
   },
   {
    "duration": 17,
    "start_time": "2023-06-16T22:04:08.038Z"
   },
   {
    "duration": 74,
    "start_time": "2023-06-16T22:04:08.057Z"
   },
   {
    "duration": 6,
    "start_time": "2023-06-16T22:04:08.133Z"
   },
   {
    "duration": 765,
    "start_time": "2023-06-16T22:04:08.141Z"
   },
   {
    "duration": 3,
    "start_time": "2023-06-16T22:04:15.429Z"
   },
   {
    "duration": 9543,
    "start_time": "2023-06-16T22:04:31.165Z"
   },
   {
    "duration": 10528,
    "start_time": "2023-06-16T22:04:53.011Z"
   },
   {
    "duration": 2619,
    "start_time": "2023-06-16T22:07:52.263Z"
   },
   {
    "duration": 2278,
    "start_time": "2023-06-16T22:07:54.884Z"
   },
   {
    "duration": 5,
    "start_time": "2023-06-16T22:07:57.164Z"
   },
   {
    "duration": 23,
    "start_time": "2023-06-16T22:07:57.171Z"
   },
   {
    "duration": 77,
    "start_time": "2023-06-16T22:07:57.196Z"
   },
   {
    "duration": 6,
    "start_time": "2023-06-16T22:07:57.275Z"
   },
   {
    "duration": 9,
    "start_time": "2023-06-16T22:07:57.283Z"
   },
   {
    "duration": 26789,
    "start_time": "2023-06-16T22:08:10.396Z"
   },
   {
    "duration": 8430,
    "start_time": "2023-06-16T22:09:03.890Z"
   },
   {
    "duration": 4388,
    "start_time": "2023-06-16T22:09:27.188Z"
   },
   {
    "duration": 8901,
    "start_time": "2023-06-16T22:09:42.535Z"
   },
   {
    "duration": 9162,
    "start_time": "2023-06-16T22:10:04.833Z"
   },
   {
    "duration": 2490,
    "start_time": "2023-06-16T22:10:31.211Z"
   },
   {
    "duration": 840,
    "start_time": "2023-06-16T22:10:33.703Z"
   },
   {
    "duration": 10,
    "start_time": "2023-06-16T22:10:34.545Z"
   },
   {
    "duration": 26,
    "start_time": "2023-06-16T22:10:34.557Z"
   },
   {
    "duration": 73,
    "start_time": "2023-06-16T22:10:34.585Z"
   },
   {
    "duration": 7,
    "start_time": "2023-06-16T22:10:34.660Z"
   },
   {
    "duration": 4,
    "start_time": "2023-06-16T22:10:34.669Z"
   },
   {
    "duration": 102253,
    "start_time": "2023-06-16T22:10:35.367Z"
   },
   {
    "duration": 10495,
    "start_time": "2023-06-16T22:12:17.623Z"
   },
   {
    "duration": 53442,
    "start_time": "2023-06-16T22:12:28.120Z"
   },
   {
    "duration": 13,
    "start_time": "2023-06-16T22:13:28.096Z"
   },
   {
    "duration": 14942,
    "start_time": "2023-06-16T22:13:38.735Z"
   },
   {
    "duration": 14,
    "start_time": "2023-06-16T22:13:55.239Z"
   },
   {
    "duration": 156403,
    "start_time": "2023-06-16T22:13:58.223Z"
   },
   {
    "duration": 15,
    "start_time": "2023-06-16T22:16:37.837Z"
   },
   {
    "duration": 184,
    "start_time": "2023-06-16T22:16:55.415Z"
   },
   {
    "duration": 14,
    "start_time": "2023-06-16T22:17:11.096Z"
   },
   {
    "duration": 394,
    "start_time": "2023-06-16T22:17:38.160Z"
   },
   {
    "duration": 381,
    "start_time": "2023-06-16T22:17:43.688Z"
   },
   {
    "duration": 371,
    "start_time": "2023-06-16T22:17:54.429Z"
   },
   {
    "duration": 364,
    "start_time": "2023-06-16T22:18:09.001Z"
   },
   {
    "duration": 384,
    "start_time": "2023-06-16T22:18:17.504Z"
   },
   {
    "duration": 10035,
    "start_time": "2023-06-16T22:21:16.819Z"
   },
   {
    "duration": 13,
    "start_time": "2023-06-16T22:21:29.179Z"
   },
   {
    "duration": 16,
    "start_time": "2023-06-16T22:21:38.258Z"
   },
   {
    "duration": 4306,
    "start_time": "2023-06-16T22:21:45.250Z"
   },
   {
    "duration": 14,
    "start_time": "2023-06-16T22:21:51.226Z"
   },
   {
    "duration": 17,
    "start_time": "2023-06-16T22:21:55.994Z"
   },
   {
    "duration": 23837,
    "start_time": "2023-06-16T22:22:00.018Z"
   },
   {
    "duration": 14,
    "start_time": "2023-06-16T22:22:25.604Z"
   },
   {
    "duration": 16,
    "start_time": "2023-06-16T22:22:30.138Z"
   },
   {
    "duration": 51802,
    "start_time": "2023-06-16T22:22:35.756Z"
   },
   {
    "duration": 14,
    "start_time": "2023-06-16T22:23:41.112Z"
   },
   {
    "duration": 15,
    "start_time": "2023-06-16T22:23:45.137Z"
   },
   {
    "duration": 205891,
    "start_time": "2023-06-16T22:26:15.281Z"
   },
   {
    "duration": 14,
    "start_time": "2023-06-16T22:29:54.960Z"
   },
   {
    "duration": 376,
    "start_time": "2023-06-16T22:30:01.232Z"
   },
   {
    "duration": 2772,
    "start_time": "2023-06-17T07:20:16.026Z"
   },
   {
    "duration": 2919,
    "start_time": "2023-06-17T07:20:18.804Z"
   },
   {
    "duration": 7,
    "start_time": "2023-06-17T07:20:21.725Z"
   },
   {
    "duration": 12,
    "start_time": "2023-06-17T07:20:21.735Z"
   },
   {
    "duration": 110,
    "start_time": "2023-06-17T07:20:21.749Z"
   },
   {
    "duration": 5,
    "start_time": "2023-06-17T07:20:21.861Z"
   },
   {
    "duration": 86182,
    "start_time": "2023-06-17T07:20:25.268Z"
   },
   {
    "duration": 652,
    "start_time": "2023-06-17T07:22:44.157Z"
   },
   {
    "duration": 86115,
    "start_time": "2023-06-17T07:23:27.302Z"
   },
   {
    "duration": 5,
    "start_time": "2023-06-17T07:25:34.651Z"
   },
   {
    "duration": 7,
    "start_time": "2023-06-17T07:25:45.795Z"
   },
   {
    "duration": 80,
    "start_time": "2023-06-17T07:25:55.028Z"
   },
   {
    "duration": 5,
    "start_time": "2023-06-17T07:25:59.075Z"
   },
   {
    "duration": 5,
    "start_time": "2023-06-17T07:26:02.627Z"
   },
   {
    "duration": 8,
    "start_time": "2023-06-17T07:26:11.405Z"
   },
   {
    "duration": 2778,
    "start_time": "2023-06-17T07:26:21.355Z"
   },
   {
    "duration": 11,
    "start_time": "2023-06-17T07:26:32.479Z"
   },
   {
    "duration": 3518,
    "start_time": "2023-06-17T07:26:48.005Z"
   },
   {
    "duration": 12,
    "start_time": "2023-06-17T07:27:02.403Z"
   },
   {
    "duration": 2592,
    "start_time": "2023-06-17T07:27:43.428Z"
   },
   {
    "duration": 2136,
    "start_time": "2023-06-17T07:27:46.022Z"
   },
   {
    "duration": 6,
    "start_time": "2023-06-17T07:27:48.159Z"
   },
   {
    "duration": 5,
    "start_time": "2023-06-17T07:27:48.166Z"
   },
   {
    "duration": 84,
    "start_time": "2023-06-17T07:27:48.184Z"
   },
   {
    "duration": 6,
    "start_time": "2023-06-17T07:27:48.269Z"
   },
   {
    "duration": 3330,
    "start_time": "2023-06-17T07:30:09.501Z"
   },
   {
    "duration": 3022,
    "start_time": "2023-06-17T07:30:12.833Z"
   },
   {
    "duration": 5,
    "start_time": "2023-06-17T07:30:15.858Z"
   },
   {
    "duration": 54,
    "start_time": "2023-06-17T07:30:15.865Z"
   },
   {
    "duration": 130,
    "start_time": "2023-06-17T07:30:15.928Z"
   },
   {
    "duration": 46,
    "start_time": "2023-06-17T07:30:16.059Z"
   },
   {
    "duration": 3321,
    "start_time": "2023-06-17T07:31:04.655Z"
   },
   {
    "duration": 918,
    "start_time": "2023-06-17T07:31:07.984Z"
   },
   {
    "duration": 6,
    "start_time": "2023-06-17T07:31:08.906Z"
   },
   {
    "duration": 6,
    "start_time": "2023-06-17T07:31:08.913Z"
   },
   {
    "duration": 28,
    "start_time": "2023-06-17T07:31:08.921Z"
   },
   {
    "duration": 5,
    "start_time": "2023-06-17T07:31:08.950Z"
   },
   {
    "duration": 8475,
    "start_time": "2023-06-17T07:31:08.956Z"
   },
   {
    "duration": 1105,
    "start_time": "2023-06-17T07:31:20.411Z"
   },
   {
    "duration": 12123,
    "start_time": "2023-06-17T07:31:25.987Z"
   },
   {
    "duration": 8,
    "start_time": "2023-06-17T07:31:40.626Z"
   },
   {
    "duration": 657,
    "start_time": "2023-06-17T07:31:45.604Z"
   },
   {
    "duration": 7,
    "start_time": "2023-06-17T07:31:48.067Z"
   },
   {
    "duration": 4,
    "start_time": "2023-06-17T07:31:58.743Z"
   },
   {
    "duration": 17001,
    "start_time": "2023-06-17T07:32:22.339Z"
   },
   {
    "duration": 7,
    "start_time": "2023-06-17T07:32:42.210Z"
   },
   {
    "duration": 3370,
    "start_time": "2023-06-17T07:33:04.147Z"
   },
   {
    "duration": 920,
    "start_time": "2023-06-17T07:33:07.519Z"
   },
   {
    "duration": 5,
    "start_time": "2023-06-17T07:33:08.444Z"
   },
   {
    "duration": 31,
    "start_time": "2023-06-17T07:33:08.452Z"
   },
   {
    "duration": 55,
    "start_time": "2023-06-17T07:33:08.484Z"
   },
   {
    "duration": 6,
    "start_time": "2023-06-17T07:33:08.540Z"
   },
   {
    "duration": 39331,
    "start_time": "2023-06-17T07:33:08.547Z"
   },
   {
    "duration": 4763,
    "start_time": "2023-06-17T07:33:47.880Z"
   },
   {
    "duration": 40162,
    "start_time": "2023-06-17T07:33:52.644Z"
   },
   {
    "duration": 23,
    "start_time": "2023-06-17T07:34:32.877Z"
   },
   {
    "duration": 3515,
    "start_time": "2023-06-17T07:34:32.903Z"
   },
   {
    "duration": 10,
    "start_time": "2023-06-17T07:34:36.422Z"
   },
   {
    "duration": 64437,
    "start_time": "2023-06-17T07:34:36.436Z"
   },
   {
    "duration": 16,
    "start_time": "2023-06-17T07:35:40.877Z"
   },
   {
    "duration": 155,
    "start_time": "2023-06-17T07:35:40.895Z"
   },
   {
    "duration": 78,
    "start_time": "2023-06-17T07:36:03.731Z"
   },
   {
    "duration": 5,
    "start_time": "2023-06-17T07:36:04.051Z"
   },
   {
    "duration": 2755,
    "start_time": "2023-06-17T07:39:38.589Z"
   },
   {
    "duration": 2796,
    "start_time": "2023-06-17T07:39:41.345Z"
   },
   {
    "duration": 5,
    "start_time": "2023-06-17T07:39:44.143Z"
   },
   {
    "duration": 17,
    "start_time": "2023-06-17T07:39:44.149Z"
   },
   {
    "duration": 70,
    "start_time": "2023-06-17T07:39:44.168Z"
   },
   {
    "duration": 5,
    "start_time": "2023-06-17T07:39:44.240Z"
   },
   {
    "duration": 49779,
    "start_time": "2023-06-17T07:39:48.602Z"
   },
   {
    "duration": 4932,
    "start_time": "2023-06-17T07:41:21.499Z"
   },
   {
    "duration": 5,
    "start_time": "2023-06-17T07:42:19.173Z"
   },
   {
    "duration": 24,
    "start_time": "2023-06-17T07:42:49.813Z"
   },
   {
    "duration": 2794,
    "start_time": "2023-06-17T07:43:12.096Z"
   },
   {
    "duration": 870,
    "start_time": "2023-06-17T07:43:14.893Z"
   },
   {
    "duration": 19,
    "start_time": "2023-06-17T07:43:15.765Z"
   },
   {
    "duration": 7,
    "start_time": "2023-06-17T07:43:15.786Z"
   },
   {
    "duration": 67,
    "start_time": "2023-06-17T07:43:15.795Z"
   },
   {
    "duration": 5,
    "start_time": "2023-06-17T07:43:15.864Z"
   },
   {
    "duration": 63819,
    "start_time": "2023-06-17T07:43:15.871Z"
   },
   {
    "duration": 6418,
    "start_time": "2023-06-17T07:44:19.692Z"
   },
   {
    "duration": 32576,
    "start_time": "2023-06-17T07:44:26.112Z"
   },
   {
    "duration": 11,
    "start_time": "2023-06-17T07:45:05.210Z"
   },
   {
    "duration": 85,
    "start_time": "2023-06-17T07:45:16.642Z"
   },
   {
    "duration": 8,
    "start_time": "2023-06-17T07:45:17.858Z"
   },
   {
    "duration": 99971,
    "start_time": "2023-06-17T07:45:19.796Z"
   },
   {
    "duration": 9013,
    "start_time": "2023-06-17T07:46:59.774Z"
   },
   {
    "duration": 53594,
    "start_time": "2023-06-17T07:47:08.789Z"
   },
   {
    "duration": 15,
    "start_time": "2023-06-17T07:48:08.539Z"
   },
   {
    "duration": 18,
    "start_time": "2023-06-17T07:48:52.459Z"
   },
   {
    "duration": 52261,
    "start_time": "2023-06-17T07:49:28.139Z"
   },
   {
    "duration": 12,
    "start_time": "2023-06-17T07:50:42.932Z"
   },
   {
    "duration": 16,
    "start_time": "2023-06-17T07:50:52.915Z"
   },
   {
    "duration": 102,
    "start_time": "2023-06-17T07:52:25.171Z"
   },
   {
    "duration": 7,
    "start_time": "2023-06-17T07:52:29.963Z"
   },
   {
    "duration": 2248,
    "start_time": "2023-06-17T07:52:38.389Z"
   },
   {
    "duration": 57,
    "start_time": "2023-06-17T07:53:21.874Z"
   },
   {
    "duration": 2707,
    "start_time": "2023-06-17T07:53:44.895Z"
   },
   {
    "duration": 2501,
    "start_time": "2023-06-17T07:53:47.605Z"
   },
   {
    "duration": 6,
    "start_time": "2023-06-17T07:53:50.107Z"
   },
   {
    "duration": 8,
    "start_time": "2023-06-17T07:53:50.114Z"
   },
   {
    "duration": 74,
    "start_time": "2023-06-17T07:53:50.124Z"
   },
   {
    "duration": 3085,
    "start_time": "2023-06-17T07:54:08.743Z"
   },
   {
    "duration": 2884,
    "start_time": "2023-06-17T07:54:11.829Z"
   },
   {
    "duration": 7,
    "start_time": "2023-06-17T07:54:14.715Z"
   },
   {
    "duration": 7,
    "start_time": "2023-06-17T07:54:14.724Z"
   },
   {
    "duration": 78,
    "start_time": "2023-06-17T07:54:14.733Z"
   },
   {
    "duration": 2722,
    "start_time": "2023-06-17T07:54:33.334Z"
   },
   {
    "duration": 2662,
    "start_time": "2023-06-17T07:54:36.058Z"
   },
   {
    "duration": 6,
    "start_time": "2023-06-17T07:54:38.721Z"
   },
   {
    "duration": 4,
    "start_time": "2023-06-17T07:54:38.729Z"
   },
   {
    "duration": 74,
    "start_time": "2023-06-17T07:54:38.735Z"
   },
   {
    "duration": 2189,
    "start_time": "2023-06-17T07:54:42.511Z"
   },
   {
    "duration": 2909,
    "start_time": "2023-06-17T07:55:12.177Z"
   },
   {
    "duration": 2596,
    "start_time": "2023-06-17T07:55:15.096Z"
   },
   {
    "duration": 6,
    "start_time": "2023-06-17T07:55:17.695Z"
   },
   {
    "duration": 5,
    "start_time": "2023-06-17T07:55:17.703Z"
   },
   {
    "duration": 81,
    "start_time": "2023-06-17T07:55:17.709Z"
   },
   {
    "duration": 2234,
    "start_time": "2023-06-17T07:55:17.792Z"
   },
   {
    "duration": 2819,
    "start_time": "2023-06-17T07:56:01.732Z"
   },
   {
    "duration": 2591,
    "start_time": "2023-06-17T07:56:04.553Z"
   },
   {
    "duration": 5,
    "start_time": "2023-06-17T07:56:07.146Z"
   },
   {
    "duration": 3,
    "start_time": "2023-06-17T07:56:07.153Z"
   },
   {
    "duration": 33,
    "start_time": "2023-06-17T07:56:07.158Z"
   },
   {
    "duration": 149,
    "start_time": "2023-06-17T07:56:07.193Z"
   },
   {
    "duration": 52,
    "start_time": "2023-06-17T07:56:09.822Z"
   },
   {
    "duration": 6,
    "start_time": "2023-06-17T07:56:12.069Z"
   },
   {
    "duration": 7617,
    "start_time": "2023-06-17T07:56:13.494Z"
   },
   {
    "duration": 926,
    "start_time": "2023-06-17T07:56:25.407Z"
   },
   {
    "duration": 12903,
    "start_time": "2023-06-17T07:56:27.790Z"
   },
   {
    "duration": 7,
    "start_time": "2023-06-17T07:56:44.318Z"
   },
   {
    "duration": 50,
    "start_time": "2023-06-17T07:56:56.751Z"
   },
   {
    "duration": 719,
    "start_time": "2023-06-17T07:56:57.462Z"
   },
   {
    "duration": 258,
    "start_time": "2023-06-17T07:56:58.870Z"
   },
   {
    "duration": 7,
    "start_time": "2023-06-17T07:57:00.734Z"
   },
   {
    "duration": 34845,
    "start_time": "2023-06-17T07:57:01.958Z"
   },
   {
    "duration": 2937,
    "start_time": "2023-06-17T07:57:36.805Z"
   },
   {
    "duration": 39442,
    "start_time": "2023-06-17T07:57:39.743Z"
   },
   {
    "duration": 12,
    "start_time": "2023-06-17T07:58:25.682Z"
   },
   {
    "duration": 61,
    "start_time": "2023-06-17T08:05:33.447Z"
   },
   {
    "duration": 6,
    "start_time": "2023-06-17T08:05:35.494Z"
   },
   {
    "duration": 34423,
    "start_time": "2023-06-17T08:05:36.589Z"
   },
   {
    "duration": 3114,
    "start_time": "2023-06-17T08:06:14.503Z"
   },
   {
    "duration": 40565,
    "start_time": "2023-06-17T08:06:17.619Z"
   },
   {
    "duration": 10,
    "start_time": "2023-06-17T08:07:03.398Z"
   },
   {
    "duration": 2743,
    "start_time": "2023-06-17T08:08:24.673Z"
   },
   {
    "duration": 947,
    "start_time": "2023-06-17T08:08:27.418Z"
   },
   {
    "duration": 13,
    "start_time": "2023-06-17T08:08:28.368Z"
   },
   {
    "duration": 34,
    "start_time": "2023-06-17T08:08:28.389Z"
   },
   {
    "duration": 17,
    "start_time": "2023-06-17T08:08:28.426Z"
   },
   {
    "duration": 6,
    "start_time": "2023-06-17T08:08:28.445Z"
   },
   {
    "duration": 8023,
    "start_time": "2023-06-17T08:08:35.208Z"
   },
   {
    "duration": 1125,
    "start_time": "2023-06-17T08:08:54.727Z"
   },
   {
    "duration": 12144,
    "start_time": "2023-06-17T08:08:55.854Z"
   },
   {
    "duration": 8,
    "start_time": "2023-06-17T08:09:10.488Z"
   },
   {
    "duration": 32,
    "start_time": "2023-06-17T08:09:29.615Z"
   },
   {
    "duration": 7,
    "start_time": "2023-06-17T08:09:29.998Z"
   },
   {
    "duration": 7355,
    "start_time": "2023-06-17T08:09:32.472Z"
   },
   {
    "duration": 676,
    "start_time": "2023-06-17T08:09:40.647Z"
   },
   {
    "duration": 11850,
    "start_time": "2023-06-17T08:09:44.334Z"
   },
   {
    "duration": 8,
    "start_time": "2023-06-17T08:09:59.031Z"
   },
   {
    "duration": 4,
    "start_time": "2023-06-17T08:10:41.864Z"
   },
   {
    "duration": 31,
    "start_time": "2023-06-17T08:10:47.143Z"
   },
   {
    "duration": 6,
    "start_time": "2023-06-17T08:10:47.304Z"
   },
   {
    "duration": 9182,
    "start_time": "2023-06-17T08:10:48.502Z"
   },
   {
    "duration": 5,
    "start_time": "2023-06-17T08:10:58.405Z"
   },
   {
    "duration": 2445,
    "start_time": "2023-06-17T08:13:01.920Z"
   },
   {
    "duration": 51,
    "start_time": "2023-06-17T08:17:26.496Z"
   },
   {
    "duration": 1491,
    "start_time": "2023-06-17T08:17:29.120Z"
   },
   {
    "duration": 121792,
    "start_time": "2023-06-17T08:17:52.251Z"
   },
   {
    "duration": 913,
    "start_time": "2023-06-17T08:20:37.912Z"
   },
   {
    "duration": 6475,
    "start_time": "2023-06-17T08:20:40.008Z"
   },
   {
    "duration": 8,
    "start_time": "2023-06-17T08:21:13.063Z"
   },
   {
    "duration": 80,
    "start_time": "2023-06-17T08:21:44.751Z"
   },
   {
    "duration": 8,
    "start_time": "2023-06-17T08:21:45.689Z"
   },
   {
    "duration": 5501,
    "start_time": "2023-06-17T08:27:32.705Z"
   },
   {
    "duration": 960,
    "start_time": "2023-06-17T08:27:38.210Z"
   },
   {
    "duration": 10,
    "start_time": "2023-06-17T08:27:39.177Z"
   },
   {
    "duration": 43,
    "start_time": "2023-06-17T08:27:39.190Z"
   },
   {
    "duration": 29,
    "start_time": "2023-06-17T08:27:39.235Z"
   },
   {
    "duration": 44,
    "start_time": "2023-06-17T08:27:39.266Z"
   },
   {
    "duration": 126029,
    "start_time": "2023-06-17T08:27:49.357Z"
   },
   {
    "duration": 889,
    "start_time": "2023-06-17T08:29:58.152Z"
   },
   {
    "duration": 10228,
    "start_time": "2023-06-17T08:29:59.064Z"
   },
   {
    "duration": 6,
    "start_time": "2023-06-17T08:30:22.624Z"
   },
   {
    "duration": 13,
    "start_time": "2023-06-17T08:31:25.397Z"
   },
   {
    "duration": 8,
    "start_time": "2023-06-17T08:31:27.596Z"
   },
   {
    "duration": 104129,
    "start_time": "2023-06-17T08:31:28.706Z"
   },
   {
    "duration": 584,
    "start_time": "2023-06-17T08:33:32.449Z"
   },
   {
    "duration": 12843,
    "start_time": "2023-06-17T08:33:33.035Z"
   },
   {
    "duration": 6,
    "start_time": "2023-06-17T08:33:48.249Z"
   },
   {
    "duration": 11,
    "start_time": "2023-06-17T08:34:30.319Z"
   },
   {
    "duration": 127408,
    "start_time": "2023-06-17T08:34:31.937Z"
   },
   {
    "duration": 694,
    "start_time": "2023-06-17T08:36:39.347Z"
   },
   {
    "duration": 6632,
    "start_time": "2023-06-17T08:36:40.043Z"
   },
   {
    "duration": 6,
    "start_time": "2023-06-17T08:38:47.441Z"
   },
   {
    "duration": 5121,
    "start_time": "2023-06-17T08:39:32.978Z"
   },
   {
    "duration": 915,
    "start_time": "2023-06-17T08:39:38.101Z"
   },
   {
    "duration": 6,
    "start_time": "2023-06-17T08:39:39.018Z"
   },
   {
    "duration": 17,
    "start_time": "2023-06-17T08:39:39.025Z"
   },
   {
    "duration": 83,
    "start_time": "2023-06-17T08:39:39.044Z"
   },
   {
    "duration": 5,
    "start_time": "2023-06-17T08:39:39.129Z"
   },
   {
    "duration": 1845454,
    "start_time": "2023-06-17T08:39:39.136Z"
   },
   {
    "duration": 10461,
    "start_time": "2023-06-17T09:10:24.592Z"
   },
   {
    "duration": 99460,
    "start_time": "2023-06-17T09:10:35.055Z"
   },
   {
    "duration": 77,
    "start_time": "2023-06-17T09:12:14.518Z"
   },
   {
    "duration": 17366,
    "start_time": "2023-06-17T09:12:55.366Z"
   },
   {
    "duration": 27,
    "start_time": "2023-06-17T09:13:25.958Z"
   },
   {
    "duration": 168417,
    "start_time": "2023-06-17T09:13:27.973Z"
   },
   {
    "duration": 14,
    "start_time": "2023-06-17T09:16:18.556Z"
   },
   {
    "duration": 16,
    "start_time": "2023-06-17T09:18:56.197Z"
   },
   {
    "duration": 6,
    "start_time": "2023-06-17T09:18:56.628Z"
   },
   {
    "duration": 125351,
    "start_time": "2023-06-17T09:19:01.385Z"
   },
   {
    "duration": 663,
    "start_time": "2023-06-17T09:21:06.738Z"
   },
   {
    "duration": 8996,
    "start_time": "2023-06-17T09:21:07.403Z"
   },
   {
    "duration": 17,
    "start_time": "2023-06-17T09:21:16.477Z"
   },
   {
    "duration": 10,
    "start_time": "2023-06-17T09:21:43.693Z"
   },
   {
    "duration": 5,
    "start_time": "2023-06-17T09:21:44.012Z"
   },
   {
    "duration": 128608,
    "start_time": "2023-06-17T09:21:45.287Z"
   },
   {
    "duration": 642,
    "start_time": "2023-06-17T09:23:53.897Z"
   },
   {
    "duration": 11963,
    "start_time": "2023-06-17T09:23:54.541Z"
   },
   {
    "duration": 10,
    "start_time": "2023-06-17T09:24:11.130Z"
   },
   {
    "duration": 10,
    "start_time": "2023-06-17T09:24:33.348Z"
   },
   {
    "duration": 6,
    "start_time": "2023-06-17T09:24:33.693Z"
   },
   {
    "duration": 2287,
    "start_time": "2023-06-17T09:24:35.207Z"
   },
   {
    "duration": 6,
    "start_time": "2023-06-17T09:24:45.489Z"
   },
   {
    "duration": 6,
    "start_time": "2023-06-17T09:25:06.533Z"
   },
   {
    "duration": 4,
    "start_time": "2023-06-17T09:25:14.192Z"
   },
   {
    "duration": 8,
    "start_time": "2023-06-17T09:25:18.870Z"
   },
   {
    "duration": 4,
    "start_time": "2023-06-17T09:25:25.140Z"
   },
   {
    "duration": 6,
    "start_time": "2023-06-17T09:25:30.389Z"
   },
   {
    "duration": 1768,
    "start_time": "2023-06-17T09:25:43.037Z"
   },
   {
    "duration": 5,
    "start_time": "2023-06-17T09:25:45.653Z"
   },
   {
    "duration": 8,
    "start_time": "2023-06-17T09:26:05.590Z"
   },
   {
    "duration": 7,
    "start_time": "2023-06-17T09:26:05.853Z"
   },
   {
    "duration": 5,
    "start_time": "2023-06-17T09:26:09.253Z"
   },
   {
    "duration": 2755,
    "start_time": "2023-06-17T09:26:13.886Z"
   },
   {
    "duration": 6,
    "start_time": "2023-06-17T09:26:18.165Z"
   },
   {
    "duration": 7,
    "start_time": "2023-06-17T09:27:48.453Z"
   },
   {
    "duration": 5,
    "start_time": "2023-06-17T09:27:48.717Z"
   },
   {
    "duration": 6,
    "start_time": "2023-06-17T09:27:49.900Z"
   },
   {
    "duration": 3096,
    "start_time": "2023-06-17T09:27:50.325Z"
   },
   {
    "duration": 7,
    "start_time": "2023-06-17T09:27:54.293Z"
   },
   {
    "duration": 7,
    "start_time": "2023-06-17T09:28:12.644Z"
   },
   {
    "duration": 6,
    "start_time": "2023-06-17T09:28:12.940Z"
   },
   {
    "duration": 6,
    "start_time": "2023-06-17T09:28:13.812Z"
   },
   {
    "duration": 2241,
    "start_time": "2023-06-17T09:28:14.270Z"
   },
   {
    "duration": 6,
    "start_time": "2023-06-17T09:28:18.193Z"
   },
   {
    "duration": 1888,
    "start_time": "2023-06-17T09:28:28.194Z"
   },
   {
    "duration": 6,
    "start_time": "2023-06-17T09:28:31.165Z"
   },
   {
    "duration": 1853,
    "start_time": "2023-06-17T09:28:54.798Z"
   },
   {
    "duration": 12,
    "start_time": "2023-06-17T09:28:58.174Z"
   },
   {
    "duration": 6,
    "start_time": "2023-06-17T09:28:58.517Z"
   },
   {
    "duration": 7,
    "start_time": "2023-06-17T09:28:59.485Z"
   },
   {
    "duration": 2184,
    "start_time": "2023-06-17T09:28:59.861Z"
   },
   {
    "duration": 6,
    "start_time": "2023-06-17T09:29:02.047Z"
   },
   {
    "duration": 21,
    "start_time": "2023-06-17T09:31:51.489Z"
   },
   {
    "duration": 5,
    "start_time": "2023-06-17T09:31:57.437Z"
   },
   {
    "duration": 4,
    "start_time": "2023-06-17T09:32:03.508Z"
   },
   {
    "duration": 14,
    "start_time": "2023-06-17T09:32:14.326Z"
   },
   {
    "duration": 6,
    "start_time": "2023-06-17T09:32:14.565Z"
   },
   {
    "duration": 6,
    "start_time": "2023-06-17T09:32:15.853Z"
   },
   {
    "duration": 129446,
    "start_time": "2023-06-17T09:32:19.212Z"
   },
   {
    "duration": 6,
    "start_time": "2023-06-17T09:34:28.661Z"
   },
   {
    "duration": 769,
    "start_time": "2023-06-17T09:34:28.669Z"
   },
   {
    "duration": 5,
    "start_time": "2023-06-17T09:34:29.441Z"
   },
   {
    "duration": 394,
    "start_time": "2023-06-17T09:37:47.206Z"
   },
   {
    "duration": 8,
    "start_time": "2023-06-17T09:37:55.510Z"
   },
   {
    "duration": 8,
    "start_time": "2023-06-17T09:37:55.661Z"
   },
   {
    "duration": 6,
    "start_time": "2023-06-17T09:38:00.549Z"
   },
   {
    "duration": 2241,
    "start_time": "2023-06-17T09:38:03.599Z"
   },
   {
    "duration": 7,
    "start_time": "2023-06-17T09:38:06.503Z"
   },
   {
    "duration": 18,
    "start_time": "2023-06-17T09:38:11.102Z"
   },
   {
    "duration": 13,
    "start_time": "2023-06-17T09:38:22.725Z"
   },
   {
    "duration": 11,
    "start_time": "2023-06-17T09:38:22.880Z"
   },
   {
    "duration": 5,
    "start_time": "2023-06-17T09:38:23.661Z"
   },
   {
    "duration": 2353,
    "start_time": "2023-06-17T09:38:24.047Z"
   },
   {
    "duration": 21,
    "start_time": "2023-06-17T09:38:34.342Z"
   },
   {
    "duration": 17,
    "start_time": "2023-06-17T09:38:37.310Z"
   },
   {
    "duration": 10,
    "start_time": "2023-06-17T09:38:40.013Z"
   },
   {
    "duration": 9,
    "start_time": "2023-06-17T09:38:47.447Z"
   },
   {
    "duration": 6,
    "start_time": "2023-06-17T09:38:47.662Z"
   },
   {
    "duration": 127958,
    "start_time": "2023-06-17T09:38:48.391Z"
   },
   {
    "duration": 819,
    "start_time": "2023-06-17T09:40:56.352Z"
   },
   {
    "duration": 12816,
    "start_time": "2023-06-17T09:40:57.181Z"
   },
   {
    "duration": 12,
    "start_time": "2023-06-17T09:41:12.697Z"
   },
   {
    "duration": 17,
    "start_time": "2023-06-17T09:41:25.976Z"
   },
   {
    "duration": 5,
    "start_time": "2023-06-17T09:41:26.334Z"
   },
   {
    "duration": 131190,
    "start_time": "2023-06-17T09:41:27.105Z"
   },
   {
    "duration": 713,
    "start_time": "2023-06-17T09:43:38.297Z"
   },
   {
    "duration": 4,
    "start_time": "2023-06-17T09:43:39.014Z"
   },
   {
    "duration": 12160,
    "start_time": "2023-06-17T09:43:39.021Z"
   },
   {
    "duration": 7,
    "start_time": "2023-06-17T09:43:54.709Z"
   },
   {
    "duration": 13,
    "start_time": "2023-06-17T09:46:05.214Z"
   },
   {
    "duration": 6,
    "start_time": "2023-06-17T09:46:05.414Z"
   },
   {
    "duration": 314821,
    "start_time": "2023-06-17T09:46:06.304Z"
   },
   {
    "duration": 885,
    "start_time": "2023-06-17T09:51:21.128Z"
   },
   {
    "duration": 10,
    "start_time": "2023-06-17T09:51:22.019Z"
   },
   {
    "duration": 8879,
    "start_time": "2023-06-17T09:51:22.034Z"
   },
   {
    "duration": 17,
    "start_time": "2023-06-17T09:51:37.671Z"
   },
   {
    "duration": 715,
    "start_time": "2023-06-17T09:55:26.216Z"
   },
   {
    "duration": 9,
    "start_time": "2023-06-17T09:55:38.255Z"
   },
   {
    "duration": 487,
    "start_time": "2023-06-17T09:55:43.179Z"
   },
   {
    "duration": 6,
    "start_time": "2023-06-17T09:58:58.647Z"
   },
   {
    "duration": 18492,
    "start_time": "2023-06-17T09:59:50.064Z"
   },
   {
    "duration": 13,
    "start_time": "2023-06-17T10:00:13.215Z"
   },
   {
    "duration": 9,
    "start_time": "2023-06-17T10:04:44.336Z"
   },
   {
    "duration": 6,
    "start_time": "2023-06-17T10:04:44.631Z"
   },
   {
    "duration": 16656,
    "start_time": "2023-06-17T10:04:45.999Z"
   },
   {
    "duration": 5,
    "start_time": "2023-06-17T10:05:53.417Z"
   },
   {
    "duration": 9,
    "start_time": "2023-06-17T10:05:59.240Z"
   },
   {
    "duration": 7,
    "start_time": "2023-06-17T10:05:59.610Z"
   },
   {
    "duration": 15776,
    "start_time": "2023-06-17T10:06:00.474Z"
   },
   {
    "duration": 299,
    "start_time": "2023-06-17T10:06:16.253Z"
   },
   {
    "duration": 5,
    "start_time": "2023-06-17T10:06:17.929Z"
   },
   {
    "duration": 5813,
    "start_time": "2023-06-17T10:06:20.305Z"
   },
   {
    "duration": 24,
    "start_time": "2023-06-17T10:06:27.780Z"
   },
   {
    "duration": 29,
    "start_time": "2023-06-17T10:06:49.273Z"
   },
   {
    "duration": 8,
    "start_time": "2023-06-17T10:06:49.432Z"
   },
   {
    "duration": 17913,
    "start_time": "2023-06-17T10:06:49.910Z"
   },
   {
    "duration": 109,
    "start_time": "2023-06-17T10:07:07.824Z"
   },
   {
    "duration": 4,
    "start_time": "2023-06-17T10:07:07.935Z"
   },
   {
    "duration": 66,
    "start_time": "2023-06-17T10:07:07.942Z"
   },
   {
    "duration": 10,
    "start_time": "2023-06-17T10:07:17.698Z"
   },
   {
    "duration": 11,
    "start_time": "2023-06-17T10:07:50.753Z"
   },
   {
    "duration": 7,
    "start_time": "2023-06-17T10:07:50.953Z"
   },
   {
    "duration": 16051,
    "start_time": "2023-06-17T10:07:51.794Z"
   },
   {
    "duration": 195,
    "start_time": "2023-06-17T10:08:07.848Z"
   },
   {
    "duration": 4,
    "start_time": "2023-06-17T10:08:08.045Z"
   },
   {
    "duration": 3962,
    "start_time": "2023-06-17T10:08:17.128Z"
   },
   {
    "duration": 9,
    "start_time": "2023-06-17T10:08:23.937Z"
   },
   {
    "duration": 63,
    "start_time": "2023-06-17T10:08:35.047Z"
   },
   {
    "duration": 9,
    "start_time": "2023-06-17T10:08:47.505Z"
   },
   {
    "duration": 5,
    "start_time": "2023-06-17T10:09:02.118Z"
   },
   {
    "duration": 5,
    "start_time": "2023-06-17T10:09:05.040Z"
   },
   {
    "duration": 6400,
    "start_time": "2023-06-17T10:09:17.945Z"
   },
   {
    "duration": 11,
    "start_time": "2023-06-17T10:09:26.222Z"
   },
   {
    "duration": 46,
    "start_time": "2023-06-17T10:09:34.578Z"
   },
   {
    "duration": 189,
    "start_time": "2023-06-17T10:09:50.233Z"
   },
   {
    "duration": 9,
    "start_time": "2023-06-17T10:09:51.832Z"
   },
   {
    "duration": 700,
    "start_time": "2023-06-17T10:10:03.011Z"
   },
   {
    "duration": 0,
    "start_time": "2023-06-17T10:10:03.713Z"
   },
   {
    "duration": 12,
    "start_time": "2023-06-17T10:10:05.939Z"
   },
   {
    "duration": 10,
    "start_time": "2023-06-17T10:10:06.128Z"
   },
   {
    "duration": 16719,
    "start_time": "2023-06-17T10:10:06.675Z"
   },
   {
    "duration": 111,
    "start_time": "2023-06-17T10:10:23.396Z"
   },
   {
    "duration": 9,
    "start_time": "2023-06-17T10:10:23.512Z"
   },
   {
    "duration": 428,
    "start_time": "2023-06-17T10:10:23.526Z"
   },
   {
    "duration": 8,
    "start_time": "2023-06-17T10:10:33.152Z"
   },
   {
    "duration": 5,
    "start_time": "2023-06-17T10:10:38.344Z"
   },
   {
    "duration": 11,
    "start_time": "2023-06-17T10:10:40.472Z"
   },
   {
    "duration": 3262,
    "start_time": "2023-06-17T10:11:09.441Z"
   },
   {
    "duration": 12,
    "start_time": "2023-06-17T10:11:14.700Z"
   },
   {
    "duration": 24,
    "start_time": "2023-06-17T10:11:20.017Z"
   },
   {
    "duration": 15,
    "start_time": "2023-06-17T10:13:41.107Z"
   },
   {
    "duration": 5,
    "start_time": "2023-06-17T10:13:41.337Z"
   },
   {
    "duration": 15684,
    "start_time": "2023-06-17T10:13:42.474Z"
   },
   {
    "duration": 344,
    "start_time": "2023-06-17T10:13:58.160Z"
   },
   {
    "duration": 16,
    "start_time": "2023-06-17T10:13:58.508Z"
   },
   {
    "duration": 46,
    "start_time": "2023-06-17T10:13:58.526Z"
   },
   {
    "duration": 8,
    "start_time": "2023-06-17T10:14:01.726Z"
   },
   {
    "duration": 8897,
    "start_time": "2023-06-17T10:17:04.338Z"
   },
   {
    "duration": 995,
    "start_time": "2023-06-17T10:17:13.237Z"
   },
   {
    "duration": 6,
    "start_time": "2023-06-17T10:17:14.233Z"
   },
   {
    "duration": 4,
    "start_time": "2023-06-17T10:17:14.240Z"
   },
   {
    "duration": 96,
    "start_time": "2023-06-17T10:17:14.246Z"
   },
   {
    "duration": 5,
    "start_time": "2023-06-17T10:17:14.344Z"
   },
   {
    "duration": 2014806,
    "start_time": "2023-06-17T10:17:14.351Z"
   },
   {
    "duration": 11465,
    "start_time": "2023-06-17T10:50:49.159Z"
   },
   {
    "duration": 4,
    "start_time": "2023-06-17T10:51:00.626Z"
   },
   {
    "duration": 102454,
    "start_time": "2023-06-17T10:51:00.632Z"
   },
   {
    "duration": 95,
    "start_time": "2023-06-17T10:52:43.093Z"
   },
   {
    "duration": 18,
    "start_time": "2023-06-17T10:52:43.190Z"
   },
   {
    "duration": 12,
    "start_time": "2023-06-17T10:52:43.210Z"
   },
   {
    "duration": 17384,
    "start_time": "2023-06-17T10:52:43.225Z"
   },
   {
    "duration": 13,
    "start_time": "2023-06-17T10:53:00.611Z"
   },
   {
    "duration": 175465,
    "start_time": "2023-06-17T10:53:00.626Z"
   },
   {
    "duration": 31,
    "start_time": "2023-06-17T10:55:56.094Z"
   },
   {
    "duration": 379,
    "start_time": "2023-06-17T10:55:56.127Z"
   },
   {
    "duration": 393,
    "start_time": "2023-06-17T10:56:14.999Z"
   },
   {
    "duration": 27,
    "start_time": "2023-06-17T10:57:00.188Z"
   },
   {
    "duration": 19,
    "start_time": "2023-06-17T10:57:14.323Z"
   },
   {
    "duration": 15,
    "start_time": "2023-06-17T10:57:18.410Z"
   },
   {
    "duration": 109387,
    "start_time": "2023-06-17T10:58:49.916Z"
   },
   {
    "duration": 85,
    "start_time": "2023-06-17T11:00:39.307Z"
   },
   {
    "duration": 19877,
    "start_time": "2023-06-17T11:00:39.397Z"
   },
   {
    "duration": 29,
    "start_time": "2023-06-17T11:00:59.279Z"
   },
   {
    "duration": 184667,
    "start_time": "2023-06-17T11:00:59.310Z"
   },
   {
    "duration": 19,
    "start_time": "2023-06-17T11:04:03.979Z"
   },
   {
    "duration": 17,
    "start_time": "2023-06-17T11:04:04.000Z"
   },
   {
    "duration": 19,
    "start_time": "2023-06-17T11:04:27.804Z"
   },
   {
    "duration": 8,
    "start_time": "2023-06-17T11:11:08.506Z"
   },
   {
    "duration": 10,
    "start_time": "2023-06-17T11:11:17.504Z"
   },
   {
    "duration": 6,
    "start_time": "2023-06-17T11:11:30.460Z"
   },
   {
    "duration": 20,
    "start_time": "2023-06-17T11:11:41.052Z"
   },
   {
    "duration": 65216,
    "start_time": "2023-06-17T11:14:32.828Z"
   },
   {
    "duration": 333904,
    "start_time": "2023-06-17T11:15:52.828Z"
   },
   {
    "duration": 26,
    "start_time": "2023-06-17T11:21:30.697Z"
   }
  ],
  "kernelspec": {
   "display_name": "Python 3 (ipykernel)",
   "language": "python",
   "name": "python3"
  },
  "language_info": {
   "codemirror_mode": {
    "name": "ipython",
    "version": 3
   },
   "file_extension": ".py",
   "mimetype": "text/x-python",
   "name": "python",
   "nbconvert_exporter": "python",
   "pygments_lexer": "ipython3",
   "version": "3.11.6"
  },
  "toc": {
   "base_numbering": 1,
   "nav_menu": {},
   "number_sections": true,
   "sideBar": true,
   "skip_h1_title": true,
   "title_cell": "Содержание",
   "title_sidebar": "Contents",
   "toc_cell": true,
   "toc_position": {
    "height": "calc(100% - 180px)",
    "left": "10px",
    "top": "150px",
    "width": "302.391px"
   },
   "toc_section_display": true,
   "toc_window_display": false
  }
 },
 "nbformat": 4,
 "nbformat_minor": 2
}
