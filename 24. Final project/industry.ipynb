{
 "cells": [
  {
   "cell_type": "markdown",
   "id": "e28d032d",
   "metadata": {},
   "source": [
    "# Industry\n",
    "In order to optimize production costs, a metallurgical plant decided to reduce energy consumption at the steel processing stage. It is necessary to build a model that will predict the temperature of steel.\n",
    "\n",
    "The steel is processed in a metal ladle with a capacity of about 100 tons. To ensure that the ladle can withstand high temperatures, the inside is lined with refractory bricks. Molten steel is poured into a ladle and heated to the desired temperature with graphite electrodes. They are installed in the bucket lid.\n",
    "\n",
    "Sulfur is removed from the alloy (desulfurization), the chemical composition is adjusted by adding impurities, and samples are taken. Steel is alloyed - its composition is changed by feeding pieces of the alloy from a bunker for bulk materials or wire through a special tribe apparatus.\n",
    "\n",
    "Before introducing alloying additives for the first time, the temperature of the steel is measured and its chemical analysis is performed. Then the temperature is raised for several minutes, alloying materials are added and the alloy is purged with an inert gas. Then it is mixed and measurements are taken again. This cycle is repeated until the target chemical composition and optimal melting temperature are achieved.\n",
    "\n",
    "Then the molten steel is sent for metal finishing or enters a continuous casting machine. From there the finished product comes out in the form of slabs.\n",
    "\n",
    "The data consists of files obtained from different sources:\n",
    "\n",
    "* data_arc_new.csv — data about electrodes\n",
    "* data_bulk_new.csv — data on the supply of bulk materials (volume)\n",
    "* data_bulk_time_new.csv — data on the supply of bulk materials (time)\n",
    "* data_gas_new.csv — data on purging the alloy with gas\n",
    "* data_temp_new.csv — temperature measurement results\n",
    "* data_wire_new.csv — data on wire materials (volume)\n",
    "* data_wire_time_new.csv - data about wire materials (time)\n",
    "\n",
    "In all files, 'key' column contains the batch number. There may be several lines in the files with the same key value: they correspond to different iterations of processing.\n",
    "\n",
    "**Objective**\n",
    "\n",
    "Construction of a model to predict the characteristics of the technological process, the final temperature of the steel in the ladle, based on specified process parameters. Maximum MAE on test sample is 6.8\n",
    "## Data overview and preprocessing\n",
    "### Overview"
   ]
  },
  {
   "cell_type": "code",
   "execution_count": 1,
   "id": "af2d8c03",
   "metadata": {},
   "outputs": [],
   "source": [
    "import pandas as pd\n",
    "import matplotlib.pyplot as plt\n",
    "from statsmodels.tsa.seasonal import seasonal_decompose\n",
    "import seaborn as sns\n",
    "import numpy as np\n",
    "from sklearn.model_selection import train_test_split\n",
    "from sklearn.preprocessing import StandardScaler\n",
    "from sklearn.metrics import mean_absolute_error\n",
    "from sklearn.model_selection import cross_val_score\n",
    "from sklearn.dummy import DummyRegressor\n",
    "from sklearn.linear_model import LinearRegression\n",
    "from sklearn.linear_model import LogisticRegression\n",
    "from sklearn.model_selection import RandomizedSearchCV\n",
    "from sklearn.ensemble import RandomForestRegressor\n",
    "import lightgbm as lgb\n",
    "from catboost import CatBoostRegressor\n",
    "\n",
    "STATE = 140823"
   ]
  },
  {
   "cell_type": "code",
   "execution_count": 2,
   "id": "12832146",
   "metadata": {},
   "outputs": [],
   "source": [
    "data_arc = pd.read_csv('D:\\\\jupyter_clone\\\\yandex-practicum\\\\24. Final project\\\\data_arc_new.csv')\n",
    "data_bulk = pd.read_csv('D:\\\\jupyter_clone\\\\yandex-practicum\\\\24. Final project\\\\data_bulk_new.csv')\n",
    "data_bulk_time = pd.read_csv('D:\\\\jupyter_clone\\\\yandex-practicum\\\\24. Final project\\\\data_bulk_time_new.csv')\n",
    "data_gas = pd.read_csv('D:\\\\jupyter_clone\\\\yandex-practicum\\\\24. Final project\\\\data_gas_new.csv')\n",
    "data_temp = pd.read_csv('D:\\\\jupyter_clone\\\\yandex-practicum\\\\24. Final project\\\\data_temp_new.csv')\n",
    "data_wire = pd.read_csv('D:\\\\jupyter_clone\\\\yandex-practicum\\\\24. Final project\\\\data_wire_new.csv')\n",
    "data_wire_time = pd.read_csv('D:\\\\jupyter_clone\\\\yandex-practicum\\\\24. Final project\\\\data_wire_time_new.csv')"
   ]
  },
  {
   "cell_type": "markdown",
   "id": "27ba9dcd",
   "metadata": {},
   "source": [
    "#### Electrode data (data_arc)"
   ]
  },
  {
   "cell_type": "code",
   "execution_count": 3,
   "id": "c0618305",
   "metadata": {},
   "outputs": [
    {
     "name": "stdout",
     "output_type": "stream",
     "text": [
      "<class 'pandas.core.frame.DataFrame'>\n",
      "RangeIndex: 14876 entries, 0 to 14875\n",
      "Data columns (total 5 columns):\n",
      " #   Column                Non-Null Count  Dtype  \n",
      "---  ------                --------------  -----  \n",
      " 0   key                   14876 non-null  int64  \n",
      " 1   Начало нагрева дугой  14876 non-null  object \n",
      " 2   Конец нагрева дугой   14876 non-null  object \n",
      " 3   Активная мощность     14876 non-null  float64\n",
      " 4   Реактивная мощность   14876 non-null  float64\n",
      "dtypes: float64(2), int64(1), object(2)\n",
      "memory usage: 581.2+ KB\n"
     ]
    },
    {
     "data": {
      "text/html": [
       "<div>\n",
       "<style scoped>\n",
       "    .dataframe tbody tr th:only-of-type {\n",
       "        vertical-align: middle;\n",
       "    }\n",
       "\n",
       "    .dataframe tbody tr th {\n",
       "        vertical-align: top;\n",
       "    }\n",
       "\n",
       "    .dataframe thead th {\n",
       "        text-align: right;\n",
       "    }\n",
       "</style>\n",
       "<table border=\"1\" class=\"dataframe\">\n",
       "  <thead>\n",
       "    <tr style=\"text-align: right;\">\n",
       "      <th></th>\n",
       "      <th>key</th>\n",
       "      <th>Начало нагрева дугой</th>\n",
       "      <th>Конец нагрева дугой</th>\n",
       "      <th>Активная мощность</th>\n",
       "      <th>Реактивная мощность</th>\n",
       "    </tr>\n",
       "  </thead>\n",
       "  <tbody>\n",
       "    <tr>\n",
       "      <th>0</th>\n",
       "      <td>1</td>\n",
       "      <td>2019-05-03 11:02:14</td>\n",
       "      <td>2019-05-03 11:06:02</td>\n",
       "      <td>0.305130</td>\n",
       "      <td>0.211253</td>\n",
       "    </tr>\n",
       "    <tr>\n",
       "      <th>1</th>\n",
       "      <td>1</td>\n",
       "      <td>2019-05-03 11:07:28</td>\n",
       "      <td>2019-05-03 11:10:33</td>\n",
       "      <td>0.765658</td>\n",
       "      <td>0.477438</td>\n",
       "    </tr>\n",
       "    <tr>\n",
       "      <th>2</th>\n",
       "      <td>1</td>\n",
       "      <td>2019-05-03 11:11:44</td>\n",
       "      <td>2019-05-03 11:14:36</td>\n",
       "      <td>0.580313</td>\n",
       "      <td>0.430460</td>\n",
       "    </tr>\n",
       "    <tr>\n",
       "      <th>3</th>\n",
       "      <td>1</td>\n",
       "      <td>2019-05-03 11:18:14</td>\n",
       "      <td>2019-05-03 11:24:19</td>\n",
       "      <td>0.518496</td>\n",
       "      <td>0.379979</td>\n",
       "    </tr>\n",
       "    <tr>\n",
       "      <th>4</th>\n",
       "      <td>1</td>\n",
       "      <td>2019-05-03 11:26:09</td>\n",
       "      <td>2019-05-03 11:28:37</td>\n",
       "      <td>0.867133</td>\n",
       "      <td>0.643691</td>\n",
       "    </tr>\n",
       "  </tbody>\n",
       "</table>\n",
       "</div>"
      ],
      "text/plain": [
       "   key Начало нагрева дугой  Конец нагрева дугой  Активная мощность  \\\n",
       "0    1  2019-05-03 11:02:14  2019-05-03 11:06:02           0.305130   \n",
       "1    1  2019-05-03 11:07:28  2019-05-03 11:10:33           0.765658   \n",
       "2    1  2019-05-03 11:11:44  2019-05-03 11:14:36           0.580313   \n",
       "3    1  2019-05-03 11:18:14  2019-05-03 11:24:19           0.518496   \n",
       "4    1  2019-05-03 11:26:09  2019-05-03 11:28:37           0.867133   \n",
       "\n",
       "   Реактивная мощность  \n",
       "0             0.211253  \n",
       "1             0.477438  \n",
       "2             0.430460  \n",
       "3             0.379979  \n",
       "4             0.643691  "
      ]
     },
     "execution_count": 3,
     "metadata": {},
     "output_type": "execute_result"
    }
   ],
   "source": [
    "data_arc.info()\n",
    "data_arc.head()"
   ]
  },
  {
   "cell_type": "markdown",
   "id": "46a29c86",
   "metadata": {},
   "source": [
    "Since we can use electrode data during the process, we can calculate the total energy spent on each batch, summing it up for each key, through the time spent and the total power. No gaps, no problems"
   ]
  },
  {
   "cell_type": "code",
   "execution_count": 4,
   "id": "c1106b27",
   "metadata": {},
   "outputs": [
    {
     "name": "stdout",
     "output_type": "stream",
     "text": [
      "Total records: 14876\n",
      "Total keys: 3214\n"
     ]
    },
    {
     "data": {
      "image/png": "[encoded data removed]",
      "text/plain": [
       "<Figure size 640x480 with 1 Axes>"
      ]
     },
     "metadata": {},
     "output_type": "display_data"
    }
   ],
   "source": [
    "print('Total records:', data_arc['key'].count())\n",
    "print('Total keys:', data_arc['key'].value_counts().count())\n",
    "\n",
    "sns.histplot(x=data_arc['key'].value_counts(), bins=data_arc['key'].value_counts().max())\n",
    "plt.xlabel('Number of records in a key')\n",
    "plt.ylabel('Keys')\n",
    "plt.title('Breakdown of keys by a number of records');"
   ]
  },
  {
   "cell_type": "code",
   "execution_count": 5,
   "id": "86d37984",
   "metadata": {},
   "outputs": [
    {
     "name": "stdout",
     "output_type": "stream",
     "text": [
      "Active power\n"
     ]
    },
    {
     "data": {
      "text/plain": [
       "count    14876.000000\n",
       "mean         0.662752\n",
       "std          0.258885\n",
       "min          0.223120\n",
       "25%          0.467115\n",
       "50%          0.599587\n",
       "75%          0.830070\n",
       "max          1.463773\n",
       "Name: Активная мощность, dtype: float64"
      ]
     },
     "execution_count": 5,
     "metadata": {},
     "output_type": "execute_result"
    }
   ],
   "source": [
    "print('Active power')\n",
    "data_arc['Активная мощность'].describe()"
   ]
  },
  {
   "cell_type": "code",
   "execution_count": 6,
   "id": "1f3973ab",
   "metadata": {},
   "outputs": [
    {
     "data": {
      "image/png": "[encoded data removed]",
      "text/plain": [
       "<Figure size 640x480 with 2 Axes>"
      ]
     },
     "metadata": {},
     "output_type": "display_data"
    }
   ],
   "source": [
    "f, (ax_box, ax_hist) = plt.subplots(2, sharex=True, \n",
    "                                    gridspec_kw={\"height_ratios\": (.15, .85)})\n",
    "\n",
    "sns.boxplot(x=data_arc['Активная мощность'], ax=ax_box)\n",
    "sns.histplot(x=data_arc['Активная мощность'], ax=ax_hist)\n",
    "plt.xlabel('Active power')\n",
    "plt.ylabel('Number of records')\n",
    "ax_box.set(yticks=[])\n",
    "sns.despine(ax=ax_hist)\n",
    "sns.despine(ax=ax_box, left=True);"
   ]
  },
  {
   "cell_type": "markdown",
   "id": "70a19000",
   "metadata": {},
   "source": [
    "Standard deviation is observed"
   ]
  },
  {
   "cell_type": "code",
   "execution_count": 7,
   "id": "45631dbc",
   "metadata": {},
   "outputs": [
    {
     "name": "stdout",
     "output_type": "stream",
     "text": [
      "Reactive power\n"
     ]
    },
    {
     "data": {
      "text/plain": [
       "count    14876.000000\n",
       "mean         0.438986\n",
       "std          5.873485\n",
       "min       -715.479924\n",
       "25%          0.337175\n",
       "50%          0.441639\n",
       "75%          0.608201\n",
       "max          1.270284\n",
       "Name: Реактивная мощность, dtype: float64"
      ]
     },
     "execution_count": 7,
     "metadata": {},
     "output_type": "execute_result"
    }
   ],
   "source": [
    "print('Reactive power')\n",
    "data_arc['Реактивная мощность'].describe()"
   ]
  },
  {
   "cell_type": "code",
   "execution_count": 8,
   "id": "bababffa",
   "metadata": {},
   "outputs": [
    {
     "data": {
      "image/png": "[encoded data removed]",
      "text/plain": [
       "<Figure size 640x480 with 2 Axes>"
      ]
     },
     "metadata": {},
     "output_type": "display_data"
    }
   ],
   "source": [
    "f, (ax_box, ax_hist) = plt.subplots(2, sharex=True, \n",
    "                                    gridspec_kw={\"height_ratios\": (.15, .85)})\n",
    "\n",
    "sns.boxplot(x=data_arc['Реактивная мощность'][data_arc['Реактивная мощность'] > -10], ax=ax_box)\n",
    "sns.histplot(x=data_arc['Реактивная мощность'][data_arc['Реактивная мощность'] > -10], ax=ax_hist)\n",
    "plt.ylabel('Число записей')\n",
    "ax_box.set(yticks=[])\n",
    "sns.despine(ax=ax_hist)\n",
    "sns.despine(ax=ax_box, left=True);"
   ]
  },
  {
   "cell_type": "markdown",
   "id": "9d5dea95",
   "metadata": {},
   "source": [
    "There are errors in the data received for reactive power. There are not many of them, these batches can be deleted\n",
    "#### Bulk materials supply, volume (data_bulk)"
   ]
  },
  {
   "cell_type": "code",
   "execution_count": 9,
   "id": "de7f0b2f",
   "metadata": {},
   "outputs": [
    {
     "name": "stdout",
     "output_type": "stream",
     "text": [
      "<class 'pandas.core.frame.DataFrame'>\n",
      "RangeIndex: 3129 entries, 0 to 3128\n",
      "Data columns (total 16 columns):\n",
      " #   Column   Non-Null Count  Dtype  \n",
      "---  ------   --------------  -----  \n",
      " 0   key      3129 non-null   int64  \n",
      " 1   Bulk 1   252 non-null    float64\n",
      " 2   Bulk 2   22 non-null     float64\n",
      " 3   Bulk 3   1298 non-null   float64\n",
      " 4   Bulk 4   1014 non-null   float64\n",
      " 5   Bulk 5   77 non-null     float64\n",
      " 6   Bulk 6   576 non-null    float64\n",
      " 7   Bulk 7   25 non-null     float64\n",
      " 8   Bulk 8   1 non-null      float64\n",
      " 9   Bulk 9   19 non-null     float64\n",
      " 10  Bulk 10  176 non-null    float64\n",
      " 11  Bulk 11  177 non-null    float64\n",
      " 12  Bulk 12  2450 non-null   float64\n",
      " 13  Bulk 13  18 non-null     float64\n",
      " 14  Bulk 14  2806 non-null   float64\n",
      " 15  Bulk 15  2248 non-null   float64\n",
      "dtypes: float64(15), int64(1)\n",
      "memory usage: 391.3 KB\n"
     ]
    },
    {
     "data": {
      "text/html": [
       "<div>\n",
       "<style scoped>\n",
       "    .dataframe tbody tr th:only-of-type {\n",
       "        vertical-align: middle;\n",
       "    }\n",
       "\n",
       "    .dataframe tbody tr th {\n",
       "        vertical-align: top;\n",
       "    }\n",
       "\n",
       "    .dataframe thead th {\n",
       "        text-align: right;\n",
       "    }\n",
       "</style>\n",
       "<table border=\"1\" class=\"dataframe\">\n",
       "  <thead>\n",
       "    <tr style=\"text-align: right;\">\n",
       "      <th></th>\n",
       "      <th>key</th>\n",
       "      <th>Bulk 1</th>\n",
       "      <th>Bulk 2</th>\n",
       "      <th>Bulk 3</th>\n",
       "      <th>Bulk 4</th>\n",
       "      <th>Bulk 5</th>\n",
       "      <th>Bulk 6</th>\n",
       "      <th>Bulk 7</th>\n",
       "      <th>Bulk 8</th>\n",
       "      <th>Bulk 9</th>\n",
       "      <th>Bulk 10</th>\n",
       "      <th>Bulk 11</th>\n",
       "      <th>Bulk 12</th>\n",
       "      <th>Bulk 13</th>\n",
       "      <th>Bulk 14</th>\n",
       "      <th>Bulk 15</th>\n",
       "    </tr>\n",
       "  </thead>\n",
       "  <tbody>\n",
       "    <tr>\n",
       "      <th>0</th>\n",
       "      <td>1</td>\n",
       "      <td>NaN</td>\n",
       "      <td>NaN</td>\n",
       "      <td>NaN</td>\n",
       "      <td>43.0</td>\n",
       "      <td>NaN</td>\n",
       "      <td>NaN</td>\n",
       "      <td>NaN</td>\n",
       "      <td>NaN</td>\n",
       "      <td>NaN</td>\n",
       "      <td>NaN</td>\n",
       "      <td>NaN</td>\n",
       "      <td>206.0</td>\n",
       "      <td>NaN</td>\n",
       "      <td>150.0</td>\n",
       "      <td>154.0</td>\n",
       "    </tr>\n",
       "    <tr>\n",
       "      <th>1</th>\n",
       "      <td>2</td>\n",
       "      <td>NaN</td>\n",
       "      <td>NaN</td>\n",
       "      <td>NaN</td>\n",
       "      <td>73.0</td>\n",
       "      <td>NaN</td>\n",
       "      <td>NaN</td>\n",
       "      <td>NaN</td>\n",
       "      <td>NaN</td>\n",
       "      <td>NaN</td>\n",
       "      <td>NaN</td>\n",
       "      <td>NaN</td>\n",
       "      <td>206.0</td>\n",
       "      <td>NaN</td>\n",
       "      <td>149.0</td>\n",
       "      <td>154.0</td>\n",
       "    </tr>\n",
       "    <tr>\n",
       "      <th>2</th>\n",
       "      <td>3</td>\n",
       "      <td>NaN</td>\n",
       "      <td>NaN</td>\n",
       "      <td>NaN</td>\n",
       "      <td>34.0</td>\n",
       "      <td>NaN</td>\n",
       "      <td>NaN</td>\n",
       "      <td>NaN</td>\n",
       "      <td>NaN</td>\n",
       "      <td>NaN</td>\n",
       "      <td>NaN</td>\n",
       "      <td>NaN</td>\n",
       "      <td>205.0</td>\n",
       "      <td>NaN</td>\n",
       "      <td>152.0</td>\n",
       "      <td>153.0</td>\n",
       "    </tr>\n",
       "    <tr>\n",
       "      <th>3</th>\n",
       "      <td>4</td>\n",
       "      <td>NaN</td>\n",
       "      <td>NaN</td>\n",
       "      <td>NaN</td>\n",
       "      <td>81.0</td>\n",
       "      <td>NaN</td>\n",
       "      <td>NaN</td>\n",
       "      <td>NaN</td>\n",
       "      <td>NaN</td>\n",
       "      <td>NaN</td>\n",
       "      <td>NaN</td>\n",
       "      <td>NaN</td>\n",
       "      <td>207.0</td>\n",
       "      <td>NaN</td>\n",
       "      <td>153.0</td>\n",
       "      <td>154.0</td>\n",
       "    </tr>\n",
       "    <tr>\n",
       "      <th>4</th>\n",
       "      <td>5</td>\n",
       "      <td>NaN</td>\n",
       "      <td>NaN</td>\n",
       "      <td>NaN</td>\n",
       "      <td>78.0</td>\n",
       "      <td>NaN</td>\n",
       "      <td>NaN</td>\n",
       "      <td>NaN</td>\n",
       "      <td>NaN</td>\n",
       "      <td>NaN</td>\n",
       "      <td>NaN</td>\n",
       "      <td>NaN</td>\n",
       "      <td>203.0</td>\n",
       "      <td>NaN</td>\n",
       "      <td>151.0</td>\n",
       "      <td>152.0</td>\n",
       "    </tr>\n",
       "  </tbody>\n",
       "</table>\n",
       "</div>"
      ],
      "text/plain": [
       "   key  Bulk 1  Bulk 2  Bulk 3  Bulk 4  Bulk 5  Bulk 6  Bulk 7  Bulk 8  \\\n",
       "0    1     NaN     NaN     NaN    43.0     NaN     NaN     NaN     NaN   \n",
       "1    2     NaN     NaN     NaN    73.0     NaN     NaN     NaN     NaN   \n",
       "2    3     NaN     NaN     NaN    34.0     NaN     NaN     NaN     NaN   \n",
       "3    4     NaN     NaN     NaN    81.0     NaN     NaN     NaN     NaN   \n",
       "4    5     NaN     NaN     NaN    78.0     NaN     NaN     NaN     NaN   \n",
       "\n",
       "   Bulk 9  Bulk 10  Bulk 11  Bulk 12  Bulk 13  Bulk 14  Bulk 15  \n",
       "0     NaN      NaN      NaN    206.0      NaN    150.0    154.0  \n",
       "1     NaN      NaN      NaN    206.0      NaN    149.0    154.0  \n",
       "2     NaN      NaN      NaN    205.0      NaN    152.0    153.0  \n",
       "3     NaN      NaN      NaN    207.0      NaN    153.0    154.0  \n",
       "4     NaN      NaN      NaN    203.0      NaN    151.0    152.0  "
      ]
     },
     "execution_count": 9,
     "metadata": {},
     "output_type": "execute_result"
    }
   ],
   "source": [
    "data_bulk.info()\n",
    "data_bulk.head()"
   ]
  },
  {
   "cell_type": "markdown",
   "id": "6a490ddd",
   "metadata": {},
   "source": [
    "Data on alloying additives. Gaps must be filled with zeros. We will also remove all alloying additives that were used in less than 1% of cases to simplify the model.\n",
    "#### Bulk materials supply, time (data_bulk_time)"
   ]
  },
  {
   "cell_type": "code",
   "execution_count": 10,
   "id": "a2220a94",
   "metadata": {},
   "outputs": [
    {
     "name": "stdout",
     "output_type": "stream",
     "text": [
      "<class 'pandas.core.frame.DataFrame'>\n",
      "RangeIndex: 3129 entries, 0 to 3128\n",
      "Data columns (total 16 columns):\n",
      " #   Column   Non-Null Count  Dtype \n",
      "---  ------   --------------  ----- \n",
      " 0   key      3129 non-null   int64 \n",
      " 1   Bulk 1   252 non-null    object\n",
      " 2   Bulk 2   22 non-null     object\n",
      " 3   Bulk 3   1298 non-null   object\n",
      " 4   Bulk 4   1014 non-null   object\n",
      " 5   Bulk 5   77 non-null     object\n",
      " 6   Bulk 6   576 non-null    object\n",
      " 7   Bulk 7   25 non-null     object\n",
      " 8   Bulk 8   1 non-null      object\n",
      " 9   Bulk 9   19 non-null     object\n",
      " 10  Bulk 10  176 non-null    object\n",
      " 11  Bulk 11  177 non-null    object\n",
      " 12  Bulk 12  2450 non-null   object\n",
      " 13  Bulk 13  18 non-null     object\n",
      " 14  Bulk 14  2806 non-null   object\n",
      " 15  Bulk 15  2248 non-null   object\n",
      "dtypes: int64(1), object(15)\n",
      "memory usage: 391.3+ KB\n"
     ]
    },
    {
     "data": {
      "text/html": [
       "<div>\n",
       "<style scoped>\n",
       "    .dataframe tbody tr th:only-of-type {\n",
       "        vertical-align: middle;\n",
       "    }\n",
       "\n",
       "    .dataframe tbody tr th {\n",
       "        vertical-align: top;\n",
       "    }\n",
       "\n",
       "    .dataframe thead th {\n",
       "        text-align: right;\n",
       "    }\n",
       "</style>\n",
       "<table border=\"1\" class=\"dataframe\">\n",
       "  <thead>\n",
       "    <tr style=\"text-align: right;\">\n",
       "      <th></th>\n",
       "      <th>key</th>\n",
       "      <th>Bulk 1</th>\n",
       "      <th>Bulk 2</th>\n",
       "      <th>Bulk 3</th>\n",
       "      <th>Bulk 4</th>\n",
       "      <th>Bulk 5</th>\n",
       "      <th>Bulk 6</th>\n",
       "      <th>Bulk 7</th>\n",
       "      <th>Bulk 8</th>\n",
       "      <th>Bulk 9</th>\n",
       "      <th>Bulk 10</th>\n",
       "      <th>Bulk 11</th>\n",
       "      <th>Bulk 12</th>\n",
       "      <th>Bulk 13</th>\n",
       "      <th>Bulk 14</th>\n",
       "      <th>Bulk 15</th>\n",
       "    </tr>\n",
       "  </thead>\n",
       "  <tbody>\n",
       "    <tr>\n",
       "      <th>0</th>\n",
       "      <td>1</td>\n",
       "      <td>NaN</td>\n",
       "      <td>NaN</td>\n",
       "      <td>NaN</td>\n",
       "      <td>2019-05-03 11:28:48</td>\n",
       "      <td>NaN</td>\n",
       "      <td>NaN</td>\n",
       "      <td>NaN</td>\n",
       "      <td>NaN</td>\n",
       "      <td>NaN</td>\n",
       "      <td>NaN</td>\n",
       "      <td>NaN</td>\n",
       "      <td>2019-05-03 11:24:31</td>\n",
       "      <td>NaN</td>\n",
       "      <td>2019-05-03 11:14:50</td>\n",
       "      <td>2019-05-03 11:10:43</td>\n",
       "    </tr>\n",
       "    <tr>\n",
       "      <th>1</th>\n",
       "      <td>2</td>\n",
       "      <td>NaN</td>\n",
       "      <td>NaN</td>\n",
       "      <td>NaN</td>\n",
       "      <td>2019-05-03 11:36:50</td>\n",
       "      <td>NaN</td>\n",
       "      <td>NaN</td>\n",
       "      <td>NaN</td>\n",
       "      <td>NaN</td>\n",
       "      <td>NaN</td>\n",
       "      <td>NaN</td>\n",
       "      <td>NaN</td>\n",
       "      <td>2019-05-03 11:53:30</td>\n",
       "      <td>NaN</td>\n",
       "      <td>2019-05-03 11:48:37</td>\n",
       "      <td>2019-05-03 11:44:39</td>\n",
       "    </tr>\n",
       "    <tr>\n",
       "      <th>2</th>\n",
       "      <td>3</td>\n",
       "      <td>NaN</td>\n",
       "      <td>NaN</td>\n",
       "      <td>NaN</td>\n",
       "      <td>2019-05-03 12:32:39</td>\n",
       "      <td>NaN</td>\n",
       "      <td>NaN</td>\n",
       "      <td>NaN</td>\n",
       "      <td>NaN</td>\n",
       "      <td>NaN</td>\n",
       "      <td>NaN</td>\n",
       "      <td>NaN</td>\n",
       "      <td>2019-05-03 12:27:13</td>\n",
       "      <td>NaN</td>\n",
       "      <td>2019-05-03 12:21:01</td>\n",
       "      <td>2019-05-03 12:16:16</td>\n",
       "    </tr>\n",
       "    <tr>\n",
       "      <th>3</th>\n",
       "      <td>4</td>\n",
       "      <td>NaN</td>\n",
       "      <td>NaN</td>\n",
       "      <td>NaN</td>\n",
       "      <td>2019-05-03 12:43:22</td>\n",
       "      <td>NaN</td>\n",
       "      <td>NaN</td>\n",
       "      <td>NaN</td>\n",
       "      <td>NaN</td>\n",
       "      <td>NaN</td>\n",
       "      <td>NaN</td>\n",
       "      <td>NaN</td>\n",
       "      <td>2019-05-03 12:58:00</td>\n",
       "      <td>NaN</td>\n",
       "      <td>2019-05-03 12:51:11</td>\n",
       "      <td>2019-05-03 12:46:36</td>\n",
       "    </tr>\n",
       "    <tr>\n",
       "      <th>4</th>\n",
       "      <td>5</td>\n",
       "      <td>NaN</td>\n",
       "      <td>NaN</td>\n",
       "      <td>NaN</td>\n",
       "      <td>2019-05-03 13:30:47</td>\n",
       "      <td>NaN</td>\n",
       "      <td>NaN</td>\n",
       "      <td>NaN</td>\n",
       "      <td>NaN</td>\n",
       "      <td>NaN</td>\n",
       "      <td>NaN</td>\n",
       "      <td>NaN</td>\n",
       "      <td>2019-05-03 13:30:47</td>\n",
       "      <td>NaN</td>\n",
       "      <td>2019-05-03 13:34:12</td>\n",
       "      <td>2019-05-03 13:30:47</td>\n",
       "    </tr>\n",
       "  </tbody>\n",
       "</table>\n",
       "</div>"
      ],
      "text/plain": [
       "   key Bulk 1 Bulk 2 Bulk 3               Bulk 4 Bulk 5 Bulk 6 Bulk 7 Bulk 8  \\\n",
       "0    1    NaN    NaN    NaN  2019-05-03 11:28:48    NaN    NaN    NaN    NaN   \n",
       "1    2    NaN    NaN    NaN  2019-05-03 11:36:50    NaN    NaN    NaN    NaN   \n",
       "2    3    NaN    NaN    NaN  2019-05-03 12:32:39    NaN    NaN    NaN    NaN   \n",
       "3    4    NaN    NaN    NaN  2019-05-03 12:43:22    NaN    NaN    NaN    NaN   \n",
       "4    5    NaN    NaN    NaN  2019-05-03 13:30:47    NaN    NaN    NaN    NaN   \n",
       "\n",
       "  Bulk 9 Bulk 10 Bulk 11              Bulk 12 Bulk 13              Bulk 14  \\\n",
       "0    NaN     NaN     NaN  2019-05-03 11:24:31     NaN  2019-05-03 11:14:50   \n",
       "1    NaN     NaN     NaN  2019-05-03 11:53:30     NaN  2019-05-03 11:48:37   \n",
       "2    NaN     NaN     NaN  2019-05-03 12:27:13     NaN  2019-05-03 12:21:01   \n",
       "3    NaN     NaN     NaN  2019-05-03 12:58:00     NaN  2019-05-03 12:51:11   \n",
       "4    NaN     NaN     NaN  2019-05-03 13:30:47     NaN  2019-05-03 13:34:12   \n",
       "\n",
       "               Bulk 15  \n",
       "0  2019-05-03 11:10:43  \n",
       "1  2019-05-03 11:44:39  \n",
       "2  2019-05-03 12:16:16  \n",
       "3  2019-05-03 12:46:36  \n",
       "4  2019-05-03 13:30:47  "
      ]
     },
     "execution_count": 10,
     "metadata": {},
     "output_type": "execute_result"
    }
   ],
   "source": [
    "data_bulk_time.info()\n",
    "data_bulk_time.head()"
   ]
  },
  {
   "cell_type": "markdown",
   "id": "c5bea1df",
   "metadata": {},
   "source": [
    "Timing of alloying additives does not currently provide predictive value\n",
    "#### Wire materials supply, volume (data_wire)"
   ]
  },
  {
   "cell_type": "code",
   "execution_count": 11,
   "id": "2f16232c",
   "metadata": {},
   "outputs": [
    {
     "name": "stdout",
     "output_type": "stream",
     "text": [
      "<class 'pandas.core.frame.DataFrame'>\n",
      "RangeIndex: 3081 entries, 0 to 3080\n",
      "Data columns (total 10 columns):\n",
      " #   Column  Non-Null Count  Dtype  \n",
      "---  ------  --------------  -----  \n",
      " 0   key     3081 non-null   int64  \n",
      " 1   Wire 1  3055 non-null   float64\n",
      " 2   Wire 2  1079 non-null   float64\n",
      " 3   Wire 3  63 non-null     float64\n",
      " 4   Wire 4  14 non-null     float64\n",
      " 5   Wire 5  1 non-null      float64\n",
      " 6   Wire 6  73 non-null     float64\n",
      " 7   Wire 7  11 non-null     float64\n",
      " 8   Wire 8  19 non-null     float64\n",
      " 9   Wire 9  29 non-null     float64\n",
      "dtypes: float64(9), int64(1)\n",
      "memory usage: 240.8 KB\n"
     ]
    },
    {
     "data": {
      "text/html": [
       "<div>\n",
       "<style scoped>\n",
       "    .dataframe tbody tr th:only-of-type {\n",
       "        vertical-align: middle;\n",
       "    }\n",
       "\n",
       "    .dataframe tbody tr th {\n",
       "        vertical-align: top;\n",
       "    }\n",
       "\n",
       "    .dataframe thead th {\n",
       "        text-align: right;\n",
       "    }\n",
       "</style>\n",
       "<table border=\"1\" class=\"dataframe\">\n",
       "  <thead>\n",
       "    <tr style=\"text-align: right;\">\n",
       "      <th></th>\n",
       "      <th>key</th>\n",
       "      <th>Wire 1</th>\n",
       "      <th>Wire 2</th>\n",
       "      <th>Wire 3</th>\n",
       "      <th>Wire 4</th>\n",
       "      <th>Wire 5</th>\n",
       "      <th>Wire 6</th>\n",
       "      <th>Wire 7</th>\n",
       "      <th>Wire 8</th>\n",
       "      <th>Wire 9</th>\n",
       "    </tr>\n",
       "  </thead>\n",
       "  <tbody>\n",
       "    <tr>\n",
       "      <th>0</th>\n",
       "      <td>1</td>\n",
       "      <td>60.059998</td>\n",
       "      <td>NaN</td>\n",
       "      <td>NaN</td>\n",
       "      <td>NaN</td>\n",
       "      <td>NaN</td>\n",
       "      <td>NaN</td>\n",
       "      <td>NaN</td>\n",
       "      <td>NaN</td>\n",
       "      <td>NaN</td>\n",
       "    </tr>\n",
       "    <tr>\n",
       "      <th>1</th>\n",
       "      <td>2</td>\n",
       "      <td>96.052315</td>\n",
       "      <td>NaN</td>\n",
       "      <td>NaN</td>\n",
       "      <td>NaN</td>\n",
       "      <td>NaN</td>\n",
       "      <td>NaN</td>\n",
       "      <td>NaN</td>\n",
       "      <td>NaN</td>\n",
       "      <td>NaN</td>\n",
       "    </tr>\n",
       "    <tr>\n",
       "      <th>2</th>\n",
       "      <td>3</td>\n",
       "      <td>91.160157</td>\n",
       "      <td>NaN</td>\n",
       "      <td>NaN</td>\n",
       "      <td>NaN</td>\n",
       "      <td>NaN</td>\n",
       "      <td>NaN</td>\n",
       "      <td>NaN</td>\n",
       "      <td>NaN</td>\n",
       "      <td>NaN</td>\n",
       "    </tr>\n",
       "    <tr>\n",
       "      <th>3</th>\n",
       "      <td>4</td>\n",
       "      <td>89.063515</td>\n",
       "      <td>NaN</td>\n",
       "      <td>NaN</td>\n",
       "      <td>NaN</td>\n",
       "      <td>NaN</td>\n",
       "      <td>NaN</td>\n",
       "      <td>NaN</td>\n",
       "      <td>NaN</td>\n",
       "      <td>NaN</td>\n",
       "    </tr>\n",
       "    <tr>\n",
       "      <th>4</th>\n",
       "      <td>5</td>\n",
       "      <td>89.238236</td>\n",
       "      <td>9.11456</td>\n",
       "      <td>NaN</td>\n",
       "      <td>NaN</td>\n",
       "      <td>NaN</td>\n",
       "      <td>NaN</td>\n",
       "      <td>NaN</td>\n",
       "      <td>NaN</td>\n",
       "      <td>NaN</td>\n",
       "    </tr>\n",
       "  </tbody>\n",
       "</table>\n",
       "</div>"
      ],
      "text/plain": [
       "   key     Wire 1   Wire 2  Wire 3  Wire 4  Wire 5  Wire 6  Wire 7  Wire 8  \\\n",
       "0    1  60.059998      NaN     NaN     NaN     NaN     NaN     NaN     NaN   \n",
       "1    2  96.052315      NaN     NaN     NaN     NaN     NaN     NaN     NaN   \n",
       "2    3  91.160157      NaN     NaN     NaN     NaN     NaN     NaN     NaN   \n",
       "3    4  89.063515      NaN     NaN     NaN     NaN     NaN     NaN     NaN   \n",
       "4    5  89.238236  9.11456     NaN     NaN     NaN     NaN     NaN     NaN   \n",
       "\n",
       "   Wire 9  \n",
       "0     NaN  \n",
       "1     NaN  \n",
       "2     NaN  \n",
       "3     NaN  \n",
       "4     NaN  "
      ]
     },
     "execution_count": 11,
     "metadata": {},
     "output_type": "execute_result"
    }
   ],
   "source": [
    "data_wire.info()\n",
    "data_wire.head()"
   ]
  },
  {
   "cell_type": "markdown",
   "id": "94642a17",
   "metadata": {},
   "source": [
    "Data on alloying additives. Gaps must be filled with zeros. We will also remove all alloying additives that were used in less than 1% of cases to simplify the model.\n",
    "#### Wire materials supply, time (data_wire_time)"
   ]
  },
  {
   "cell_type": "code",
   "execution_count": 12,
   "id": "b3a17c5d",
   "metadata": {},
   "outputs": [
    {
     "name": "stdout",
     "output_type": "stream",
     "text": [
      "<class 'pandas.core.frame.DataFrame'>\n",
      "RangeIndex: 3081 entries, 0 to 3080\n",
      "Data columns (total 10 columns):\n",
      " #   Column  Non-Null Count  Dtype \n",
      "---  ------  --------------  ----- \n",
      " 0   key     3081 non-null   int64 \n",
      " 1   Wire 1  3055 non-null   object\n",
      " 2   Wire 2  1079 non-null   object\n",
      " 3   Wire 3  63 non-null     object\n",
      " 4   Wire 4  14 non-null     object\n",
      " 5   Wire 5  1 non-null      object\n",
      " 6   Wire 6  73 non-null     object\n",
      " 7   Wire 7  11 non-null     object\n",
      " 8   Wire 8  19 non-null     object\n",
      " 9   Wire 9  29 non-null     object\n",
      "dtypes: int64(1), object(9)\n",
      "memory usage: 240.8+ KB\n"
     ]
    },
    {
     "data": {
      "text/html": [
       "<div>\n",
       "<style scoped>\n",
       "    .dataframe tbody tr th:only-of-type {\n",
       "        vertical-align: middle;\n",
       "    }\n",
       "\n",
       "    .dataframe tbody tr th {\n",
       "        vertical-align: top;\n",
       "    }\n",
       "\n",
       "    .dataframe thead th {\n",
       "        text-align: right;\n",
       "    }\n",
       "</style>\n",
       "<table border=\"1\" class=\"dataframe\">\n",
       "  <thead>\n",
       "    <tr style=\"text-align: right;\">\n",
       "      <th></th>\n",
       "      <th>key</th>\n",
       "      <th>Wire 1</th>\n",
       "      <th>Wire 2</th>\n",
       "      <th>Wire 3</th>\n",
       "      <th>Wire 4</th>\n",
       "      <th>Wire 5</th>\n",
       "      <th>Wire 6</th>\n",
       "      <th>Wire 7</th>\n",
       "      <th>Wire 8</th>\n",
       "      <th>Wire 9</th>\n",
       "    </tr>\n",
       "  </thead>\n",
       "  <tbody>\n",
       "    <tr>\n",
       "      <th>0</th>\n",
       "      <td>1</td>\n",
       "      <td>2019-05-03 11:06:19</td>\n",
       "      <td>NaN</td>\n",
       "      <td>NaN</td>\n",
       "      <td>NaN</td>\n",
       "      <td>NaN</td>\n",
       "      <td>NaN</td>\n",
       "      <td>NaN</td>\n",
       "      <td>NaN</td>\n",
       "      <td>NaN</td>\n",
       "    </tr>\n",
       "    <tr>\n",
       "      <th>1</th>\n",
       "      <td>2</td>\n",
       "      <td>2019-05-03 11:36:50</td>\n",
       "      <td>NaN</td>\n",
       "      <td>NaN</td>\n",
       "      <td>NaN</td>\n",
       "      <td>NaN</td>\n",
       "      <td>NaN</td>\n",
       "      <td>NaN</td>\n",
       "      <td>NaN</td>\n",
       "      <td>NaN</td>\n",
       "    </tr>\n",
       "    <tr>\n",
       "      <th>2</th>\n",
       "      <td>3</td>\n",
       "      <td>2019-05-03 12:11:46</td>\n",
       "      <td>NaN</td>\n",
       "      <td>NaN</td>\n",
       "      <td>NaN</td>\n",
       "      <td>NaN</td>\n",
       "      <td>NaN</td>\n",
       "      <td>NaN</td>\n",
       "      <td>NaN</td>\n",
       "      <td>NaN</td>\n",
       "    </tr>\n",
       "    <tr>\n",
       "      <th>3</th>\n",
       "      <td>4</td>\n",
       "      <td>2019-05-03 12:43:22</td>\n",
       "      <td>NaN</td>\n",
       "      <td>NaN</td>\n",
       "      <td>NaN</td>\n",
       "      <td>NaN</td>\n",
       "      <td>NaN</td>\n",
       "      <td>NaN</td>\n",
       "      <td>NaN</td>\n",
       "      <td>NaN</td>\n",
       "    </tr>\n",
       "    <tr>\n",
       "      <th>4</th>\n",
       "      <td>5</td>\n",
       "      <td>2019-05-03 13:20:44</td>\n",
       "      <td>2019-05-03 13:15:34</td>\n",
       "      <td>NaN</td>\n",
       "      <td>NaN</td>\n",
       "      <td>NaN</td>\n",
       "      <td>NaN</td>\n",
       "      <td>NaN</td>\n",
       "      <td>NaN</td>\n",
       "      <td>NaN</td>\n",
       "    </tr>\n",
       "  </tbody>\n",
       "</table>\n",
       "</div>"
      ],
      "text/plain": [
       "   key               Wire 1               Wire 2 Wire 3 Wire 4 Wire 5 Wire 6  \\\n",
       "0    1  2019-05-03 11:06:19                  NaN    NaN    NaN    NaN    NaN   \n",
       "1    2  2019-05-03 11:36:50                  NaN    NaN    NaN    NaN    NaN   \n",
       "2    3  2019-05-03 12:11:46                  NaN    NaN    NaN    NaN    NaN   \n",
       "3    4  2019-05-03 12:43:22                  NaN    NaN    NaN    NaN    NaN   \n",
       "4    5  2019-05-03 13:20:44  2019-05-03 13:15:34    NaN    NaN    NaN    NaN   \n",
       "\n",
       "  Wire 7 Wire 8 Wire 9  \n",
       "0    NaN    NaN    NaN  \n",
       "1    NaN    NaN    NaN  \n",
       "2    NaN    NaN    NaN  \n",
       "3    NaN    NaN    NaN  \n",
       "4    NaN    NaN    NaN  "
      ]
     },
     "execution_count": 12,
     "metadata": {},
     "output_type": "execute_result"
    }
   ],
   "source": [
    "data_wire_time.info()\n",
    "data_wire_time.head()"
   ]
  },
  {
   "cell_type": "markdown",
   "id": "09a4b1ac",
   "metadata": {},
   "source": [
    "Timing of alloying additives does not currently provide predictive value\n",
    "#### Temperature measurement (data_temp)"
   ]
  },
  {
   "cell_type": "code",
   "execution_count": 13,
   "id": "d5d776b3",
   "metadata": {},
   "outputs": [
    {
     "name": "stdout",
     "output_type": "stream",
     "text": [
      "<class 'pandas.core.frame.DataFrame'>\n",
      "RangeIndex: 18092 entries, 0 to 18091\n",
      "Data columns (total 3 columns):\n",
      " #   Column        Non-Null Count  Dtype  \n",
      "---  ------        --------------  -----  \n",
      " 0   key           18092 non-null  int64  \n",
      " 1   Время замера  18092 non-null  object \n",
      " 2   Температура   14665 non-null  float64\n",
      "dtypes: float64(1), int64(1), object(1)\n",
      "memory usage: 424.2+ KB\n"
     ]
    },
    {
     "data": {
      "text/html": [
       "<div>\n",
       "<style scoped>\n",
       "    .dataframe tbody tr th:only-of-type {\n",
       "        vertical-align: middle;\n",
       "    }\n",
       "\n",
       "    .dataframe tbody tr th {\n",
       "        vertical-align: top;\n",
       "    }\n",
       "\n",
       "    .dataframe thead th {\n",
       "        text-align: right;\n",
       "    }\n",
       "</style>\n",
       "<table border=\"1\" class=\"dataframe\">\n",
       "  <thead>\n",
       "    <tr style=\"text-align: right;\">\n",
       "      <th></th>\n",
       "      <th>key</th>\n",
       "      <th>Время замера</th>\n",
       "      <th>Температура</th>\n",
       "    </tr>\n",
       "  </thead>\n",
       "  <tbody>\n",
       "    <tr>\n",
       "      <th>0</th>\n",
       "      <td>1</td>\n",
       "      <td>2019-05-03 11:02:04</td>\n",
       "      <td>1571.0</td>\n",
       "    </tr>\n",
       "    <tr>\n",
       "      <th>1</th>\n",
       "      <td>1</td>\n",
       "      <td>2019-05-03 11:07:18</td>\n",
       "      <td>1604.0</td>\n",
       "    </tr>\n",
       "    <tr>\n",
       "      <th>2</th>\n",
       "      <td>1</td>\n",
       "      <td>2019-05-03 11:11:34</td>\n",
       "      <td>1618.0</td>\n",
       "    </tr>\n",
       "    <tr>\n",
       "      <th>3</th>\n",
       "      <td>1</td>\n",
       "      <td>2019-05-03 11:18:04</td>\n",
       "      <td>1601.0</td>\n",
       "    </tr>\n",
       "    <tr>\n",
       "      <th>4</th>\n",
       "      <td>1</td>\n",
       "      <td>2019-05-03 11:25:59</td>\n",
       "      <td>1606.0</td>\n",
       "    </tr>\n",
       "  </tbody>\n",
       "</table>\n",
       "</div>"
      ],
      "text/plain": [
       "   key         Время замера  Температура\n",
       "0    1  2019-05-03 11:02:04       1571.0\n",
       "1    1  2019-05-03 11:07:18       1604.0\n",
       "2    1  2019-05-03 11:11:34       1618.0\n",
       "3    1  2019-05-03 11:18:04       1601.0\n",
       "4    1  2019-05-03 11:25:59       1606.0"
      ]
     },
     "execution_count": 13,
     "metadata": {},
     "output_type": "execute_result"
    }
   ],
   "source": [
    "data_temp.info()\n",
    "data_temp.head()"
   ]
  },
  {
   "cell_type": "markdown",
   "id": "e0d5fced",
   "metadata": {},
   "source": [
    "We cannot use data on temperature changes during the process, but we can use the initial temperature as a feature. Final temperature will be our target. We can also to use as a feature the time between first and last temperature measurements. Missing data in this case is unacceptable; it is necessary to delete all such batches in the temperature measurement data."
   ]
  },
  {
   "cell_type": "code",
   "execution_count": 14,
   "id": "1afc910e",
   "metadata": {},
   "outputs": [
    {
     "name": "stdout",
     "output_type": "stream",
     "text": [
      "Number of records: 18092\n",
      "Number of keyes: 3216\n"
     ]
    },
    {
     "data": {
      "image/png": "[encoded data removed]",
      "text/plain": [
       "<Figure size 640x480 with 1 Axes>"
      ]
     },
     "metadata": {},
     "output_type": "display_data"
    }
   ],
   "source": [
    "print('Number of records:', data_temp['key'].count())\n",
    "print('Number of keyes:', data_temp['key'].value_counts().count())\n",
    "data_temp['key'].value_counts().hist(bins=data_temp['key'].value_counts().max())\n",
    "\n",
    "sns.histplot(x=data_temp['key'].value_counts(), bins=data_temp['key'].value_counts().max())\n",
    "plt.xlabel('Number of records in a key')\n",
    "plt.ylabel('Keys')\n",
    "plt.title('Breakdown of keys by a number of records');"
   ]
  },
  {
   "cell_type": "markdown",
   "id": "c058af82",
   "metadata": {},
   "source": [
    "The standard deviation is observed. We cannot use batches that have only one measurement. There are very few such batches, we shall exclude them."
   ]
  },
  {
   "cell_type": "code",
   "execution_count": 15,
   "id": "6b43c1b4",
   "metadata": {},
   "outputs": [
    {
     "name": "stdout",
     "output_type": "stream",
     "text": [
      "count    14665.000000\n",
      "mean      1590.722741\n",
      "std         20.394381\n",
      "min       1191.000000\n",
      "25%       1580.000000\n",
      "50%       1590.000000\n",
      "75%       1599.000000\n",
      "max       1705.000000\n",
      "Name: Температура, dtype: float64\n"
     ]
    },
    {
     "data": {
      "image/png": "[encoded data removed]",
      "text/plain": [
       "<Figure size 640x480 with 1 Axes>"
      ]
     },
     "metadata": {},
     "output_type": "display_data"
    }
   ],
   "source": [
    "print(data_temp['Температура'].describe())\n",
    "data_temp['Температура'].plot.box(vert=False)\n",
    "plt.title('Breakdown of records by temperature')\n",
    "plt.show();"
   ]
  },
  {
   "cell_type": "markdown",
   "id": "8785e168",
   "metadata": {},
   "source": [
    "There are several temperature outliers. We cannot trust such data and will have to discard all batches containing them\n",
    "#### Alloy gas purging (data_gas)"
   ]
  },
  {
   "cell_type": "code",
   "execution_count": 16,
   "id": "3be86a45",
   "metadata": {},
   "outputs": [
    {
     "name": "stdout",
     "output_type": "stream",
     "text": [
      "<class 'pandas.core.frame.DataFrame'>\n",
      "RangeIndex: 3239 entries, 0 to 3238\n",
      "Data columns (total 2 columns):\n",
      " #   Column  Non-Null Count  Dtype  \n",
      "---  ------  --------------  -----  \n",
      " 0   key     3239 non-null   int64  \n",
      " 1   Газ 1   3239 non-null   float64\n",
      "dtypes: float64(1), int64(1)\n",
      "memory usage: 50.7 KB\n"
     ]
    },
    {
     "data": {
      "text/html": [
       "<div>\n",
       "<style scoped>\n",
       "    .dataframe tbody tr th:only-of-type {\n",
       "        vertical-align: middle;\n",
       "    }\n",
       "\n",
       "    .dataframe tbody tr th {\n",
       "        vertical-align: top;\n",
       "    }\n",
       "\n",
       "    .dataframe thead th {\n",
       "        text-align: right;\n",
       "    }\n",
       "</style>\n",
       "<table border=\"1\" class=\"dataframe\">\n",
       "  <thead>\n",
       "    <tr style=\"text-align: right;\">\n",
       "      <th></th>\n",
       "      <th>key</th>\n",
       "      <th>Газ 1</th>\n",
       "    </tr>\n",
       "  </thead>\n",
       "  <tbody>\n",
       "    <tr>\n",
       "      <th>0</th>\n",
       "      <td>1</td>\n",
       "      <td>29.749986</td>\n",
       "    </tr>\n",
       "    <tr>\n",
       "      <th>1</th>\n",
       "      <td>2</td>\n",
       "      <td>12.555561</td>\n",
       "    </tr>\n",
       "    <tr>\n",
       "      <th>2</th>\n",
       "      <td>3</td>\n",
       "      <td>28.554793</td>\n",
       "    </tr>\n",
       "    <tr>\n",
       "      <th>3</th>\n",
       "      <td>4</td>\n",
       "      <td>18.841219</td>\n",
       "    </tr>\n",
       "    <tr>\n",
       "      <th>4</th>\n",
       "      <td>5</td>\n",
       "      <td>5.413692</td>\n",
       "    </tr>\n",
       "  </tbody>\n",
       "</table>\n",
       "</div>"
      ],
      "text/plain": [
       "   key      Газ 1\n",
       "0    1  29.749986\n",
       "1    2  12.555561\n",
       "2    3  28.554793\n",
       "3    4  18.841219\n",
       "4    5   5.413692"
      ]
     },
     "execution_count": 16,
     "metadata": {},
     "output_type": "execute_result"
    }
   ],
   "source": [
    "data_gas.info()\n",
    "data_gas.head()"
   ]
  },
  {
   "cell_type": "code",
   "execution_count": 17,
   "id": "df478ef4",
   "metadata": {},
   "outputs": [
    {
     "data": {
      "text/plain": [
       "count    3239.000000\n",
       "mean       11.002062\n",
       "std         6.220327\n",
       "min         0.008399\n",
       "25%         7.043089\n",
       "50%         9.836267\n",
       "75%        13.769915\n",
       "max        77.995040\n",
       "Name: Газ 1, dtype: float64"
      ]
     },
     "execution_count": 17,
     "metadata": {},
     "output_type": "execute_result"
    }
   ],
   "source": [
    "data_gas['Газ 1'].describe()"
   ]
  },
  {
   "cell_type": "code",
   "execution_count": 18,
   "id": "b70dd7f1",
   "metadata": {},
   "outputs": [
    {
     "data": {
      "image/png": "[encoded data removed]",
      "text/plain": [
       "<Figure size 640x480 with 1 Axes>"
      ]
     },
     "metadata": {},
     "output_type": "display_data"
    }
   ],
   "source": [
    "data_gas['Газ 1'].plot.box(vert=False);"
   ]
  },
  {
   "cell_type": "markdown",
   "id": "5b0dfe38",
   "metadata": {},
   "source": [
    "There are no gaps, outlier values do not go beyond the technological process, there are no problems\n",
    "\n",
    "**Conclusion**\n",
    "\n",
    "Data reviewed. Outliers and gaps were found and are to be removed during data preprocessing. Additional features were determined: total energy expended, volume of bulk and wire additives, initial temperature and heating time, volume of purge gas. Non-essential features have been identified that will not be used and will not be included in the final data table. In the final table there will be one row corresponding to each batch\n",
    "\n",
    "Question for the client: If we cannot use temperatures during the process to predict the final temperature, then why can we use the heating time from the initial to the final temperature? Is it set in advance? The same goes for electrode data. We can use them to calculate the total energy, although energy is introduced during the process based on time and power supplied. Are these parameters known in advance?\n",
    "\n",
    "Answer: We can estimate the duration of the process as well as the total amount of energy (planned inclusions) before the start of melting or confidently assume for modeling the process. Although, of course, this factor may need additional research after the completion of the project.\n",
    "### Preprocessing\n",
    "#### Electrode data (data_arc)"
   ]
  },
  {
   "cell_type": "code",
   "execution_count": 19,
   "id": "40c2eac0",
   "metadata": {},
   "outputs": [],
   "source": [
    "data_arc.columns = ['key', 'start', 'finish',\n",
    "       'active', 'reactive']"
   ]
  },
  {
   "cell_type": "markdown",
   "id": "506cb861",
   "metadata": {},
   "source": [
    "Removing batches with outliers in reactive power"
   ]
  },
  {
   "cell_type": "code",
   "execution_count": 20,
   "id": "686a827c",
   "metadata": {},
   "outputs": [],
   "source": [
    "bad_keys = data_arc[data_arc['reactive'] < 0]['key'].unique()\n",
    "data_arc = data_arc[~data_arc['key'].isin(bad_keys)]\n",
    "data_arc['start'] = pd.to_datetime(data_arc['start'])\n",
    "data_arc['finish'] = pd.to_datetime(data_arc['finish'])"
   ]
  },
  {
   "cell_type": "markdown",
   "id": "fe68720e",
   "metadata": {},
   "source": [
    "Calculating total power and summing it up for each batch. Also calculating number of energy feed iterations per batch, average energy and average downtime"
   ]
  },
  {
   "cell_type": "code",
   "execution_count": 21,
   "id": "43e3c0fe",
   "metadata": {},
   "outputs": [],
   "source": [
    "data_arc['power'] = ((data_arc['active'] ** 2 + data_arc['reactive'] ** 2) ** 0.5 * \n",
    "                     (data_arc['finish'] - data_arc['start']).dt.total_seconds())\n",
    "data_arc['downtime'] = (data_arc.groupby('key')['start'].shift(-1) - data_arc['finish']).dt.total_seconds()\n",
    "\n",
    "data_arc = data_arc.groupby('key').agg(\n",
    "    n_arc=('key', 'size'),\n",
    "    power=('power', 'sum'),\n",
    "    power_mean=('power', 'mean'),\n",
    "#    downtime=('downtime', 'sum'), directly correlates with time_temp\n",
    "    downtime_mean=('downtime', 'mean')\n",
    ")\n",
    "data_arc['downtime_mean'] = data_arc['downtime_mean'].fillna(0)"
   ]
  },
  {
   "cell_type": "code",
   "execution_count": 22,
   "id": "8c5ffe6f",
   "metadata": {},
   "outputs": [
    {
     "name": "stdout",
     "output_type": "stream",
     "text": [
      "<class 'pandas.core.frame.DataFrame'>\n",
      "Index: 3213 entries, 1 to 3241\n",
      "Data columns (total 4 columns):\n",
      " #   Column         Non-Null Count  Dtype  \n",
      "---  ------         --------------  -----  \n",
      " 0   n_arc          3213 non-null   int64  \n",
      " 1   power          3213 non-null   float64\n",
      " 2   power_mean     3213 non-null   float64\n",
      " 3   downtime_mean  3213 non-null   float64\n",
      "dtypes: float64(3), int64(1)\n",
      "memory usage: 125.5 KB\n"
     ]
    },
    {
     "data": {
      "text/html": [
       "<div>\n",
       "<style scoped>\n",
       "    .dataframe tbody tr th:only-of-type {\n",
       "        vertical-align: middle;\n",
       "    }\n",
       "\n",
       "    .dataframe tbody tr th {\n",
       "        vertical-align: top;\n",
       "    }\n",
       "\n",
       "    .dataframe thead th {\n",
       "        text-align: right;\n",
       "    }\n",
       "</style>\n",
       "<table border=\"1\" class=\"dataframe\">\n",
       "  <thead>\n",
       "    <tr style=\"text-align: right;\">\n",
       "      <th></th>\n",
       "      <th>n_arc</th>\n",
       "      <th>power</th>\n",
       "      <th>power_mean</th>\n",
       "      <th>downtime_mean</th>\n",
       "    </tr>\n",
       "    <tr>\n",
       "      <th>key</th>\n",
       "      <th></th>\n",
       "      <th></th>\n",
       "      <th></th>\n",
       "      <th></th>\n",
       "    </tr>\n",
       "  </thead>\n",
       "  <tbody>\n",
       "    <tr>\n",
       "      <th>1</th>\n",
       "      <td>5</td>\n",
       "      <td>770.282114</td>\n",
       "      <td>154.056423</td>\n",
       "      <td>121.250000</td>\n",
       "    </tr>\n",
       "    <tr>\n",
       "      <th>2</th>\n",
       "      <td>4</td>\n",
       "      <td>481.760005</td>\n",
       "      <td>120.440001</td>\n",
       "      <td>111.000000</td>\n",
       "    </tr>\n",
       "    <tr>\n",
       "      <th>3</th>\n",
       "      <td>5</td>\n",
       "      <td>722.837668</td>\n",
       "      <td>144.567534</td>\n",
       "      <td>217.500000</td>\n",
       "    </tr>\n",
       "    <tr>\n",
       "      <th>4</th>\n",
       "      <td>4</td>\n",
       "      <td>683.455597</td>\n",
       "      <td>170.863899</td>\n",
       "      <td>117.333333</td>\n",
       "    </tr>\n",
       "    <tr>\n",
       "      <th>5</th>\n",
       "      <td>4</td>\n",
       "      <td>512.169934</td>\n",
       "      <td>128.042484</td>\n",
       "      <td>164.333333</td>\n",
       "    </tr>\n",
       "  </tbody>\n",
       "</table>\n",
       "</div>"
      ],
      "text/plain": [
       "     n_arc       power  power_mean  downtime_mean\n",
       "key                                              \n",
       "1        5  770.282114  154.056423     121.250000\n",
       "2        4  481.760005  120.440001     111.000000\n",
       "3        5  722.837668  144.567534     217.500000\n",
       "4        4  683.455597  170.863899     117.333333\n",
       "5        4  512.169934  128.042484     164.333333"
      ]
     },
     "execution_count": 22,
     "metadata": {},
     "output_type": "execute_result"
    }
   ],
   "source": [
    "data_arc.info()\n",
    "data_arc.head()"
   ]
  },
  {
   "cell_type": "markdown",
   "id": "fe99b3cc",
   "metadata": {},
   "source": [
    "#### Bulk materials supply (data_bulk)"
   ]
  },
  {
   "cell_type": "code",
   "execution_count": 23,
   "id": "1e2050c1",
   "metadata": {},
   "outputs": [],
   "source": [
    "data_bulk.columns = data_bulk.columns.str.replace(' ','_').str.lower()"
   ]
  },
  {
   "cell_type": "markdown",
   "id": "9f9544a6",
   "metadata": {},
   "source": [
    "Removing all additives that were added less than one percent of times and filling in the gaps with zeros"
   ]
  },
  {
   "cell_type": "code",
   "execution_count": 24,
   "id": "ad8cc686",
   "metadata": {},
   "outputs": [],
   "source": [
    "filtered_columns = data_bulk.columns[data_bulk.count() >= data_bulk['key'].max() * 0.01]\n",
    "data_bulk = data_bulk[filtered_columns]\n",
    "data_bulk = data_bulk.fillna(0)\n",
    "data_bulk = data_bulk.set_index('key')"
   ]
  },
  {
   "cell_type": "code",
   "execution_count": 25,
   "id": "579c53fc",
   "metadata": {},
   "outputs": [
    {
     "name": "stdout",
     "output_type": "stream",
     "text": [
      "<class 'pandas.core.frame.DataFrame'>\n",
      "Index: 3129 entries, 1 to 3241\n",
      "Data columns (total 10 columns):\n",
      " #   Column   Non-Null Count  Dtype  \n",
      "---  ------   --------------  -----  \n",
      " 0   bulk_1   3129 non-null   float64\n",
      " 1   bulk_3   3129 non-null   float64\n",
      " 2   bulk_4   3129 non-null   float64\n",
      " 3   bulk_5   3129 non-null   float64\n",
      " 4   bulk_6   3129 non-null   float64\n",
      " 5   bulk_10  3129 non-null   float64\n",
      " 6   bulk_11  3129 non-null   float64\n",
      " 7   bulk_12  3129 non-null   float64\n",
      " 8   bulk_14  3129 non-null   float64\n",
      " 9   bulk_15  3129 non-null   float64\n",
      "dtypes: float64(10)\n",
      "memory usage: 268.9 KB\n"
     ]
    }
   ],
   "source": [
    "data_bulk.info()"
   ]
  },
  {
   "cell_type": "markdown",
   "id": "85a8de12",
   "metadata": {},
   "source": [
    "#### Wire materials supply (data_wire)"
   ]
  },
  {
   "cell_type": "code",
   "execution_count": 26,
   "id": "de66a479",
   "metadata": {},
   "outputs": [],
   "source": [
    "data_wire.columns = data_wire.columns.str.replace(' ','_').str.lower()"
   ]
  },
  {
   "cell_type": "markdown",
   "id": "5582793c",
   "metadata": {},
   "source": [
    "Removing all additives that were added less than one percent of times and filling in the gaps with zeros"
   ]
  },
  {
   "cell_type": "code",
   "execution_count": 27,
   "id": "5db92989",
   "metadata": {},
   "outputs": [],
   "source": [
    "filtered_columns = data_wire.columns[data_wire.count() >= data_wire['key'].max() * 0.01]\n",
    "data_wire = data_wire[filtered_columns]\n",
    "data_wire = data_wire.fillna(0)\n",
    "data_wire = data_wire.set_index('key')"
   ]
  },
  {
   "cell_type": "code",
   "execution_count": 28,
   "id": "3e61e040",
   "metadata": {},
   "outputs": [
    {
     "name": "stdout",
     "output_type": "stream",
     "text": [
      "<class 'pandas.core.frame.DataFrame'>\n",
      "Index: 3081 entries, 1 to 3241\n",
      "Data columns (total 4 columns):\n",
      " #   Column  Non-Null Count  Dtype  \n",
      "---  ------  --------------  -----  \n",
      " 0   wire_1  3081 non-null   float64\n",
      " 1   wire_2  3081 non-null   float64\n",
      " 2   wire_3  3081 non-null   float64\n",
      " 3   wire_6  3081 non-null   float64\n",
      "dtypes: float64(4)\n",
      "memory usage: 120.4 KB\n"
     ]
    }
   ],
   "source": [
    "data_wire.info()"
   ]
  },
  {
   "cell_type": "markdown",
   "id": "ba9557ec",
   "metadata": {},
   "source": [
    "#### Temperature measurement (data_temp)"
   ]
  },
  {
   "cell_type": "code",
   "execution_count": 29,
   "id": "cdd90328",
   "metadata": {},
   "outputs": [],
   "source": [
    "data_temp.columns = ['key', 'time', 'temperature']"
   ]
  },
  {
   "cell_type": "markdown",
   "id": "9950266b",
   "metadata": {},
   "source": [
    "Deleting all batches that contain missing temperature measurements"
   ]
  },
  {
   "cell_type": "code",
   "execution_count": 30,
   "id": "2a9c294f",
   "metadata": {},
   "outputs": [],
   "source": [
    "bad_keys = data_temp[data_temp['temperature'].isna()]['key'].unique()\n",
    "data_temp = data_temp[~data_temp['key'].isin(bad_keys)]"
   ]
  },
  {
   "cell_type": "markdown",
   "id": "d87e18a9",
   "metadata": {},
   "source": [
    "Deleting all batches that have less than two temperature measurement records"
   ]
  },
  {
   "cell_type": "code",
   "execution_count": 31,
   "id": "60b5659d",
   "metadata": {},
   "outputs": [],
   "source": [
    "bad_keys = data_temp['key'].value_counts()\n",
    "bad_keys = bad_keys[bad_keys < 2].index\n",
    "data_temp = data_temp[~data_temp['key'].isin(bad_keys)]"
   ]
  },
  {
   "cell_type": "markdown",
   "id": "0c47656e",
   "metadata": {},
   "source": [
    "Deleting all batches with outliers"
   ]
  },
  {
   "cell_type": "code",
   "execution_count": 32,
   "id": "11004609",
   "metadata": {},
   "outputs": [],
   "source": [
    "bad_keys = data_temp[data_temp['temperature'] < 1400]['key'].unique()\n",
    "data_temp = data_temp[~data_temp['key'].isin(bad_keys)]"
   ]
  },
  {
   "cell_type": "code",
   "execution_count": 33,
   "id": "9237a825",
   "metadata": {},
   "outputs": [],
   "source": [
    "data_temp['time'] = pd.to_datetime(data_temp['time'])"
   ]
  },
  {
   "cell_type": "markdown",
   "id": "d2af4951",
   "metadata": {},
   "source": [
    "Grouping data"
   ]
  },
  {
   "cell_type": "code",
   "execution_count": 34,
   "id": "e62a9edc",
   "metadata": {},
   "outputs": [],
   "source": [
    "data_temp = data_temp.groupby('key').agg(\n",
    "#    n_temp=('key', 'size'), directly correlates with n_arc\n",
    "    first_temp=('temperature', 'first'),\n",
    "    last_temp=('temperature', 'last'),\n",
    "    time_temp=('time', lambda x: (x.max() - x.min()).total_seconds())\n",
    ")"
   ]
  },
  {
   "cell_type": "code",
   "execution_count": 35,
   "id": "168222c2",
   "metadata": {},
   "outputs": [
    {
     "name": "stdout",
     "output_type": "stream",
     "text": [
      "<class 'pandas.core.frame.DataFrame'>\n",
      "Index: 2471 entries, 1 to 2499\n",
      "Data columns (total 3 columns):\n",
      " #   Column      Non-Null Count  Dtype  \n",
      "---  ------      --------------  -----  \n",
      " 0   first_temp  2471 non-null   float64\n",
      " 1   last_temp   2471 non-null   float64\n",
      " 2   time_temp   2471 non-null   float64\n",
      "dtypes: float64(3)\n",
      "memory usage: 77.2 KB\n"
     ]
    },
    {
     "data": {
      "text/html": [
       "<div>\n",
       "<style scoped>\n",
       "    .dataframe tbody tr th:only-of-type {\n",
       "        vertical-align: middle;\n",
       "    }\n",
       "\n",
       "    .dataframe tbody tr th {\n",
       "        vertical-align: top;\n",
       "    }\n",
       "\n",
       "    .dataframe thead th {\n",
       "        text-align: right;\n",
       "    }\n",
       "</style>\n",
       "<table border=\"1\" class=\"dataframe\">\n",
       "  <thead>\n",
       "    <tr style=\"text-align: right;\">\n",
       "      <th></th>\n",
       "      <th>first_temp</th>\n",
       "      <th>last_temp</th>\n",
       "      <th>time_temp</th>\n",
       "    </tr>\n",
       "    <tr>\n",
       "      <th>key</th>\n",
       "      <th></th>\n",
       "      <th></th>\n",
       "      <th></th>\n",
       "    </tr>\n",
       "  </thead>\n",
       "  <tbody>\n",
       "    <tr>\n",
       "      <th>1</th>\n",
       "      <td>1571.0</td>\n",
       "      <td>1613.0</td>\n",
       "      <td>1714.0</td>\n",
       "    </tr>\n",
       "    <tr>\n",
       "      <th>2</th>\n",
       "      <td>1581.0</td>\n",
       "      <td>1602.0</td>\n",
       "      <td>1265.0</td>\n",
       "    </tr>\n",
       "    <tr>\n",
       "      <th>3</th>\n",
       "      <td>1596.0</td>\n",
       "      <td>1599.0</td>\n",
       "      <td>1753.0</td>\n",
       "    </tr>\n",
       "    <tr>\n",
       "      <th>4</th>\n",
       "      <td>1601.0</td>\n",
       "      <td>1625.0</td>\n",
       "      <td>1220.0</td>\n",
       "    </tr>\n",
       "    <tr>\n",
       "      <th>5</th>\n",
       "      <td>1576.0</td>\n",
       "      <td>1602.0</td>\n",
       "      <td>1536.0</td>\n",
       "    </tr>\n",
       "  </tbody>\n",
       "</table>\n",
       "</div>"
      ],
      "text/plain": [
       "     first_temp  last_temp  time_temp\n",
       "key                                  \n",
       "1        1571.0     1613.0     1714.0\n",
       "2        1581.0     1602.0     1265.0\n",
       "3        1596.0     1599.0     1753.0\n",
       "4        1601.0     1625.0     1220.0\n",
       "5        1576.0     1602.0     1536.0"
      ]
     },
     "execution_count": 35,
     "metadata": {},
     "output_type": "execute_result"
    }
   ],
   "source": [
    "data_temp.info()\n",
    "data_temp.head()"
   ]
  },
  {
   "cell_type": "markdown",
   "id": "9e28c20a",
   "metadata": {},
   "source": [
    "#### Alloy gas purging (data_gas)"
   ]
  },
  {
   "cell_type": "code",
   "execution_count": 36,
   "id": "9e755e8d",
   "metadata": {},
   "outputs": [],
   "source": [
    "data_gas.columns = ['key', 'gas']\n",
    "data_gas = data_gas.set_index('key')"
   ]
  },
  {
   "cell_type": "markdown",
   "id": "f8731581",
   "metadata": {},
   "source": [
    "#### Merging data"
   ]
  },
  {
   "cell_type": "code",
   "execution_count": 37,
   "id": "827ae293",
   "metadata": {},
   "outputs": [],
   "source": [
    "data = ( data_arc.merge(data_bulk, how='left', left_index=True, right_index=True)\n",
    "                 .merge(data_wire, how='left', left_index=True, right_index=True)\n",
    "                 .merge(data_temp, how='inner', left_index=True, right_index=True)\n",
    "                 .merge(data_gas, how='left', left_index=True, right_index=True))\n",
    "data = data.fillna(0)"
   ]
  },
  {
   "cell_type": "markdown",
   "id": "abdf4098",
   "metadata": {},
   "source": [
    "The data is collected in one table, let’s look at it"
   ]
  },
  {
   "cell_type": "code",
   "execution_count": 38,
   "id": "b2b21be8",
   "metadata": {},
   "outputs": [
    {
     "name": "stdout",
     "output_type": "stream",
     "text": [
      "<class 'pandas.core.frame.DataFrame'>\n",
      "Index: 2470 entries, 1 to 2499\n",
      "Data columns (total 22 columns):\n",
      " #   Column         Non-Null Count  Dtype  \n",
      "---  ------         --------------  -----  \n",
      " 0   n_arc          2470 non-null   int64  \n",
      " 1   power          2470 non-null   float64\n",
      " 2   power_mean     2470 non-null   float64\n",
      " 3   downtime_mean  2470 non-null   float64\n",
      " 4   bulk_1         2470 non-null   float64\n",
      " 5   bulk_3         2470 non-null   float64\n",
      " 6   bulk_4         2470 non-null   float64\n",
      " 7   bulk_5         2470 non-null   float64\n",
      " 8   bulk_6         2470 non-null   float64\n",
      " 9   bulk_10        2470 non-null   float64\n",
      " 10  bulk_11        2470 non-null   float64\n",
      " 11  bulk_12        2470 non-null   float64\n",
      " 12  bulk_14        2470 non-null   float64\n",
      " 13  bulk_15        2470 non-null   float64\n",
      " 14  wire_1         2470 non-null   float64\n",
      " 15  wire_2         2470 non-null   float64\n",
      " 16  wire_3         2470 non-null   float64\n",
      " 17  wire_6         2470 non-null   float64\n",
      " 18  first_temp     2470 non-null   float64\n",
      " 19  last_temp      2470 non-null   float64\n",
      " 20  time_temp      2470 non-null   float64\n",
      " 21  gas            2470 non-null   float64\n",
      "dtypes: float64(21), int64(1)\n",
      "memory usage: 508.4 KB\n"
     ]
    },
    {
     "data": {
      "text/html": [
       "<div>\n",
       "<style scoped>\n",
       "    .dataframe tbody tr th:only-of-type {\n",
       "        vertical-align: middle;\n",
       "    }\n",
       "\n",
       "    .dataframe tbody tr th {\n",
       "        vertical-align: top;\n",
       "    }\n",
       "\n",
       "    .dataframe thead th {\n",
       "        text-align: right;\n",
       "    }\n",
       "</style>\n",
       "<table border=\"1\" class=\"dataframe\">\n",
       "  <thead>\n",
       "    <tr style=\"text-align: right;\">\n",
       "      <th></th>\n",
       "      <th>n_arc</th>\n",
       "      <th>power</th>\n",
       "      <th>power_mean</th>\n",
       "      <th>downtime_mean</th>\n",
       "      <th>bulk_1</th>\n",
       "      <th>bulk_3</th>\n",
       "      <th>bulk_4</th>\n",
       "      <th>bulk_5</th>\n",
       "      <th>bulk_6</th>\n",
       "      <th>bulk_10</th>\n",
       "      <th>...</th>\n",
       "      <th>bulk_14</th>\n",
       "      <th>bulk_15</th>\n",
       "      <th>wire_1</th>\n",
       "      <th>wire_2</th>\n",
       "      <th>wire_3</th>\n",
       "      <th>wire_6</th>\n",
       "      <th>first_temp</th>\n",
       "      <th>last_temp</th>\n",
       "      <th>time_temp</th>\n",
       "      <th>gas</th>\n",
       "    </tr>\n",
       "    <tr>\n",
       "      <th>key</th>\n",
       "      <th></th>\n",
       "      <th></th>\n",
       "      <th></th>\n",
       "      <th></th>\n",
       "      <th></th>\n",
       "      <th></th>\n",
       "      <th></th>\n",
       "      <th></th>\n",
       "      <th></th>\n",
       "      <th></th>\n",
       "      <th></th>\n",
       "      <th></th>\n",
       "      <th></th>\n",
       "      <th></th>\n",
       "      <th></th>\n",
       "      <th></th>\n",
       "      <th></th>\n",
       "      <th></th>\n",
       "      <th></th>\n",
       "      <th></th>\n",
       "      <th></th>\n",
       "    </tr>\n",
       "  </thead>\n",
       "  <tbody>\n",
       "    <tr>\n",
       "      <th>1</th>\n",
       "      <td>5</td>\n",
       "      <td>770.282114</td>\n",
       "      <td>154.056423</td>\n",
       "      <td>121.250000</td>\n",
       "      <td>0.0</td>\n",
       "      <td>0.0</td>\n",
       "      <td>43.0</td>\n",
       "      <td>0.0</td>\n",
       "      <td>0.0</td>\n",
       "      <td>0.0</td>\n",
       "      <td>...</td>\n",
       "      <td>150.0</td>\n",
       "      <td>154.0</td>\n",
       "      <td>60.059998</td>\n",
       "      <td>0.00000</td>\n",
       "      <td>0.0</td>\n",
       "      <td>0.0</td>\n",
       "      <td>1571.0</td>\n",
       "      <td>1613.0</td>\n",
       "      <td>1714.0</td>\n",
       "      <td>29.749986</td>\n",
       "    </tr>\n",
       "    <tr>\n",
       "      <th>2</th>\n",
       "      <td>4</td>\n",
       "      <td>481.760005</td>\n",
       "      <td>120.440001</td>\n",
       "      <td>111.000000</td>\n",
       "      <td>0.0</td>\n",
       "      <td>0.0</td>\n",
       "      <td>73.0</td>\n",
       "      <td>0.0</td>\n",
       "      <td>0.0</td>\n",
       "      <td>0.0</td>\n",
       "      <td>...</td>\n",
       "      <td>149.0</td>\n",
       "      <td>154.0</td>\n",
       "      <td>96.052315</td>\n",
       "      <td>0.00000</td>\n",
       "      <td>0.0</td>\n",
       "      <td>0.0</td>\n",
       "      <td>1581.0</td>\n",
       "      <td>1602.0</td>\n",
       "      <td>1265.0</td>\n",
       "      <td>12.555561</td>\n",
       "    </tr>\n",
       "    <tr>\n",
       "      <th>3</th>\n",
       "      <td>5</td>\n",
       "      <td>722.837668</td>\n",
       "      <td>144.567534</td>\n",
       "      <td>217.500000</td>\n",
       "      <td>0.0</td>\n",
       "      <td>0.0</td>\n",
       "      <td>34.0</td>\n",
       "      <td>0.0</td>\n",
       "      <td>0.0</td>\n",
       "      <td>0.0</td>\n",
       "      <td>...</td>\n",
       "      <td>152.0</td>\n",
       "      <td>153.0</td>\n",
       "      <td>91.160157</td>\n",
       "      <td>0.00000</td>\n",
       "      <td>0.0</td>\n",
       "      <td>0.0</td>\n",
       "      <td>1596.0</td>\n",
       "      <td>1599.0</td>\n",
       "      <td>1753.0</td>\n",
       "      <td>28.554793</td>\n",
       "    </tr>\n",
       "    <tr>\n",
       "      <th>4</th>\n",
       "      <td>4</td>\n",
       "      <td>683.455597</td>\n",
       "      <td>170.863899</td>\n",
       "      <td>117.333333</td>\n",
       "      <td>0.0</td>\n",
       "      <td>0.0</td>\n",
       "      <td>81.0</td>\n",
       "      <td>0.0</td>\n",
       "      <td>0.0</td>\n",
       "      <td>0.0</td>\n",
       "      <td>...</td>\n",
       "      <td>153.0</td>\n",
       "      <td>154.0</td>\n",
       "      <td>89.063515</td>\n",
       "      <td>0.00000</td>\n",
       "      <td>0.0</td>\n",
       "      <td>0.0</td>\n",
       "      <td>1601.0</td>\n",
       "      <td>1625.0</td>\n",
       "      <td>1220.0</td>\n",
       "      <td>18.841219</td>\n",
       "    </tr>\n",
       "    <tr>\n",
       "      <th>5</th>\n",
       "      <td>4</td>\n",
       "      <td>512.169934</td>\n",
       "      <td>128.042484</td>\n",
       "      <td>164.333333</td>\n",
       "      <td>0.0</td>\n",
       "      <td>0.0</td>\n",
       "      <td>78.0</td>\n",
       "      <td>0.0</td>\n",
       "      <td>0.0</td>\n",
       "      <td>0.0</td>\n",
       "      <td>...</td>\n",
       "      <td>151.0</td>\n",
       "      <td>152.0</td>\n",
       "      <td>89.238236</td>\n",
       "      <td>9.11456</td>\n",
       "      <td>0.0</td>\n",
       "      <td>0.0</td>\n",
       "      <td>1576.0</td>\n",
       "      <td>1602.0</td>\n",
       "      <td>1536.0</td>\n",
       "      <td>5.413692</td>\n",
       "    </tr>\n",
       "  </tbody>\n",
       "</table>\n",
       "<p>5 rows × 22 columns</p>\n",
       "</div>"
      ],
      "text/plain": [
       "     n_arc       power  power_mean  downtime_mean  bulk_1  bulk_3  bulk_4  \\\n",
       "key                                                                         \n",
       "1        5  770.282114  154.056423     121.250000     0.0     0.0    43.0   \n",
       "2        4  481.760005  120.440001     111.000000     0.0     0.0    73.0   \n",
       "3        5  722.837668  144.567534     217.500000     0.0     0.0    34.0   \n",
       "4        4  683.455597  170.863899     117.333333     0.0     0.0    81.0   \n",
       "5        4  512.169934  128.042484     164.333333     0.0     0.0    78.0   \n",
       "\n",
       "     bulk_5  bulk_6  bulk_10  ...  bulk_14  bulk_15     wire_1   wire_2  \\\n",
       "key                           ...                                         \n",
       "1       0.0     0.0      0.0  ...    150.0    154.0  60.059998  0.00000   \n",
       "2       0.0     0.0      0.0  ...    149.0    154.0  96.052315  0.00000   \n",
       "3       0.0     0.0      0.0  ...    152.0    153.0  91.160157  0.00000   \n",
       "4       0.0     0.0      0.0  ...    153.0    154.0  89.063515  0.00000   \n",
       "5       0.0     0.0      0.0  ...    151.0    152.0  89.238236  9.11456   \n",
       "\n",
       "     wire_3  wire_6  first_temp  last_temp  time_temp        gas  \n",
       "key                                                               \n",
       "1       0.0     0.0      1571.0     1613.0     1714.0  29.749986  \n",
       "2       0.0     0.0      1581.0     1602.0     1265.0  12.555561  \n",
       "3       0.0     0.0      1596.0     1599.0     1753.0  28.554793  \n",
       "4       0.0     0.0      1601.0     1625.0     1220.0  18.841219  \n",
       "5       0.0     0.0      1576.0     1602.0     1536.0   5.413692  \n",
       "\n",
       "[5 rows x 22 columns]"
      ]
     },
     "execution_count": 38,
     "metadata": {},
     "output_type": "execute_result"
    }
   ],
   "source": [
    "data.info()\n",
    "data.head()"
   ]
  },
  {
   "cell_type": "code",
   "execution_count": 39,
   "id": "0985e38e",
   "metadata": {},
   "outputs": [
    {
     "data": {
      "image/png": "[encoded data removed]",
      "text/plain": [
       "<Figure size 1700x1700 with 2 Axes>"
      ]
     },
     "metadata": {},
     "output_type": "display_data"
    }
   ],
   "source": [
    "corr = data.corr()\n",
    "mask = np.triu(np.ones_like(corr, dtype=bool))\n",
    "f, ax = plt.subplots(figsize=(17, 17))\n",
    "cmap = sns.diverging_palette(230, 20, as_cmap=True)\n",
    "sns.heatmap(corr, mask=mask, cmap=cmap, center=0,\n",
    "            square=True, linewidths=.5, cbar_kws={\"shrink\": .5}).set(title='Correlation')\n",
    "for i in range(corr.shape[0]):\n",
    "    for j in range(corr.shape[1]):\n",
    "        if mask[i, j]:\n",
    "            continue\n",
    "        ax.text(j + 0.5, i + 0.5, f'{abs(corr.iloc[i, j]):.2f}',\n",
    "                ha='center', va='center', color='black',\n",
    "                bbox=dict(facecolor='white', edgecolor='white', boxstyle='round'))\n",
    "\n",
    "ax.set_title('Correlation')\n",
    "plt.show()"
   ]
  },
  {
   "cell_type": "markdown",
   "id": "8704b6d3",
   "metadata": {},
   "source": [
    "**Conclusion**\n",
    "\n",
    "The correlations vary, 2 values were directly correlated and got removed. The temperature at the end of the process depends most strongly on the temperature at the beginning of the process (0.44), mean power (0.21), total used power (0.18), bulk additives 6 (-0.17), 12 (0.16) and wire additive 2 (-0.21). Let’s take a more in-depth look at the dependencies after training the models\n",
    "## Model training and testing\n",
    "### Splitting test sample"
   ]
  },
  {
   "cell_type": "code",
   "execution_count": 40,
   "id": "0b86f7b1",
   "metadata": {},
   "outputs": [],
   "source": [
    "features = data.drop('last_temp', axis=1)\n",
    "target = data['last_temp']\n",
    "features_train, features_test, target_train, target_test = train_test_split(features, \n",
    "                                                                            target, test_size=0.25,\n",
    "                                                                                         random_state=STATE)\n",
    "scaler = StandardScaler()\n",
    "scaler.fit(features_train)\n",
    "features_train = scaler.transform(features_train)\n",
    "features_test = scaler.transform(features_test)"
   ]
  },
  {
   "cell_type": "markdown",
   "id": "ddbef5a0",
   "metadata": {},
   "source": [
    "### Training"
   ]
  },
  {
   "cell_type": "code",
   "execution_count": 41,
   "id": "ecfb5178",
   "metadata": {},
   "outputs": [],
   "source": [
    "models = pd.DataFrame({'model': [],'mae': []})"
   ]
  },
  {
   "cell_type": "markdown",
   "id": "720dc2d8",
   "metadata": {},
   "source": [
    "#### DummyRegressor"
   ]
  },
  {
   "cell_type": "code",
   "execution_count": 42,
   "id": "cbc22cf4",
   "metadata": {},
   "outputs": [
    {
     "name": "stdout",
     "output_type": "stream",
     "text": [
      "DummyRegressor MAE: 10.097\n"
     ]
    }
   ],
   "source": [
    "model_dr = DummyRegressor()\n",
    "model_dr.fit(features_train, target_train)\n",
    "\n",
    "mae = round(-cross_val_score(model_dr, features_train, target_train, \n",
    "                             scoring='neg_mean_absolute_error', cv=5).mean(), 3)\n",
    "print('DummyRegressor MAE:', mae)\n",
    "\n",
    "models_con = pd.DataFrame({'model': ['DummyRegressor'],\n",
    "                           'mae': [mae]})\n",
    "\n",
    "models = pd.concat([models, models_con], ignore_index=True)"
   ]
  },
  {
   "cell_type": "markdown",
   "id": "b99868b8",
   "metadata": {},
   "source": [
    "#### LinearRegression"
   ]
  },
  {
   "cell_type": "code",
   "execution_count": 43,
   "id": "499e5189",
   "metadata": {},
   "outputs": [
    {
     "name": "stdout",
     "output_type": "stream",
     "text": [
      "LinearRegression MAE: 8.157\n"
     ]
    }
   ],
   "source": [
    "model_lr = LinearRegression()\n",
    "model_lr.fit(features_train, target_train)\n",
    "\n",
    "mae = round(-cross_val_score(model_lr, features_train, target_train, \n",
    "                             scoring='neg_mean_absolute_error', cv=5).mean(), 3)\n",
    "print('LinearRegression MAE:', mae)\n",
    "\n",
    "models_con = pd.DataFrame({'model': ['LinearRegression'],\n",
    "                           'mae': [mae]})\n",
    "\n",
    "models = pd.concat([models, models_con], ignore_index=True)"
   ]
  },
  {
   "cell_type": "markdown",
   "id": "835a3af9",
   "metadata": {},
   "source": [
    "#### RandomForestRegressor"
   ]
  },
  {
   "cell_type": "code",
   "execution_count": 44,
   "id": "472f5d18",
   "metadata": {},
   "outputs": [],
   "source": [
    "model_rf = RandomForestRegressor(random_state=STATE)\n",
    "parameters = {\n",
    "\n",
    "            \n",
    "          'max_depth': np.arange(3,20,1),\n",
    "          'n_estimators': np.arange(10,200,1)\n",
    "    }\n",
    "RSCV_rf = RandomizedSearchCV(model_rf,parameters,scoring='neg_mean_absolute_error',\n",
    "                             cv=5,n_iter=10,verbose=2, random_state=STATE)"
   ]
  },
  {
   "cell_type": "code",
   "execution_count": 45,
   "id": "f4739382",
   "metadata": {
    "scrolled": true
   },
   "outputs": [
    {
     "name": "stdout",
     "output_type": "stream",
     "text": [
      "Fitting 5 folds for each of 10 candidates, totalling 50 fits\n",
      "[CV] END .....................max_depth=10, n_estimators=150; total time=   3.6s\n",
      "[CV] END .....................max_depth=10, n_estimators=150; total time=   3.6s\n",
      "[CV] END .....................max_depth=10, n_estimators=150; total time=   3.6s\n",
      "[CV] END .....................max_depth=10, n_estimators=150; total time=   3.6s\n",
      "[CV] END .....................max_depth=10, n_estimators=150; total time=   3.6s\n",
      "[CV] END .....................max_depth=12, n_estimators=138; total time=   3.9s\n",
      "[CV] END .....................max_depth=12, n_estimators=138; total time=   4.0s\n",
      "[CV] END .....................max_depth=12, n_estimators=138; total time=   4.0s\n",
      "[CV] END .....................max_depth=12, n_estimators=138; total time=   3.9s\n",
      "[CV] END .....................max_depth=12, n_estimators=138; total time=   3.9s\n",
      "[CV] END .....................max_depth=11, n_estimators=144; total time=   3.8s\n",
      "[CV] END .....................max_depth=11, n_estimators=144; total time=   3.8s\n",
      "[CV] END .....................max_depth=11, n_estimators=144; total time=   3.8s\n",
      "[CV] END .....................max_depth=11, n_estimators=144; total time=   3.7s\n",
      "[CV] END .....................max_depth=11, n_estimators=144; total time=   3.8s\n",
      "[CV] END .....................max_depth=19, n_estimators=105; total time=   3.9s\n",
      "[CV] END .....................max_depth=19, n_estimators=105; total time=   3.8s\n",
      "[CV] END .....................max_depth=19, n_estimators=105; total time=   3.9s\n",
      "[CV] END .....................max_depth=19, n_estimators=105; total time=   3.9s\n",
      "[CV] END .....................max_depth=19, n_estimators=105; total time=   3.8s\n",
      "[CV] END ......................max_depth=6, n_estimators=183; total time=   2.6s\n",
      "[CV] END ......................max_depth=6, n_estimators=183; total time=   2.5s\n",
      "[CV] END ......................max_depth=6, n_estimators=183; total time=   2.5s\n",
      "[CV] END ......................max_depth=6, n_estimators=183; total time=   2.5s\n",
      "[CV] END ......................max_depth=6, n_estimators=183; total time=   2.5s\n",
      "[CV] END .....................max_depth=19, n_estimators=182; total time=   6.7s\n",
      "[CV] END .....................max_depth=19, n_estimators=182; total time=   6.7s\n",
      "[CV] END .....................max_depth=19, n_estimators=182; total time=   6.7s\n",
      "[CV] END .....................max_depth=19, n_estimators=182; total time=   6.8s\n",
      "[CV] END .....................max_depth=19, n_estimators=182; total time=   6.7s\n",
      "[CV] END ......................max_depth=3, n_estimators=110; total time=   0.7s\n",
      "[CV] END ......................max_depth=3, n_estimators=110; total time=   0.7s\n",
      "[CV] END ......................max_depth=3, n_estimators=110; total time=   0.7s\n",
      "[CV] END ......................max_depth=3, n_estimators=110; total time=   0.7s\n",
      "[CV] END ......................max_depth=3, n_estimators=110; total time=   0.7s\n",
      "[CV] END .....................max_depth=12, n_estimators=183; total time=   5.2s\n",
      "[CV] END .....................max_depth=12, n_estimators=183; total time=   5.3s\n",
      "[CV] END .....................max_depth=12, n_estimators=183; total time=   5.2s\n",
      "[CV] END .....................max_depth=12, n_estimators=183; total time=   5.2s\n",
      "[CV] END .....................max_depth=12, n_estimators=183; total time=   5.2s\n",
      "[CV] END .....................max_depth=14, n_estimators=123; total time=   3.9s\n",
      "[CV] END .....................max_depth=14, n_estimators=123; total time=   3.9s\n",
      "[CV] END .....................max_depth=14, n_estimators=123; total time=   4.0s\n",
      "[CV] END .....................max_depth=14, n_estimators=123; total time=   4.0s\n",
      "[CV] END .....................max_depth=14, n_estimators=123; total time=   4.0s\n",
      "[CV] END .....................max_depth=18, n_estimators=155; total time=   5.8s\n",
      "[CV] END .....................max_depth=18, n_estimators=155; total time=   5.8s\n",
      "[CV] END .....................max_depth=18, n_estimators=155; total time=   5.7s\n",
      "[CV] END .....................max_depth=18, n_estimators=155; total time=   5.8s\n",
      "[CV] END .....................max_depth=18, n_estimators=155; total time=   5.7s\n"
     ]
    },
    {
     "data": {
      "text/html": [
       "<style>#sk-container-id-1 {color: black;}#sk-container-id-1 pre{padding: 0;}#sk-container-id-1 div.sk-toggleable {background-color: white;}#sk-container-id-1 label.sk-toggleable__label {cursor: pointer;display: block;width: 100%;margin-bottom: 0;padding: 0.3em;box-sizing: border-box;text-align: center;}#sk-container-id-1 label.sk-toggleable__label-arrow:before {content: \"▸\";float: left;margin-right: 0.25em;color: #696969;}#sk-container-id-1 label.sk-toggleable__label-arrow:hover:before {color: black;}#sk-container-id-1 div.sk-estimator:hover label.sk-toggleable__label-arrow:before {color: black;}#sk-container-id-1 div.sk-toggleable__content {max-height: 0;max-width: 0;overflow: hidden;text-align: left;background-color: #f0f8ff;}#sk-container-id-1 div.sk-toggleable__content pre {margin: 0.2em;color: black;border-radius: 0.25em;background-color: #f0f8ff;}#sk-container-id-1 input.sk-toggleable__control:checked~div.sk-toggleable__content {max-height: 200px;max-width: 100%;overflow: auto;}#sk-container-id-1 input.sk-toggleable__control:checked~label.sk-toggleable__label-arrow:before {content: \"▾\";}#sk-container-id-1 div.sk-estimator input.sk-toggleable__control:checked~label.sk-toggleable__label {background-color: #d4ebff;}#sk-container-id-1 div.sk-label input.sk-toggleable__control:checked~label.sk-toggleable__label {background-color: #d4ebff;}#sk-container-id-1 input.sk-hidden--visually {border: 0;clip: rect(1px 1px 1px 1px);clip: rect(1px, 1px, 1px, 1px);height: 1px;margin: -1px;overflow: hidden;padding: 0;position: absolute;width: 1px;}#sk-container-id-1 div.sk-estimator {font-family: monospace;background-color: #f0f8ff;border: 1px dotted black;border-radius: 0.25em;box-sizing: border-box;margin-bottom: 0.5em;}#sk-container-id-1 div.sk-estimator:hover {background-color: #d4ebff;}#sk-container-id-1 div.sk-parallel-item::after {content: \"\";width: 100%;border-bottom: 1px solid gray;flex-grow: 1;}#sk-container-id-1 div.sk-label:hover label.sk-toggleable__label {background-color: #d4ebff;}#sk-container-id-1 div.sk-serial::before {content: \"\";position: absolute;border-left: 1px solid gray;box-sizing: border-box;top: 0;bottom: 0;left: 50%;z-index: 0;}#sk-container-id-1 div.sk-serial {display: flex;flex-direction: column;align-items: center;background-color: white;padding-right: 0.2em;padding-left: 0.2em;position: relative;}#sk-container-id-1 div.sk-item {position: relative;z-index: 1;}#sk-container-id-1 div.sk-parallel {display: flex;align-items: stretch;justify-content: center;background-color: white;position: relative;}#sk-container-id-1 div.sk-item::before, #sk-container-id-1 div.sk-parallel-item::before {content: \"\";position: absolute;border-left: 1px solid gray;box-sizing: border-box;top: 0;bottom: 0;left: 50%;z-index: -1;}#sk-container-id-1 div.sk-parallel-item {display: flex;flex-direction: column;z-index: 1;position: relative;background-color: white;}#sk-container-id-1 div.sk-parallel-item:first-child::after {align-self: flex-end;width: 50%;}#sk-container-id-1 div.sk-parallel-item:last-child::after {align-self: flex-start;width: 50%;}#sk-container-id-1 div.sk-parallel-item:only-child::after {width: 0;}#sk-container-id-1 div.sk-dashed-wrapped {border: 1px dashed gray;margin: 0 0.4em 0.5em 0.4em;box-sizing: border-box;padding-bottom: 0.4em;background-color: white;}#sk-container-id-1 div.sk-label label {font-family: monospace;font-weight: bold;display: inline-block;line-height: 1.2em;}#sk-container-id-1 div.sk-label-container {text-align: center;}#sk-container-id-1 div.sk-container {/* jupyter's `normalize.less` sets `[hidden] { display: none; }` but bootstrap.min.css set `[hidden] { display: none !important; }` so we also need the `!important` here to be able to override the default hidden behavior on the sphinx rendered scikit-learn.org. See: https://github.com/scikit-learn/scikit-learn/issues/21755 */display: inline-block !important;position: relative;}#sk-container-id-1 div.sk-text-repr-fallback {display: none;}</style><div id=\"sk-container-id-1\" class=\"sk-top-container\"><div class=\"sk-text-repr-fallback\"><pre>RandomizedSearchCV(cv=5, estimator=RandomForestRegressor(random_state=140823),\n",
       "                   param_distributions={&#x27;max_depth&#x27;: array([ 3,  4,  5,  6,  7,  8,  9, 10, 11, 12, 13, 14, 15, 16, 17, 18, 19]),\n",
       "                                        &#x27;n_estimators&#x27;: array([ 10,  11,  12,  13,  14,  15,  16,  17,  18,  19,  20,  21,  22,\n",
       "        23,  24,  25,  26,  27,  28,  29,  30,  31,  32,  33,  34,  35,\n",
       "        36,  37,  38,  39,  40,  41,  42,  43,  44,  45,  46,  47,  48,\n",
       "        49,  50,  51,  52,  53,  54,  55,  56,  57,  58,  59,  60,  61,\n",
       "        62,  63,  64,...\n",
       "       127, 128, 129, 130, 131, 132, 133, 134, 135, 136, 137, 138, 139,\n",
       "       140, 141, 142, 143, 144, 145, 146, 147, 148, 149, 150, 151, 152,\n",
       "       153, 154, 155, 156, 157, 158, 159, 160, 161, 162, 163, 164, 165,\n",
       "       166, 167, 168, 169, 170, 171, 172, 173, 174, 175, 176, 177, 178,\n",
       "       179, 180, 181, 182, 183, 184, 185, 186, 187, 188, 189, 190, 191,\n",
       "       192, 193, 194, 195, 196, 197, 198, 199])},\n",
       "                   random_state=140823, scoring=&#x27;neg_mean_absolute_error&#x27;,\n",
       "                   verbose=2)</pre><b>In a Jupyter environment, please rerun this cell to show the HTML representation or trust the notebook. <br />On GitHub, the HTML representation is unable to render, please try loading this page with nbviewer.org.</b></div><div class=\"sk-container\" hidden><div class=\"sk-item sk-dashed-wrapped\"><div class=\"sk-label-container\"><div class=\"sk-label sk-toggleable\"><input class=\"sk-toggleable__control sk-hidden--visually\" id=\"sk-estimator-id-1\" type=\"checkbox\" ><label for=\"sk-estimator-id-1\" class=\"sk-toggleable__label sk-toggleable__label-arrow\">RandomizedSearchCV</label><div class=\"sk-toggleable__content\"><pre>RandomizedSearchCV(cv=5, estimator=RandomForestRegressor(random_state=140823),\n",
       "                   param_distributions={&#x27;max_depth&#x27;: array([ 3,  4,  5,  6,  7,  8,  9, 10, 11, 12, 13, 14, 15, 16, 17, 18, 19]),\n",
       "                                        &#x27;n_estimators&#x27;: array([ 10,  11,  12,  13,  14,  15,  16,  17,  18,  19,  20,  21,  22,\n",
       "        23,  24,  25,  26,  27,  28,  29,  30,  31,  32,  33,  34,  35,\n",
       "        36,  37,  38,  39,  40,  41,  42,  43,  44,  45,  46,  47,  48,\n",
       "        49,  50,  51,  52,  53,  54,  55,  56,  57,  58,  59,  60,  61,\n",
       "        62,  63,  64,...\n",
       "       127, 128, 129, 130, 131, 132, 133, 134, 135, 136, 137, 138, 139,\n",
       "       140, 141, 142, 143, 144, 145, 146, 147, 148, 149, 150, 151, 152,\n",
       "       153, 154, 155, 156, 157, 158, 159, 160, 161, 162, 163, 164, 165,\n",
       "       166, 167, 168, 169, 170, 171, 172, 173, 174, 175, 176, 177, 178,\n",
       "       179, 180, 181, 182, 183, 184, 185, 186, 187, 188, 189, 190, 191,\n",
       "       192, 193, 194, 195, 196, 197, 198, 199])},\n",
       "                   random_state=140823, scoring=&#x27;neg_mean_absolute_error&#x27;,\n",
       "                   verbose=2)</pre></div></div></div><div class=\"sk-parallel\"><div class=\"sk-parallel-item\"><div class=\"sk-item\"><div class=\"sk-label-container\"><div class=\"sk-label sk-toggleable\"><input class=\"sk-toggleable__control sk-hidden--visually\" id=\"sk-estimator-id-2\" type=\"checkbox\" ><label for=\"sk-estimator-id-2\" class=\"sk-toggleable__label sk-toggleable__label-arrow\">estimator: RandomForestRegressor</label><div class=\"sk-toggleable__content\"><pre>RandomForestRegressor(random_state=140823)</pre></div></div></div><div class=\"sk-serial\"><div class=\"sk-item\"><div class=\"sk-estimator sk-toggleable\"><input class=\"sk-toggleable__control sk-hidden--visually\" id=\"sk-estimator-id-3\" type=\"checkbox\" ><label for=\"sk-estimator-id-3\" class=\"sk-toggleable__label sk-toggleable__label-arrow\">RandomForestRegressor</label><div class=\"sk-toggleable__content\"><pre>RandomForestRegressor(random_state=140823)</pre></div></div></div></div></div></div></div></div></div></div>"
      ],
      "text/plain": [
       "RandomizedSearchCV(cv=5, estimator=RandomForestRegressor(random_state=140823),\n",
       "                   param_distributions={'max_depth': array([ 3,  4,  5,  6,  7,  8,  9, 10, 11, 12, 13, 14, 15, 16, 17, 18, 19]),\n",
       "                                        'n_estimators': array([ 10,  11,  12,  13,  14,  15,  16,  17,  18,  19,  20,  21,  22,\n",
       "        23,  24,  25,  26,  27,  28,  29,  30,  31,  32,  33,  34,  35,\n",
       "        36,  37,  38,  39,  40,  41,  42,  43,  44,  45,  46,  47,  48,\n",
       "        49,  50,  51,  52,  53,  54,  55,  56,  57,  58,  59,  60,  61,\n",
       "        62,  63,  64,...\n",
       "       127, 128, 129, 130, 131, 132, 133, 134, 135, 136, 137, 138, 139,\n",
       "       140, 141, 142, 143, 144, 145, 146, 147, 148, 149, 150, 151, 152,\n",
       "       153, 154, 155, 156, 157, 158, 159, 160, 161, 162, 163, 164, 165,\n",
       "       166, 167, 168, 169, 170, 171, 172, 173, 174, 175, 176, 177, 178,\n",
       "       179, 180, 181, 182, 183, 184, 185, 186, 187, 188, 189, 190, 191,\n",
       "       192, 193, 194, 195, 196, 197, 198, 199])},\n",
       "                   random_state=140823, scoring='neg_mean_absolute_error',\n",
       "                   verbose=2)"
      ]
     },
     "execution_count": 45,
     "metadata": {},
     "output_type": "execute_result"
    }
   ],
   "source": [
    "RSCV_rf.fit(features_train, target_train)"
   ]
  },
  {
   "cell_type": "code",
   "execution_count": 46,
   "id": "0090e9a9",
   "metadata": {},
   "outputs": [
    {
     "name": "stdout",
     "output_type": "stream",
     "text": [
      "{'n_estimators': 105, 'max_depth': 19}\n",
      "RandomForestRegressor MAE: 6.913\n"
     ]
    }
   ],
   "source": [
    "print(RSCV_rf.best_params_)\n",
    "\n",
    "mae = round(-RSCV_rf.best_score_,3)\n",
    "print('RandomForestRegressor MAE:', mae)\n",
    "\n",
    "models_con = pd.DataFrame({'model': ['RandomForestRegressor'],\n",
    "                           'mae': [mae]})\n",
    "\n",
    "models = pd.concat([models, models_con], ignore_index=True)"
   ]
  },
  {
   "cell_type": "markdown",
   "id": "d09e8806",
   "metadata": {},
   "source": [
    "#### LGBMRegressor"
   ]
  },
  {
   "cell_type": "code",
   "execution_count": 47,
   "id": "62c6fc09",
   "metadata": {},
   "outputs": [],
   "source": [
    "model_lgb = lgb.LGBMRegressor(verbose=-1, random_state=STATE)\n",
    "parameters = {\n",
    "    'max_depth': np.arange(10,50,1),\n",
    "    'n_estimators': np.arange(10,1000,10),\n",
    "    \"learning_rate\": np.arange(0.001,0.1,0.001),\n",
    "    }\n",
    "RSCV_lgb = RandomizedSearchCV(model_lgb,parameters,scoring='neg_mean_absolute_error',\n",
    "                             cv=5,n_iter=50,verbose=2, random_state=STATE)"
   ]
  },
  {
   "cell_type": "code",
   "execution_count": 48,
   "id": "97636492",
   "metadata": {
    "collapsed": true
   },
   "outputs": [
    {
     "name": "stdout",
     "output_type": "stream",
     "text": [
      "Fitting 5 folds for each of 50 candidates, totalling 250 fits\n",
      "[CV] END learning_rate=0.08600000000000001, max_depth=17, n_estimators=500; total time=   0.3s\n",
      "[CV] END learning_rate=0.08600000000000001, max_depth=17, n_estimators=500; total time=   0.2s\n",
      "[CV] END learning_rate=0.08600000000000001, max_depth=17, n_estimators=500; total time=   0.2s\n",
      "[CV] END learning_rate=0.08600000000000001, max_depth=17, n_estimators=500; total time=   0.2s\n",
      "[CV] END learning_rate=0.08600000000000001, max_depth=17, n_estimators=500; total time=   0.2s\n",
      "[CV] END learning_rate=0.048, max_depth=10, n_estimators=390; total time=   0.1s\n",
      "[CV] END learning_rate=0.048, max_depth=10, n_estimators=390; total time=   0.1s\n",
      "[CV] END learning_rate=0.048, max_depth=10, n_estimators=390; total time=   0.1s\n",
      "[CV] END learning_rate=0.048, max_depth=10, n_estimators=390; total time=   0.1s\n",
      "[CV] END learning_rate=0.048, max_depth=10, n_estimators=390; total time=   0.1s\n",
      "[CV] END .learning_rate=0.02, max_depth=28, n_estimators=550; total time=   0.3s\n",
      "[CV] END .learning_rate=0.02, max_depth=28, n_estimators=550; total time=   0.2s\n",
      "[CV] END .learning_rate=0.02, max_depth=28, n_estimators=550; total time=   0.3s\n",
      "[CV] END .learning_rate=0.02, max_depth=28, n_estimators=550; total time=   0.2s\n",
      "[CV] END .learning_rate=0.02, max_depth=28, n_estimators=550; total time=   0.2s\n",
      "[CV] END learning_rate=0.074, max_depth=44, n_estimators=250; total time=   0.0s\n",
      "[CV] END learning_rate=0.074, max_depth=44, n_estimators=250; total time=   0.0s\n",
      "[CV] END learning_rate=0.074, max_depth=44, n_estimators=250; total time=   0.0s\n",
      "[CV] END learning_rate=0.074, max_depth=44, n_estimators=250; total time=   0.0s\n",
      "[CV] END learning_rate=0.074, max_depth=44, n_estimators=250; total time=   0.0s\n",
      "[CV] END learning_rate=0.001, max_depth=41, n_estimators=670; total time=   0.3s\n",
      "[CV] END learning_rate=0.001, max_depth=41, n_estimators=670; total time=   0.3s\n",
      "[CV] END learning_rate=0.001, max_depth=41, n_estimators=670; total time=   0.4s\n",
      "[CV] END learning_rate=0.001, max_depth=41, n_estimators=670; total time=   0.3s\n",
      "[CV] END learning_rate=0.001, max_depth=41, n_estimators=670; total time=   0.3s\n",
      "[CV] END learning_rate=0.055, max_depth=40, n_estimators=320; total time=   0.1s\n",
      "[CV] END learning_rate=0.055, max_depth=40, n_estimators=320; total time=   0.1s\n",
      "[CV] END learning_rate=0.055, max_depth=40, n_estimators=320; total time=   0.1s\n",
      "[CV] END learning_rate=0.055, max_depth=40, n_estimators=320; total time=   0.1s\n",
      "[CV] END learning_rate=0.055, max_depth=40, n_estimators=320; total time=   0.1s\n",
      "[CV] END learning_rate=0.095, max_depth=22, n_estimators=520; total time=   0.2s\n",
      "[CV] END learning_rate=0.095, max_depth=22, n_estimators=520; total time=   0.2s\n",
      "[CV] END learning_rate=0.095, max_depth=22, n_estimators=520; total time=   0.2s\n",
      "[CV] END learning_rate=0.095, max_depth=22, n_estimators=520; total time=   0.2s\n",
      "[CV] END learning_rate=0.095, max_depth=22, n_estimators=520; total time=   0.2s\n",
      "[CV] END learning_rate=0.083, max_depth=30, n_estimators=970; total time=   0.4s\n",
      "[CV] END learning_rate=0.083, max_depth=30, n_estimators=970; total time=   0.5s\n",
      "[CV] END learning_rate=0.083, max_depth=30, n_estimators=970; total time=   0.5s\n",
      "[CV] END learning_rate=0.083, max_depth=30, n_estimators=970; total time=   0.5s\n",
      "[CV] END learning_rate=0.083, max_depth=30, n_estimators=970; total time=   0.4s\n",
      "[CV] END learning_rate=0.039, max_depth=21, n_estimators=840; total time=   0.4s\n",
      "[CV] END learning_rate=0.039, max_depth=21, n_estimators=840; total time=   0.4s\n",
      "[CV] END learning_rate=0.039, max_depth=21, n_estimators=840; total time=   0.4s\n",
      "[CV] END learning_rate=0.039, max_depth=21, n_estimators=840; total time=   0.4s\n",
      "[CV] END learning_rate=0.039, max_depth=21, n_estimators=840; total time=   0.4s\n",
      "[CV] END learning_rate=0.024, max_depth=19, n_estimators=250; total time=   0.0s\n",
      "[CV] END learning_rate=0.024, max_depth=19, n_estimators=250; total time=   0.0s\n",
      "[CV] END learning_rate=0.024, max_depth=19, n_estimators=250; total time=   0.0s\n",
      "[CV] END learning_rate=0.024, max_depth=19, n_estimators=250; total time=   0.0s\n",
      "[CV] END learning_rate=0.024, max_depth=19, n_estimators=250; total time=   0.1s\n",
      "[CV] END .learning_rate=0.05, max_depth=16, n_estimators=820; total time=   0.3s\n",
      "[CV] END .learning_rate=0.05, max_depth=16, n_estimators=820; total time=   0.3s\n",
      "[CV] END .learning_rate=0.05, max_depth=16, n_estimators=820; total time=   0.4s\n",
      "[CV] END .learning_rate=0.05, max_depth=16, n_estimators=820; total time=   0.4s\n",
      "[CV] END .learning_rate=0.05, max_depth=16, n_estimators=820; total time=   0.3s\n",
      "[CV] END learning_rate=0.061, max_depth=39, n_estimators=930; total time=   0.4s\n",
      "[CV] END learning_rate=0.061, max_depth=39, n_estimators=930; total time=   0.5s\n",
      "[CV] END learning_rate=0.061, max_depth=39, n_estimators=930; total time=   0.4s\n",
      "[CV] END learning_rate=0.061, max_depth=39, n_estimators=930; total time=   0.5s\n",
      "[CV] END learning_rate=0.061, max_depth=39, n_estimators=930; total time=   0.4s\n",
      "[CV] END learning_rate=0.07300000000000001, max_depth=22, n_estimators=610; total time=   0.3s\n",
      "[CV] END learning_rate=0.07300000000000001, max_depth=22, n_estimators=610; total time=   0.2s\n",
      "[CV] END learning_rate=0.07300000000000001, max_depth=22, n_estimators=610; total time=   0.2s\n",
      "[CV] END learning_rate=0.07300000000000001, max_depth=22, n_estimators=610; total time=   0.2s\n",
      "[CV] END learning_rate=0.07300000000000001, max_depth=22, n_estimators=610; total time=   0.2s\n",
      "[CV] END learning_rate=0.010000000000000002, max_depth=13, n_estimators=90; total time=   0.0s\n",
      "[CV] END learning_rate=0.010000000000000002, max_depth=13, n_estimators=90; total time=   0.0s\n",
      "[CV] END learning_rate=0.010000000000000002, max_depth=13, n_estimators=90; total time=   0.0s\n",
      "[CV] END learning_rate=0.010000000000000002, max_depth=13, n_estimators=90; total time=   0.0s\n",
      "[CV] END learning_rate=0.010000000000000002, max_depth=13, n_estimators=90; total time=   0.0s\n",
      "[CV] END .learning_rate=0.09, max_depth=45, n_estimators=850; total time=   0.4s\n",
      "[CV] END .learning_rate=0.09, max_depth=45, n_estimators=850; total time=   0.4s\n",
      "[CV] END .learning_rate=0.09, max_depth=45, n_estimators=850; total time=   0.4s\n",
      "[CV] END .learning_rate=0.09, max_depth=45, n_estimators=850; total time=   0.4s\n",
      "[CV] END .learning_rate=0.09, max_depth=45, n_estimators=850; total time=   0.5s\n",
      "[CV] END .learning_rate=0.02, max_depth=20, n_estimators=700; total time=   0.3s\n",
      "[CV] END .learning_rate=0.02, max_depth=20, n_estimators=700; total time=   0.4s\n",
      "[CV] END .learning_rate=0.02, max_depth=20, n_estimators=700; total time=   0.3s\n",
      "[CV] END .learning_rate=0.02, max_depth=20, n_estimators=700; total time=   0.3s\n",
      "[CV] END .learning_rate=0.02, max_depth=20, n_estimators=700; total time=   0.3s\n",
      "[CV] END learning_rate=0.031, max_depth=26, n_estimators=160; total time=   0.0s\n",
      "[CV] END learning_rate=0.031, max_depth=26, n_estimators=160; total time=   0.0s\n",
      "[CV] END learning_rate=0.031, max_depth=26, n_estimators=160; total time=   0.0s\n",
      "[CV] END learning_rate=0.031, max_depth=26, n_estimators=160; total time=   0.0s\n",
      "[CV] END learning_rate=0.031, max_depth=26, n_estimators=160; total time=   0.0s\n",
      "[CV] END learning_rate=0.08700000000000001, max_depth=16, n_estimators=120; total time=   0.0s\n",
      "[CV] END learning_rate=0.08700000000000001, max_depth=16, n_estimators=120; total time=   0.0s\n",
      "[CV] END learning_rate=0.08700000000000001, max_depth=16, n_estimators=120; total time=   0.0s\n",
      "[CV] END learning_rate=0.08700000000000001, max_depth=16, n_estimators=120; total time=   0.0s\n",
      "[CV] END learning_rate=0.08700000000000001, max_depth=16, n_estimators=120; total time=   0.0s\n",
      "[CV] END learning_rate=0.069, max_depth=42, n_estimators=220; total time=   0.0s\n",
      "[CV] END learning_rate=0.069, max_depth=42, n_estimators=220; total time=   0.0s\n",
      "[CV] END learning_rate=0.069, max_depth=42, n_estimators=220; total time=   0.0s\n",
      "[CV] END learning_rate=0.069, max_depth=42, n_estimators=220; total time=   0.0s\n",
      "[CV] END learning_rate=0.069, max_depth=42, n_estimators=220; total time=   0.0s\n",
      "[CV] END learning_rate=0.089, max_depth=31, n_estimators=250; total time=   0.0s\n",
      "[CV] END learning_rate=0.089, max_depth=31, n_estimators=250; total time=   0.0s\n"
     ]
    },
    {
     "name": "stdout",
     "output_type": "stream",
     "text": [
      "[CV] END learning_rate=0.089, max_depth=31, n_estimators=250; total time=   0.1s\n",
      "[CV] END learning_rate=0.089, max_depth=31, n_estimators=250; total time=   0.1s\n",
      "[CV] END learning_rate=0.089, max_depth=31, n_estimators=250; total time=   0.1s\n",
      "[CV] END learning_rate=0.083, max_depth=38, n_estimators=490; total time=   0.2s\n",
      "[CV] END learning_rate=0.083, max_depth=38, n_estimators=490; total time=   0.2s\n",
      "[CV] END learning_rate=0.083, max_depth=38, n_estimators=490; total time=   0.2s\n",
      "[CV] END learning_rate=0.083, max_depth=38, n_estimators=490; total time=   0.2s\n",
      "[CV] END learning_rate=0.083, max_depth=38, n_estimators=490; total time=   0.3s\n",
      "[CV] END learning_rate=0.078, max_depth=25, n_estimators=480; total time=   0.2s\n",
      "[CV] END learning_rate=0.078, max_depth=25, n_estimators=480; total time=   0.2s\n",
      "[CV] END learning_rate=0.078, max_depth=25, n_estimators=480; total time=   0.2s\n",
      "[CV] END learning_rate=0.078, max_depth=25, n_estimators=480; total time=   0.2s\n",
      "[CV] END learning_rate=0.078, max_depth=25, n_estimators=480; total time=   0.2s\n",
      "[CV] END .learning_rate=0.031, max_depth=40, n_estimators=60; total time=   0.0s\n",
      "[CV] END .learning_rate=0.031, max_depth=40, n_estimators=60; total time=   0.0s\n",
      "[CV] END .learning_rate=0.031, max_depth=40, n_estimators=60; total time=   0.0s\n",
      "[CV] END .learning_rate=0.031, max_depth=40, n_estimators=60; total time=   0.0s\n",
      "[CV] END .learning_rate=0.031, max_depth=40, n_estimators=60; total time=   0.0s\n",
      "[CV] END learning_rate=0.030000000000000002, max_depth=46, n_estimators=680; total time=   0.3s\n",
      "[CV] END learning_rate=0.030000000000000002, max_depth=46, n_estimators=680; total time=   0.3s\n",
      "[CV] END learning_rate=0.030000000000000002, max_depth=46, n_estimators=680; total time=   0.4s\n",
      "[CV] END learning_rate=0.030000000000000002, max_depth=46, n_estimators=680; total time=   0.4s\n",
      "[CV] END learning_rate=0.030000000000000002, max_depth=46, n_estimators=680; total time=   0.4s\n",
      "[CV] END learning_rate=0.007, max_depth=36, n_estimators=720; total time=   0.3s\n",
      "[CV] END learning_rate=0.007, max_depth=36, n_estimators=720; total time=   0.5s\n",
      "[CV] END learning_rate=0.007, max_depth=36, n_estimators=720; total time=   0.4s\n",
      "[CV] END learning_rate=0.007, max_depth=36, n_estimators=720; total time=   0.4s\n",
      "[CV] END learning_rate=0.007, max_depth=36, n_estimators=720; total time=   0.3s\n",
      "[CV] END learning_rate=0.047, max_depth=49, n_estimators=490; total time=   0.2s\n",
      "[CV] END learning_rate=0.047, max_depth=49, n_estimators=490; total time=   0.2s\n",
      "[CV] END learning_rate=0.047, max_depth=49, n_estimators=490; total time=   0.2s\n",
      "[CV] END learning_rate=0.047, max_depth=49, n_estimators=490; total time=   0.2s\n",
      "[CV] END learning_rate=0.047, max_depth=49, n_estimators=490; total time=   0.2s\n",
      "[CV] END learning_rate=0.043000000000000003, max_depth=38, n_estimators=760; total time=   0.3s\n",
      "[CV] END learning_rate=0.043000000000000003, max_depth=38, n_estimators=760; total time=   0.4s\n",
      "[CV] END learning_rate=0.043000000000000003, max_depth=38, n_estimators=760; total time=   0.3s\n",
      "[CV] END learning_rate=0.043000000000000003, max_depth=38, n_estimators=760; total time=   0.3s\n",
      "[CV] END learning_rate=0.043000000000000003, max_depth=38, n_estimators=760; total time=   0.4s\n",
      "[CV] END learning_rate=0.015, max_depth=43, n_estimators=150; total time=   0.0s\n",
      "[CV] END learning_rate=0.015, max_depth=43, n_estimators=150; total time=   0.0s\n",
      "[CV] END learning_rate=0.015, max_depth=43, n_estimators=150; total time=   0.0s\n",
      "[CV] END learning_rate=0.015, max_depth=43, n_estimators=150; total time=   0.0s\n",
      "[CV] END learning_rate=0.015, max_depth=43, n_estimators=150; total time=   0.0s\n",
      "[CV] END learning_rate=0.013000000000000001, max_depth=10, n_estimators=530; total time=   0.2s\n",
      "[CV] END learning_rate=0.013000000000000001, max_depth=10, n_estimators=530; total time=   0.2s\n",
      "[CV] END learning_rate=0.013000000000000001, max_depth=10, n_estimators=530; total time=   0.2s\n",
      "[CV] END learning_rate=0.013000000000000001, max_depth=10, n_estimators=530; total time=   0.2s\n",
      "[CV] END learning_rate=0.013000000000000001, max_depth=10, n_estimators=530; total time=   0.2s\n",
      "[CV] END learning_rate=0.07300000000000001, max_depth=41, n_estimators=800; total time=   0.4s\n",
      "[CV] END learning_rate=0.07300000000000001, max_depth=41, n_estimators=800; total time=   0.4s\n",
      "[CV] END learning_rate=0.07300000000000001, max_depth=41, n_estimators=800; total time=   0.3s\n",
      "[CV] END learning_rate=0.07300000000000001, max_depth=41, n_estimators=800; total time=   0.4s\n",
      "[CV] END learning_rate=0.07300000000000001, max_depth=41, n_estimators=800; total time=   0.4s\n",
      "[CV] END learning_rate=0.036000000000000004, max_depth=32, n_estimators=840; total time=   0.4s\n",
      "[CV] END learning_rate=0.036000000000000004, max_depth=32, n_estimators=840; total time=   0.4s\n",
      "[CV] END learning_rate=0.036000000000000004, max_depth=32, n_estimators=840; total time=   0.4s\n",
      "[CV] END learning_rate=0.036000000000000004, max_depth=32, n_estimators=840; total time=   0.4s\n",
      "[CV] END learning_rate=0.036000000000000004, max_depth=32, n_estimators=840; total time=   0.4s\n",
      "[CV] END learning_rate=0.091, max_depth=43, n_estimators=670; total time=   0.3s\n",
      "[CV] END learning_rate=0.091, max_depth=43, n_estimators=670; total time=   0.3s\n",
      "[CV] END learning_rate=0.091, max_depth=43, n_estimators=670; total time=   0.3s\n",
      "[CV] END learning_rate=0.091, max_depth=43, n_estimators=670; total time=   0.3s\n",
      "[CV] END learning_rate=0.091, max_depth=43, n_estimators=670; total time=   0.3s\n",
      "[CV] END learning_rate=0.091, max_depth=14, n_estimators=800; total time=   0.3s\n",
      "[CV] END learning_rate=0.091, max_depth=14, n_estimators=800; total time=   0.3s\n",
      "[CV] END learning_rate=0.091, max_depth=14, n_estimators=800; total time=   0.3s\n",
      "[CV] END learning_rate=0.091, max_depth=14, n_estimators=800; total time=   0.3s\n",
      "[CV] END learning_rate=0.091, max_depth=14, n_estimators=800; total time=   0.3s\n",
      "[CV] END learning_rate=0.044000000000000004, max_depth=37, n_estimators=140; total time=   0.0s\n",
      "[CV] END learning_rate=0.044000000000000004, max_depth=37, n_estimators=140; total time=   0.0s\n",
      "[CV] END learning_rate=0.044000000000000004, max_depth=37, n_estimators=140; total time=   0.0s\n",
      "[CV] END learning_rate=0.044000000000000004, max_depth=37, n_estimators=140; total time=   0.0s\n",
      "[CV] END learning_rate=0.044000000000000004, max_depth=37, n_estimators=140; total time=   0.0s\n",
      "[CV] END learning_rate=0.028, max_depth=45, n_estimators=270; total time=   0.1s\n",
      "[CV] END learning_rate=0.028, max_depth=45, n_estimators=270; total time=   0.1s\n",
      "[CV] END learning_rate=0.028, max_depth=45, n_estimators=270; total time=   0.0s\n",
      "[CV] END learning_rate=0.028, max_depth=45, n_estimators=270; total time=   0.1s\n",
      "[CV] END learning_rate=0.028, max_depth=45, n_estimators=270; total time=   0.1s\n",
      "[CV] END learning_rate=0.043000000000000003, max_depth=21, n_estimators=960; total time=   0.4s\n",
      "[CV] END learning_rate=0.043000000000000003, max_depth=21, n_estimators=960; total time=   0.4s\n",
      "[CV] END learning_rate=0.043000000000000003, max_depth=21, n_estimators=960; total time=   0.5s\n",
      "[CV] END learning_rate=0.043000000000000003, max_depth=21, n_estimators=960; total time=   0.5s\n",
      "[CV] END learning_rate=0.043000000000000003, max_depth=21, n_estimators=960; total time=   0.4s\n",
      "[CV] END learning_rate=0.075, max_depth=39, n_estimators=430; total time=   0.1s\n",
      "[CV] END learning_rate=0.075, max_depth=39, n_estimators=430; total time=   0.1s\n",
      "[CV] END learning_rate=0.075, max_depth=39, n_estimators=430; total time=   0.2s\n",
      "[CV] END learning_rate=0.075, max_depth=39, n_estimators=430; total time=   0.1s\n",
      "[CV] END learning_rate=0.075, max_depth=39, n_estimators=430; total time=   0.1s\n",
      "[CV] END learning_rate=0.045, max_depth=33, n_estimators=310; total time=   0.1s\n",
      "[CV] END learning_rate=0.045, max_depth=33, n_estimators=310; total time=   0.1s\n",
      "[CV] END learning_rate=0.045, max_depth=33, n_estimators=310; total time=   0.1s\n",
      "[CV] END learning_rate=0.045, max_depth=33, n_estimators=310; total time=   0.1s\n",
      "[CV] END learning_rate=0.045, max_depth=33, n_estimators=310; total time=   0.1s\n",
      "[CV] END learning_rate=0.058, max_depth=41, n_estimators=390; total time=   0.1s\n",
      "[CV] END learning_rate=0.058, max_depth=41, n_estimators=390; total time=   0.1s\n"
     ]
    },
    {
     "name": "stdout",
     "output_type": "stream",
     "text": [
      "[CV] END learning_rate=0.058, max_depth=41, n_estimators=390; total time=   0.1s\n",
      "[CV] END learning_rate=0.058, max_depth=41, n_estimators=390; total time=   0.1s\n",
      "[CV] END learning_rate=0.058, max_depth=41, n_estimators=390; total time=   0.1s\n",
      "[CV] END learning_rate=0.010000000000000002, max_depth=18, n_estimators=650; total time=   0.3s\n",
      "[CV] END learning_rate=0.010000000000000002, max_depth=18, n_estimators=650; total time=   0.3s\n",
      "[CV] END learning_rate=0.010000000000000002, max_depth=18, n_estimators=650; total time=   0.3s\n",
      "[CV] END learning_rate=0.010000000000000002, max_depth=18, n_estimators=650; total time=   0.3s\n",
      "[CV] END learning_rate=0.010000000000000002, max_depth=18, n_estimators=650; total time=   0.3s\n",
      "[CV] END learning_rate=0.025, max_depth=26, n_estimators=970; total time=   0.4s\n",
      "[CV] END learning_rate=0.025, max_depth=26, n_estimators=970; total time=   0.5s\n",
      "[CV] END learning_rate=0.025, max_depth=26, n_estimators=970; total time=   0.5s\n",
      "[CV] END learning_rate=0.025, max_depth=26, n_estimators=970; total time=   0.5s\n",
      "[CV] END learning_rate=0.025, max_depth=26, n_estimators=970; total time=   0.4s\n",
      "[CV] END learning_rate=0.004, max_depth=18, n_estimators=890; total time=   0.4s\n",
      "[CV] END learning_rate=0.004, max_depth=18, n_estimators=890; total time=   0.4s\n",
      "[CV] END learning_rate=0.004, max_depth=18, n_estimators=890; total time=   0.4s\n",
      "[CV] END learning_rate=0.004, max_depth=18, n_estimators=890; total time=   0.4s\n",
      "[CV] END learning_rate=0.004, max_depth=18, n_estimators=890; total time=   0.4s\n",
      "[CV] END learning_rate=0.043000000000000003, max_depth=22, n_estimators=460; total time=   0.2s\n",
      "[CV] END learning_rate=0.043000000000000003, max_depth=22, n_estimators=460; total time=   0.2s\n",
      "[CV] END learning_rate=0.043000000000000003, max_depth=22, n_estimators=460; total time=   0.2s\n",
      "[CV] END learning_rate=0.043000000000000003, max_depth=22, n_estimators=460; total time=   0.2s\n",
      "[CV] END learning_rate=0.043000000000000003, max_depth=22, n_estimators=460; total time=   0.2s\n",
      "[CV] END learning_rate=0.027000000000000003, max_depth=39, n_estimators=310; total time=   0.1s\n",
      "[CV] END learning_rate=0.027000000000000003, max_depth=39, n_estimators=310; total time=   0.1s\n",
      "[CV] END learning_rate=0.027000000000000003, max_depth=39, n_estimators=310; total time=   0.1s\n",
      "[CV] END learning_rate=0.027000000000000003, max_depth=39, n_estimators=310; total time=   0.1s\n",
      "[CV] END learning_rate=0.027000000000000003, max_depth=39, n_estimators=310; total time=   0.1s\n",
      "[CV] END learning_rate=0.017, max_depth=44, n_estimators=540; total time=   0.2s\n",
      "[CV] END learning_rate=0.017, max_depth=44, n_estimators=540; total time=   0.2s\n",
      "[CV] END learning_rate=0.017, max_depth=44, n_estimators=540; total time=   0.2s\n",
      "[CV] END learning_rate=0.017, max_depth=44, n_estimators=540; total time=   0.2s\n",
      "[CV] END learning_rate=0.017, max_depth=44, n_estimators=540; total time=   0.2s\n",
      "[CV] END learning_rate=0.037000000000000005, max_depth=37, n_estimators=900; total time=   0.4s\n",
      "[CV] END learning_rate=0.037000000000000005, max_depth=37, n_estimators=900; total time=   0.4s\n",
      "[CV] END learning_rate=0.037000000000000005, max_depth=37, n_estimators=900; total time=   0.4s\n",
      "[CV] END learning_rate=0.037000000000000005, max_depth=37, n_estimators=900; total time=   0.4s\n",
      "[CV] END learning_rate=0.037000000000000005, max_depth=37, n_estimators=900; total time=   0.4s\n",
      "[CV] END .learning_rate=0.064, max_depth=32, n_estimators=90; total time=   0.0s\n",
      "[CV] END .learning_rate=0.064, max_depth=32, n_estimators=90; total time=   0.0s\n",
      "[CV] END .learning_rate=0.064, max_depth=32, n_estimators=90; total time=   0.0s\n",
      "[CV] END .learning_rate=0.064, max_depth=32, n_estimators=90; total time=   0.0s\n",
      "[CV] END .learning_rate=0.064, max_depth=32, n_estimators=90; total time=   0.0s\n",
      "[CV] END .learning_rate=0.089, max_depth=22, n_estimators=80; total time=   0.0s\n",
      "[CV] END .learning_rate=0.089, max_depth=22, n_estimators=80; total time=   0.0s\n",
      "[CV] END .learning_rate=0.089, max_depth=22, n_estimators=80; total time=   0.0s\n",
      "[CV] END .learning_rate=0.089, max_depth=22, n_estimators=80; total time=   0.0s\n",
      "[CV] END .learning_rate=0.089, max_depth=22, n_estimators=80; total time=   0.0s\n",
      "[CV] END learning_rate=0.08800000000000001, max_depth=25, n_estimators=760; total time=   0.3s\n",
      "[CV] END learning_rate=0.08800000000000001, max_depth=25, n_estimators=760; total time=   0.3s\n",
      "[CV] END learning_rate=0.08800000000000001, max_depth=25, n_estimators=760; total time=   0.3s\n",
      "[CV] END learning_rate=0.08800000000000001, max_depth=25, n_estimators=760; total time=   0.3s\n",
      "[CV] END learning_rate=0.08800000000000001, max_depth=25, n_estimators=760; total time=   0.3s\n",
      "[CV] END .learning_rate=0.07, max_depth=23, n_estimators=730; total time=   0.3s\n",
      "[CV] END .learning_rate=0.07, max_depth=23, n_estimators=730; total time=   0.3s\n",
      "[CV] END .learning_rate=0.07, max_depth=23, n_estimators=730; total time=   0.3s\n",
      "[CV] END .learning_rate=0.07, max_depth=23, n_estimators=730; total time=   0.3s\n",
      "[CV] END .learning_rate=0.07, max_depth=23, n_estimators=730; total time=   0.4s\n"
     ]
    },
    {
     "data": {
      "text/html": [
       "<style>#sk-container-id-2 {color: black;}#sk-container-id-2 pre{padding: 0;}#sk-container-id-2 div.sk-toggleable {background-color: white;}#sk-container-id-2 label.sk-toggleable__label {cursor: pointer;display: block;width: 100%;margin-bottom: 0;padding: 0.3em;box-sizing: border-box;text-align: center;}#sk-container-id-2 label.sk-toggleable__label-arrow:before {content: \"▸\";float: left;margin-right: 0.25em;color: #696969;}#sk-container-id-2 label.sk-toggleable__label-arrow:hover:before {color: black;}#sk-container-id-2 div.sk-estimator:hover label.sk-toggleable__label-arrow:before {color: black;}#sk-container-id-2 div.sk-toggleable__content {max-height: 0;max-width: 0;overflow: hidden;text-align: left;background-color: #f0f8ff;}#sk-container-id-2 div.sk-toggleable__content pre {margin: 0.2em;color: black;border-radius: 0.25em;background-color: #f0f8ff;}#sk-container-id-2 input.sk-toggleable__control:checked~div.sk-toggleable__content {max-height: 200px;max-width: 100%;overflow: auto;}#sk-container-id-2 input.sk-toggleable__control:checked~label.sk-toggleable__label-arrow:before {content: \"▾\";}#sk-container-id-2 div.sk-estimator input.sk-toggleable__control:checked~label.sk-toggleable__label {background-color: #d4ebff;}#sk-container-id-2 div.sk-label input.sk-toggleable__control:checked~label.sk-toggleable__label {background-color: #d4ebff;}#sk-container-id-2 input.sk-hidden--visually {border: 0;clip: rect(1px 1px 1px 1px);clip: rect(1px, 1px, 1px, 1px);height: 1px;margin: -1px;overflow: hidden;padding: 0;position: absolute;width: 1px;}#sk-container-id-2 div.sk-estimator {font-family: monospace;background-color: #f0f8ff;border: 1px dotted black;border-radius: 0.25em;box-sizing: border-box;margin-bottom: 0.5em;}#sk-container-id-2 div.sk-estimator:hover {background-color: #d4ebff;}#sk-container-id-2 div.sk-parallel-item::after {content: \"\";width: 100%;border-bottom: 1px solid gray;flex-grow: 1;}#sk-container-id-2 div.sk-label:hover label.sk-toggleable__label {background-color: #d4ebff;}#sk-container-id-2 div.sk-serial::before {content: \"\";position: absolute;border-left: 1px solid gray;box-sizing: border-box;top: 0;bottom: 0;left: 50%;z-index: 0;}#sk-container-id-2 div.sk-serial {display: flex;flex-direction: column;align-items: center;background-color: white;padding-right: 0.2em;padding-left: 0.2em;position: relative;}#sk-container-id-2 div.sk-item {position: relative;z-index: 1;}#sk-container-id-2 div.sk-parallel {display: flex;align-items: stretch;justify-content: center;background-color: white;position: relative;}#sk-container-id-2 div.sk-item::before, #sk-container-id-2 div.sk-parallel-item::before {content: \"\";position: absolute;border-left: 1px solid gray;box-sizing: border-box;top: 0;bottom: 0;left: 50%;z-index: -1;}#sk-container-id-2 div.sk-parallel-item {display: flex;flex-direction: column;z-index: 1;position: relative;background-color: white;}#sk-container-id-2 div.sk-parallel-item:first-child::after {align-self: flex-end;width: 50%;}#sk-container-id-2 div.sk-parallel-item:last-child::after {align-self: flex-start;width: 50%;}#sk-container-id-2 div.sk-parallel-item:only-child::after {width: 0;}#sk-container-id-2 div.sk-dashed-wrapped {border: 1px dashed gray;margin: 0 0.4em 0.5em 0.4em;box-sizing: border-box;padding-bottom: 0.4em;background-color: white;}#sk-container-id-2 div.sk-label label {font-family: monospace;font-weight: bold;display: inline-block;line-height: 1.2em;}#sk-container-id-2 div.sk-label-container {text-align: center;}#sk-container-id-2 div.sk-container {/* jupyter's `normalize.less` sets `[hidden] { display: none; }` but bootstrap.min.css set `[hidden] { display: none !important; }` so we also need the `!important` here to be able to override the default hidden behavior on the sphinx rendered scikit-learn.org. See: https://github.com/scikit-learn/scikit-learn/issues/21755 */display: inline-block !important;position: relative;}#sk-container-id-2 div.sk-text-repr-fallback {display: none;}</style><div id=\"sk-container-id-2\" class=\"sk-top-container\"><div class=\"sk-text-repr-fallback\"><pre>RandomizedSearchCV(cv=5,\n",
       "                   estimator=LGBMRegressor(random_state=140823, verbose=-1),\n",
       "                   n_iter=50,\n",
       "                   param_distributions={&#x27;learning_rate&#x27;: array([0.001, 0.002, 0.003, 0.004, 0.005, 0.006, 0.007, 0.008, 0.009,\n",
       "       0.01 , 0.011, 0.012, 0.013, 0.014, 0.015, 0.016, 0.017, 0.018,\n",
       "       0.019, 0.02 , 0.021, 0.022, 0.023, 0.024, 0.025, 0.026, 0.027,\n",
       "       0.028, 0.029, 0.03 , 0.031, 0.032, 0.033, 0.034, 0.035, 0.036,\n",
       "       0.0...\n",
       "       270, 280, 290, 300, 310, 320, 330, 340, 350, 360, 370, 380, 390,\n",
       "       400, 410, 420, 430, 440, 450, 460, 470, 480, 490, 500, 510, 520,\n",
       "       530, 540, 550, 560, 570, 580, 590, 600, 610, 620, 630, 640, 650,\n",
       "       660, 670, 680, 690, 700, 710, 720, 730, 740, 750, 760, 770, 780,\n",
       "       790, 800, 810, 820, 830, 840, 850, 860, 870, 880, 890, 900, 910,\n",
       "       920, 930, 940, 950, 960, 970, 980, 990])},\n",
       "                   random_state=140823, scoring=&#x27;neg_mean_absolute_error&#x27;,\n",
       "                   verbose=2)</pre><b>In a Jupyter environment, please rerun this cell to show the HTML representation or trust the notebook. <br />On GitHub, the HTML representation is unable to render, please try loading this page with nbviewer.org.</b></div><div class=\"sk-container\" hidden><div class=\"sk-item sk-dashed-wrapped\"><div class=\"sk-label-container\"><div class=\"sk-label sk-toggleable\"><input class=\"sk-toggleable__control sk-hidden--visually\" id=\"sk-estimator-id-4\" type=\"checkbox\" ><label for=\"sk-estimator-id-4\" class=\"sk-toggleable__label sk-toggleable__label-arrow\">RandomizedSearchCV</label><div class=\"sk-toggleable__content\"><pre>RandomizedSearchCV(cv=5,\n",
       "                   estimator=LGBMRegressor(random_state=140823, verbose=-1),\n",
       "                   n_iter=50,\n",
       "                   param_distributions={&#x27;learning_rate&#x27;: array([0.001, 0.002, 0.003, 0.004, 0.005, 0.006, 0.007, 0.008, 0.009,\n",
       "       0.01 , 0.011, 0.012, 0.013, 0.014, 0.015, 0.016, 0.017, 0.018,\n",
       "       0.019, 0.02 , 0.021, 0.022, 0.023, 0.024, 0.025, 0.026, 0.027,\n",
       "       0.028, 0.029, 0.03 , 0.031, 0.032, 0.033, 0.034, 0.035, 0.036,\n",
       "       0.0...\n",
       "       270, 280, 290, 300, 310, 320, 330, 340, 350, 360, 370, 380, 390,\n",
       "       400, 410, 420, 430, 440, 450, 460, 470, 480, 490, 500, 510, 520,\n",
       "       530, 540, 550, 560, 570, 580, 590, 600, 610, 620, 630, 640, 650,\n",
       "       660, 670, 680, 690, 700, 710, 720, 730, 740, 750, 760, 770, 780,\n",
       "       790, 800, 810, 820, 830, 840, 850, 860, 870, 880, 890, 900, 910,\n",
       "       920, 930, 940, 950, 960, 970, 980, 990])},\n",
       "                   random_state=140823, scoring=&#x27;neg_mean_absolute_error&#x27;,\n",
       "                   verbose=2)</pre></div></div></div><div class=\"sk-parallel\"><div class=\"sk-parallel-item\"><div class=\"sk-item\"><div class=\"sk-label-container\"><div class=\"sk-label sk-toggleable\"><input class=\"sk-toggleable__control sk-hidden--visually\" id=\"sk-estimator-id-5\" type=\"checkbox\" ><label for=\"sk-estimator-id-5\" class=\"sk-toggleable__label sk-toggleable__label-arrow\">estimator: LGBMRegressor</label><div class=\"sk-toggleable__content\"><pre>LGBMRegressor(random_state=140823, verbose=-1)</pre></div></div></div><div class=\"sk-serial\"><div class=\"sk-item\"><div class=\"sk-estimator sk-toggleable\"><input class=\"sk-toggleable__control sk-hidden--visually\" id=\"sk-estimator-id-6\" type=\"checkbox\" ><label for=\"sk-estimator-id-6\" class=\"sk-toggleable__label sk-toggleable__label-arrow\">LGBMRegressor</label><div class=\"sk-toggleable__content\"><pre>LGBMRegressor(random_state=140823, verbose=-1)</pre></div></div></div></div></div></div></div></div></div></div>"
      ],
      "text/plain": [
       "RandomizedSearchCV(cv=5,\n",
       "                   estimator=LGBMRegressor(random_state=140823, verbose=-1),\n",
       "                   n_iter=50,\n",
       "                   param_distributions={'learning_rate': array([0.001, 0.002, 0.003, 0.004, 0.005, 0.006, 0.007, 0.008, 0.009,\n",
       "       0.01 , 0.011, 0.012, 0.013, 0.014, 0.015, 0.016, 0.017, 0.018,\n",
       "       0.019, 0.02 , 0.021, 0.022, 0.023, 0.024, 0.025, 0.026, 0.027,\n",
       "       0.028, 0.029, 0.03 , 0.031, 0.032, 0.033, 0.034, 0.035, 0.036,\n",
       "       0.0...\n",
       "       270, 280, 290, 300, 310, 320, 330, 340, 350, 360, 370, 380, 390,\n",
       "       400, 410, 420, 430, 440, 450, 460, 470, 480, 490, 500, 510, 520,\n",
       "       530, 540, 550, 560, 570, 580, 590, 600, 610, 620, 630, 640, 650,\n",
       "       660, 670, 680, 690, 700, 710, 720, 730, 740, 750, 760, 770, 780,\n",
       "       790, 800, 810, 820, 830, 840, 850, 860, 870, 880, 890, 900, 910,\n",
       "       920, 930, 940, 950, 960, 970, 980, 990])},\n",
       "                   random_state=140823, scoring='neg_mean_absolute_error',\n",
       "                   verbose=2)"
      ]
     },
     "execution_count": 48,
     "metadata": {},
     "output_type": "execute_result"
    }
   ],
   "source": [
    "RSCV_lgb.fit(features_train, target_train)"
   ]
  },
  {
   "cell_type": "code",
   "execution_count": 49,
   "id": "66a7f121",
   "metadata": {
    "scrolled": true
   },
   "outputs": [
    {
     "name": "stdout",
     "output_type": "stream",
     "text": [
      "{'n_estimators': 650, 'max_depth': 18, 'learning_rate': 0.010000000000000002}\n",
      "LGBMRegressor MAE: 6.595\n"
     ]
    }
   ],
   "source": [
    "print(RSCV_lgb.best_params_)\n",
    "\n",
    "mae = round(-RSCV_lgb.best_score_,3)\n",
    "print('LGBMRegressor MAE:', mae)\n",
    "models_con = pd.DataFrame({'model': ['LGBMRegressor'],\n",
    "                           'mae': [mae]})\n",
    "\n",
    "models = pd.concat([models, models_con], ignore_index=True)"
   ]
  },
  {
   "cell_type": "markdown",
   "id": "d971e650",
   "metadata": {},
   "source": [
    "#### CatBoostRegressor"
   ]
  },
  {
   "cell_type": "code",
   "execution_count": 50,
   "id": "22b9f135",
   "metadata": {},
   "outputs": [],
   "source": [
    "model_cb = CatBoostRegressor(verbose=9001, random_state=STATE)\n",
    "parameters = {\n",
    "    'depth': np.arange(6,14,1),\n",
    "    'n_estimators': np.arange(10,200,1),\n",
    "    \"learning_rate\": np.arange(0.05,0.25,0.01),\n",
    "    }\n",
    "RSCV_cb = RandomizedSearchCV(model_cb,parameters,scoring='neg_mean_absolute_error',\n",
    "                             cv=5,n_iter=10,verbose=1, random_state=STATE)"
   ]
  },
  {
   "cell_type": "code",
   "execution_count": 51,
   "id": "c5ee05b7",
   "metadata": {},
   "outputs": [
    {
     "name": "stdout",
     "output_type": "stream",
     "text": [
      "Fitting 5 folds for each of 10 candidates, totalling 50 fits\n",
      "0:\tlearn: 14.4781227\ttotal: 69.5ms\tremaining: 11.9s\n",
      "171:\tlearn: 3.3110820\ttotal: 930ms\tremaining: 0us\n",
      "0:\tlearn: 14.9032249\ttotal: 7.12ms\tremaining: 1.22s\n",
      "171:\tlearn: 3.0506860\ttotal: 876ms\tremaining: 0us\n",
      "0:\tlearn: 14.8172677\ttotal: 14.3ms\tremaining: 2.44s\n",
      "171:\tlearn: 3.0301957\ttotal: 904ms\tremaining: 0us\n",
      "0:\tlearn: 14.8695114\ttotal: 12.2ms\tremaining: 2.08s\n",
      "171:\tlearn: 3.1105009\ttotal: 933ms\tremaining: 0us\n",
      "0:\tlearn: 15.0833591\ttotal: 9.72ms\tremaining: 1.66s\n",
      "171:\tlearn: 3.3220213\ttotal: 884ms\tremaining: 0us\n",
      "0:\tlearn: 14.1093428\ttotal: 102ms\tremaining: 9.93s\n",
      "97:\tlearn: 2.1020886\ttotal: 5.38s\tremaining: 0us\n",
      "0:\tlearn: 14.4684956\ttotal: 58.7ms\tremaining: 5.69s\n",
      "97:\tlearn: 1.8410184\ttotal: 5.56s\tremaining: 0us\n",
      "0:\tlearn: 14.5002199\ttotal: 53.1ms\tremaining: 5.15s\n",
      "97:\tlearn: 1.7974444\ttotal: 5.6s\tremaining: 0us\n",
      "0:\tlearn: 14.5269262\ttotal: 60.7ms\tremaining: 5.89s\n",
      "97:\tlearn: 1.9276102\ttotal: 6.06s\tremaining: 0us\n",
      "0:\tlearn: 14.6268038\ttotal: 53.3ms\tremaining: 5.17s\n",
      "97:\tlearn: 2.0935456\ttotal: 5.41s\tremaining: 0us\n",
      "0:\tlearn: 15.1837983\ttotal: 15.5ms\tremaining: 2.31s\n",
      "149:\tlearn: 5.9539239\ttotal: 1.5s\tremaining: 0us\n",
      "0:\tlearn: 15.6894285\ttotal: 32.3ms\tremaining: 4.81s\n",
      "149:\tlearn: 5.8596697\ttotal: 1.49s\tremaining: 0us\n",
      "0:\tlearn: 15.5218062\ttotal: 13.1ms\tremaining: 1.96s\n",
      "149:\tlearn: 5.9717289\ttotal: 1.43s\tremaining: 0us\n",
      "0:\tlearn: 15.6328506\ttotal: 14.6ms\tremaining: 2.17s\n",
      "149:\tlearn: 6.0680621\ttotal: 1.55s\tremaining: 0us\n",
      "0:\tlearn: 15.8625107\ttotal: 45.3ms\tremaining: 6.75s\n",
      "149:\tlearn: 6.1020930\ttotal: 1.55s\tremaining: 0us\n",
      "0:\tlearn: 14.0900127\ttotal: 232ms\tremaining: 29s\n",
      "125:\tlearn: 0.4284544\ttotal: 28.3s\tremaining: 0us\n",
      "0:\tlearn: 14.3279930\ttotal: 231ms\tremaining: 28.9s\n",
      "125:\tlearn: 0.4690598\ttotal: 28.9s\tremaining: 0us\n",
      "0:\tlearn: 14.5639501\ttotal: 218ms\tremaining: 27.3s\n",
      "125:\tlearn: 0.4766149\ttotal: 27.5s\tremaining: 0us\n",
      "0:\tlearn: 14.4009397\ttotal: 241ms\tremaining: 30.1s\n",
      "125:\tlearn: 0.5469229\ttotal: 29.8s\tremaining: 0us\n",
      "0:\tlearn: 14.4844157\ttotal: 213ms\tremaining: 26.7s\n",
      "125:\tlearn: 0.4863897\ttotal: 28.2s\tremaining: 0us\n",
      "0:\tlearn: 14.0572812\ttotal: 2.18ms\tremaining: 227ms\n",
      "104:\tlearn: 5.0636549\ttotal: 203ms\tremaining: 0us\n",
      "0:\tlearn: 14.4379903\ttotal: 5.5ms\tremaining: 572ms\n",
      "104:\tlearn: 5.0438420\ttotal: 216ms\tremaining: 0us\n",
      "0:\tlearn: 14.4320742\ttotal: 2.29ms\tremaining: 238ms\n",
      "104:\tlearn: 4.7982046\ttotal: 183ms\tremaining: 0us\n",
      "0:\tlearn: 14.5061234\ttotal: 2.24ms\tremaining: 233ms\n",
      "104:\tlearn: 5.0726291\ttotal: 180ms\tremaining: 0us\n",
      "0:\tlearn: 14.6760996\ttotal: 5.58ms\tremaining: 581ms\n",
      "104:\tlearn: 5.1329325\ttotal: 186ms\tremaining: 0us\n",
      "0:\tlearn: 14.8004089\ttotal: 93.6ms\tremaining: 9.54s\n",
      "102:\tlearn: 3.9151642\ttotal: 5.6s\tremaining: 0us\n",
      "0:\tlearn: 15.2518281\ttotal: 61.8ms\tremaining: 6.3s\n",
      "102:\tlearn: 3.7978167\ttotal: 5.98s\tremaining: 0us\n",
      "0:\tlearn: 15.1813591\ttotal: 56.4ms\tremaining: 5.75s\n",
      "102:\tlearn: 3.6967343\ttotal: 5.74s\tremaining: 0us\n",
      "0:\tlearn: 15.2429902\ttotal: 63.6ms\tremaining: 6.49s\n",
      "102:\tlearn: 3.9023174\ttotal: 6.03s\tremaining: 0us\n",
      "0:\tlearn: 15.4283073\ttotal: 55ms\tremaining: 5.61s\n",
      "102:\tlearn: 3.8707664\ttotal: 5.64s\tremaining: 0us\n",
      "0:\tlearn: 14.6631673\ttotal: 16.1ms\tremaining: 1.93s\n",
      "120:\tlearn: 4.0062105\ttotal: 1.29s\tremaining: 0us\n",
      "0:\tlearn: 15.1010251\ttotal: 13.6ms\tremaining: 1.63s\n",
      "120:\tlearn: 3.8438383\ttotal: 1.26s\tremaining: 0us\n",
      "0:\tlearn: 14.9576930\ttotal: 13ms\tremaining: 1.56s\n",
      "120:\tlearn: 3.8453760\ttotal: 1.21s\tremaining: 0us\n",
      "0:\tlearn: 15.0773584\ttotal: 20.7ms\tremaining: 2.48s\n",
      "120:\tlearn: 4.1760452\ttotal: 1.3s\tremaining: 0us\n",
      "0:\tlearn: 15.2423260\ttotal: 13.6ms\tremaining: 1.63s\n",
      "120:\tlearn: 4.0768960\ttotal: 1.18s\tremaining: 0us\n",
      "0:\tlearn: 15.0241451\ttotal: 8.82ms\tremaining: 846ms\n",
      "96:\tlearn: 6.6797350\ttotal: 488ms\tremaining: 0us\n",
      "0:\tlearn: 15.5150571\ttotal: 8.73ms\tremaining: 838ms\n",
      "96:\tlearn: 6.4700037\ttotal: 512ms\tremaining: 0us\n",
      "0:\tlearn: 15.3775674\ttotal: 7.44ms\tremaining: 714ms\n",
      "96:\tlearn: 6.6594520\ttotal: 473ms\tremaining: 0us\n",
      "0:\tlearn: 15.4574924\ttotal: 18ms\tremaining: 1.73s\n",
      "96:\tlearn: 6.7678114\ttotal: 539ms\tremaining: 0us\n",
      "0:\tlearn: 15.7021358\ttotal: 8.42ms\tremaining: 808ms\n",
      "96:\tlearn: 6.6703812\ttotal: 477ms\tremaining: 0us\n",
      "0:\tlearn: 14.6727176\ttotal: 51.1ms\tremaining: 3.53s\n",
      "69:\tlearn: 4.5533307\ttotal: 3.84s\tremaining: 0us\n",
      "0:\tlearn: 15.1070551\ttotal: 59.4ms\tremaining: 4.1s\n",
      "69:\tlearn: 4.4474094\ttotal: 3.92s\tremaining: 0us\n",
      "0:\tlearn: 15.0559048\ttotal: 58.7ms\tremaining: 4.05s\n",
      "69:\tlearn: 4.4653809\ttotal: 3.81s\tremaining: 0us\n",
      "0:\tlearn: 15.1104878\ttotal: 61.2ms\tremaining: 4.22s\n",
      "69:\tlearn: 4.6295482\ttotal: 4.09s\tremaining: 0us\n",
      "0:\tlearn: 15.2802889\ttotal: 55.3ms\tremaining: 3.82s\n",
      "69:\tlearn: 4.6797514\ttotal: 3.92s\tremaining: 0us\n",
      "0:\tlearn: 14.0909032\ttotal: 118ms\tremaining: 6.86s\n",
      "58:\tlearn: 2.6459783\ttotal: 6.75s\tremaining: 0us\n",
      "0:\tlearn: 14.3283004\ttotal: 127ms\tremaining: 7.34s\n",
      "58:\tlearn: 2.5598627\ttotal: 6.8s\tremaining: 0us\n",
      "0:\tlearn: 14.3775328\ttotal: 124ms\tremaining: 7.21s\n",
      "58:\tlearn: 2.5760561\ttotal: 6.72s\tremaining: 0us\n",
      "0:\tlearn: 14.4004266\ttotal: 121ms\tremaining: 7.05s\n",
      "58:\tlearn: 2.7404118\ttotal: 6.99s\tremaining: 0us\n",
      "0:\tlearn: 14.4793150\ttotal: 114ms\tremaining: 6.63s\n",
      "58:\tlearn: 3.0107415\ttotal: 6.59s\tremaining: 0us\n",
      "0:\tlearn: 14.3017806\ttotal: 2.39ms\tremaining: 248ms\n",
      "104:\tlearn: 5.4380261\ttotal: 198ms\tremaining: 0us\n"
     ]
    },
    {
     "data": {
      "text/html": [
       "<style>#sk-container-id-3 {color: black;}#sk-container-id-3 pre{padding: 0;}#sk-container-id-3 div.sk-toggleable {background-color: white;}#sk-container-id-3 label.sk-toggleable__label {cursor: pointer;display: block;width: 100%;margin-bottom: 0;padding: 0.3em;box-sizing: border-box;text-align: center;}#sk-container-id-3 label.sk-toggleable__label-arrow:before {content: \"▸\";float: left;margin-right: 0.25em;color: #696969;}#sk-container-id-3 label.sk-toggleable__label-arrow:hover:before {color: black;}#sk-container-id-3 div.sk-estimator:hover label.sk-toggleable__label-arrow:before {color: black;}#sk-container-id-3 div.sk-toggleable__content {max-height: 0;max-width: 0;overflow: hidden;text-align: left;background-color: #f0f8ff;}#sk-container-id-3 div.sk-toggleable__content pre {margin: 0.2em;color: black;border-radius: 0.25em;background-color: #f0f8ff;}#sk-container-id-3 input.sk-toggleable__control:checked~div.sk-toggleable__content {max-height: 200px;max-width: 100%;overflow: auto;}#sk-container-id-3 input.sk-toggleable__control:checked~label.sk-toggleable__label-arrow:before {content: \"▾\";}#sk-container-id-3 div.sk-estimator input.sk-toggleable__control:checked~label.sk-toggleable__label {background-color: #d4ebff;}#sk-container-id-3 div.sk-label input.sk-toggleable__control:checked~label.sk-toggleable__label {background-color: #d4ebff;}#sk-container-id-3 input.sk-hidden--visually {border: 0;clip: rect(1px 1px 1px 1px);clip: rect(1px, 1px, 1px, 1px);height: 1px;margin: -1px;overflow: hidden;padding: 0;position: absolute;width: 1px;}#sk-container-id-3 div.sk-estimator {font-family: monospace;background-color: #f0f8ff;border: 1px dotted black;border-radius: 0.25em;box-sizing: border-box;margin-bottom: 0.5em;}#sk-container-id-3 div.sk-estimator:hover {background-color: #d4ebff;}#sk-container-id-3 div.sk-parallel-item::after {content: \"\";width: 100%;border-bottom: 1px solid gray;flex-grow: 1;}#sk-container-id-3 div.sk-label:hover label.sk-toggleable__label {background-color: #d4ebff;}#sk-container-id-3 div.sk-serial::before {content: \"\";position: absolute;border-left: 1px solid gray;box-sizing: border-box;top: 0;bottom: 0;left: 50%;z-index: 0;}#sk-container-id-3 div.sk-serial {display: flex;flex-direction: column;align-items: center;background-color: white;padding-right: 0.2em;padding-left: 0.2em;position: relative;}#sk-container-id-3 div.sk-item {position: relative;z-index: 1;}#sk-container-id-3 div.sk-parallel {display: flex;align-items: stretch;justify-content: center;background-color: white;position: relative;}#sk-container-id-3 div.sk-item::before, #sk-container-id-3 div.sk-parallel-item::before {content: \"\";position: absolute;border-left: 1px solid gray;box-sizing: border-box;top: 0;bottom: 0;left: 50%;z-index: -1;}#sk-container-id-3 div.sk-parallel-item {display: flex;flex-direction: column;z-index: 1;position: relative;background-color: white;}#sk-container-id-3 div.sk-parallel-item:first-child::after {align-self: flex-end;width: 50%;}#sk-container-id-3 div.sk-parallel-item:last-child::after {align-self: flex-start;width: 50%;}#sk-container-id-3 div.sk-parallel-item:only-child::after {width: 0;}#sk-container-id-3 div.sk-dashed-wrapped {border: 1px dashed gray;margin: 0 0.4em 0.5em 0.4em;box-sizing: border-box;padding-bottom: 0.4em;background-color: white;}#sk-container-id-3 div.sk-label label {font-family: monospace;font-weight: bold;display: inline-block;line-height: 1.2em;}#sk-container-id-3 div.sk-label-container {text-align: center;}#sk-container-id-3 div.sk-container {/* jupyter's `normalize.less` sets `[hidden] { display: none; }` but bootstrap.min.css set `[hidden] { display: none !important; }` so we also need the `!important` here to be able to override the default hidden behavior on the sphinx rendered scikit-learn.org. See: https://github.com/scikit-learn/scikit-learn/issues/21755 */display: inline-block !important;position: relative;}#sk-container-id-3 div.sk-text-repr-fallback {display: none;}</style><div id=\"sk-container-id-3\" class=\"sk-top-container\"><div class=\"sk-text-repr-fallback\"><pre>RandomizedSearchCV(cv=5,\n",
       "                   estimator=&lt;catboost.core.CatBoostRegressor object at 0x0000019602C249D0&gt;,\n",
       "                   param_distributions={&#x27;depth&#x27;: array([ 6,  7,  8,  9, 10, 11, 12, 13]),\n",
       "                                        &#x27;learning_rate&#x27;: array([0.05, 0.06, 0.07, 0.08, 0.09, 0.1 , 0.11, 0.12, 0.13, 0.14, 0.15,\n",
       "       0.16, 0.17, 0.18, 0.19, 0.2 , 0.21, 0.22, 0.23, 0.24]),\n",
       "                                        &#x27;n_estimators&#x27;: array([ 10,  11,  12,  13,  14,  15,  16,  17,  18,  19,  20,  21,  22,\n",
       "        23,  24,  25,  26,  27...\n",
       "       127, 128, 129, 130, 131, 132, 133, 134, 135, 136, 137, 138, 139,\n",
       "       140, 141, 142, 143, 144, 145, 146, 147, 148, 149, 150, 151, 152,\n",
       "       153, 154, 155, 156, 157, 158, 159, 160, 161, 162, 163, 164, 165,\n",
       "       166, 167, 168, 169, 170, 171, 172, 173, 174, 175, 176, 177, 178,\n",
       "       179, 180, 181, 182, 183, 184, 185, 186, 187, 188, 189, 190, 191,\n",
       "       192, 193, 194, 195, 196, 197, 198, 199])},\n",
       "                   random_state=140823, scoring=&#x27;neg_mean_absolute_error&#x27;,\n",
       "                   verbose=1)</pre><b>In a Jupyter environment, please rerun this cell to show the HTML representation or trust the notebook. <br />On GitHub, the HTML representation is unable to render, please try loading this page with nbviewer.org.</b></div><div class=\"sk-container\" hidden><div class=\"sk-item sk-dashed-wrapped\"><div class=\"sk-label-container\"><div class=\"sk-label sk-toggleable\"><input class=\"sk-toggleable__control sk-hidden--visually\" id=\"sk-estimator-id-7\" type=\"checkbox\" ><label for=\"sk-estimator-id-7\" class=\"sk-toggleable__label sk-toggleable__label-arrow\">RandomizedSearchCV</label><div class=\"sk-toggleable__content\"><pre>RandomizedSearchCV(cv=5,\n",
       "                   estimator=&lt;catboost.core.CatBoostRegressor object at 0x0000019602C249D0&gt;,\n",
       "                   param_distributions={&#x27;depth&#x27;: array([ 6,  7,  8,  9, 10, 11, 12, 13]),\n",
       "                                        &#x27;learning_rate&#x27;: array([0.05, 0.06, 0.07, 0.08, 0.09, 0.1 , 0.11, 0.12, 0.13, 0.14, 0.15,\n",
       "       0.16, 0.17, 0.18, 0.19, 0.2 , 0.21, 0.22, 0.23, 0.24]),\n",
       "                                        &#x27;n_estimators&#x27;: array([ 10,  11,  12,  13,  14,  15,  16,  17,  18,  19,  20,  21,  22,\n",
       "        23,  24,  25,  26,  27...\n",
       "       127, 128, 129, 130, 131, 132, 133, 134, 135, 136, 137, 138, 139,\n",
       "       140, 141, 142, 143, 144, 145, 146, 147, 148, 149, 150, 151, 152,\n",
       "       153, 154, 155, 156, 157, 158, 159, 160, 161, 162, 163, 164, 165,\n",
       "       166, 167, 168, 169, 170, 171, 172, 173, 174, 175, 176, 177, 178,\n",
       "       179, 180, 181, 182, 183, 184, 185, 186, 187, 188, 189, 190, 191,\n",
       "       192, 193, 194, 195, 196, 197, 198, 199])},\n",
       "                   random_state=140823, scoring=&#x27;neg_mean_absolute_error&#x27;,\n",
       "                   verbose=1)</pre></div></div></div><div class=\"sk-parallel\"><div class=\"sk-parallel-item\"><div class=\"sk-item\"><div class=\"sk-label-container\"><div class=\"sk-label sk-toggleable\"><input class=\"sk-toggleable__control sk-hidden--visually\" id=\"sk-estimator-id-8\" type=\"checkbox\" ><label for=\"sk-estimator-id-8\" class=\"sk-toggleable__label sk-toggleable__label-arrow\">estimator: CatBoostRegressor</label><div class=\"sk-toggleable__content\"><pre>&lt;catboost.core.CatBoostRegressor object at 0x0000019602C249D0&gt;</pre></div></div></div><div class=\"sk-serial\"><div class=\"sk-item\"><div class=\"sk-estimator sk-toggleable\"><input class=\"sk-toggleable__control sk-hidden--visually\" id=\"sk-estimator-id-9\" type=\"checkbox\" ><label for=\"sk-estimator-id-9\" class=\"sk-toggleable__label sk-toggleable__label-arrow\">CatBoostRegressor</label><div class=\"sk-toggleable__content\"><pre>&lt;catboost.core.CatBoostRegressor object at 0x0000019602C249D0&gt;</pre></div></div></div></div></div></div></div></div></div></div>"
      ],
      "text/plain": [
       "RandomizedSearchCV(cv=5,\n",
       "                   estimator=<catboost.core.CatBoostRegressor object at 0x0000019602C249D0>,\n",
       "                   param_distributions={'depth': array([ 6,  7,  8,  9, 10, 11, 12, 13]),\n",
       "                                        'learning_rate': array([0.05, 0.06, 0.07, 0.08, 0.09, 0.1 , 0.11, 0.12, 0.13, 0.14, 0.15,\n",
       "       0.16, 0.17, 0.18, 0.19, 0.2 , 0.21, 0.22, 0.23, 0.24]),\n",
       "                                        'n_estimators': array([ 10,  11,  12,  13,  14,  15,  16,  17,  18,  19,  20,  21,  22,\n",
       "        23,  24,  25,  26,  27...\n",
       "       127, 128, 129, 130, 131, 132, 133, 134, 135, 136, 137, 138, 139,\n",
       "       140, 141, 142, 143, 144, 145, 146, 147, 148, 149, 150, 151, 152,\n",
       "       153, 154, 155, 156, 157, 158, 159, 160, 161, 162, 163, 164, 165,\n",
       "       166, 167, 168, 169, 170, 171, 172, 173, 174, 175, 176, 177, 178,\n",
       "       179, 180, 181, 182, 183, 184, 185, 186, 187, 188, 189, 190, 191,\n",
       "       192, 193, 194, 195, 196, 197, 198, 199])},\n",
       "                   random_state=140823, scoring='neg_mean_absolute_error',\n",
       "                   verbose=1)"
      ]
     },
     "execution_count": 51,
     "metadata": {},
     "output_type": "execute_result"
    }
   ],
   "source": [
    "RSCV_cb.fit(features_train, target_train)"
   ]
  },
  {
   "cell_type": "code",
   "execution_count": 52,
   "id": "bec305a8",
   "metadata": {
    "scrolled": false
   },
   "outputs": [
    {
     "name": "stdout",
     "output_type": "stream",
     "text": [
      "{'n_estimators': 105, 'learning_rate': 0.21000000000000002, 'depth': 6}\n",
      "CatBoostRegressor MAE: 6.58\n"
     ]
    }
   ],
   "source": [
    "print(RSCV_cb.best_params_)\n",
    "\n",
    "mae = round(-RSCV_cb.best_score_,3)\n",
    "print('CatBoostRegressor MAE:', mae)\n",
    "models_con = pd.DataFrame({'model': ['CatBoostRegressor'],\n",
    "                           'mae': [mae]})\n",
    "\n",
    "models = pd.concat([models, models_con], ignore_index=True)"
   ]
  },
  {
   "cell_type": "code",
   "execution_count": 53,
   "id": "50e75b1d",
   "metadata": {},
   "outputs": [
    {
     "data": {
      "text/html": [
       "<div>\n",
       "<style scoped>\n",
       "    .dataframe tbody tr th:only-of-type {\n",
       "        vertical-align: middle;\n",
       "    }\n",
       "\n",
       "    .dataframe tbody tr th {\n",
       "        vertical-align: top;\n",
       "    }\n",
       "\n",
       "    .dataframe thead th {\n",
       "        text-align: right;\n",
       "    }\n",
       "</style>\n",
       "<table border=\"1\" class=\"dataframe\">\n",
       "  <thead>\n",
       "    <tr style=\"text-align: right;\">\n",
       "      <th></th>\n",
       "      <th>model</th>\n",
       "      <th>mae</th>\n",
       "    </tr>\n",
       "  </thead>\n",
       "  <tbody>\n",
       "    <tr>\n",
       "      <th>4</th>\n",
       "      <td>CatBoostRegressor</td>\n",
       "      <td>6.580</td>\n",
       "    </tr>\n",
       "    <tr>\n",
       "      <th>3</th>\n",
       "      <td>LGBMRegressor</td>\n",
       "      <td>6.595</td>\n",
       "    </tr>\n",
       "    <tr>\n",
       "      <th>2</th>\n",
       "      <td>RandomForestRegressor</td>\n",
       "      <td>6.913</td>\n",
       "    </tr>\n",
       "    <tr>\n",
       "      <th>1</th>\n",
       "      <td>LinearRegression</td>\n",
       "      <td>8.157</td>\n",
       "    </tr>\n",
       "    <tr>\n",
       "      <th>0</th>\n",
       "      <td>DummyRegressor</td>\n",
       "      <td>10.097</td>\n",
       "    </tr>\n",
       "  </tbody>\n",
       "</table>\n",
       "</div>"
      ],
      "text/plain": [
       "                   model     mae\n",
       "4      CatBoostRegressor   6.580\n",
       "3          LGBMRegressor   6.595\n",
       "2  RandomForestRegressor   6.913\n",
       "1       LinearRegression   8.157\n",
       "0         DummyRegressor  10.097"
      ]
     },
     "execution_count": 53,
     "metadata": {},
     "output_type": "execute_result"
    }
   ],
   "source": [
    "models.sort_values(by='mae')"
   ]
  },
  {
   "cell_type": "markdown",
   "id": "06a5f2cb",
   "metadata": {},
   "source": [
    "### Best model evaluation\n",
    "#### Feature importance"
   ]
  },
  {
   "cell_type": "markdown",
   "id": "c1a6e18d",
   "metadata": {},
   "source": [
    "LGBMRegressor showed the best result, let's review feature importances"
   ]
  },
  {
   "cell_type": "code",
   "execution_count": 56,
   "id": "624469dc",
   "metadata": {},
   "outputs": [
    {
     "data": {
      "image/png": "[encoded data removed]",
      "text/plain": [
       "<Figure size 1100x900 with 1 Axes>"
      ]
     },
     "metadata": {},
     "output_type": "display_data"
    }
   ],
   "source": [
    "(\n",
    "pd.Series(RSCV_cb.best_estimator_.feature_importances_, index=features.columns)\n",
    "    .sort_values(ascending=False)\n",
    "    .plot.barh(title='LGBMRegressor feature importances',figsize=(11, 9))\n",
    ")\n",
    "plt.xlabel('Relevance');\n",
    "plt.show()"
   ]
  },
  {
   "cell_type": "markdown",
   "id": "821ed890",
   "metadata": {},
   "source": [
    "According to correlation function, our target feature depends most strongly on initial temperature (0.44), mean power (0.21), total used power (0.18), bulk additives 6 (-0.17), 12 (0.16) and wire additive 2 (-0.21).\n",
    "\n",
    "According to model, the most important features are wire additive 1, initial temperature, mean downtime, total used power and total process time.\n",
    "\n",
    "Initial temperature and total used power ended up being confirmed as important by our model, while mean power, bulk additives 6 and 12, and wire additive 2 appear to be less so. Both mean downtime and wire additive 1, that correlation drew no connection to, ended up in top 5\n",
    "\n",
    "#### Test sample"
   ]
  },
  {
   "cell_type": "code",
   "execution_count": 57,
   "id": "9921b0cd",
   "metadata": {},
   "outputs": [
    {
     "name": "stdout",
     "output_type": "stream",
     "text": [
      "Test sample MAE: 6.535\n"
     ]
    }
   ],
   "source": [
    "pred_cb = RSCV_cb.predict(features_test)\n",
    "print('Test sample MAE:', round(mean_absolute_error(target_test, pred_cb),3))"
   ]
  },
  {
   "cell_type": "markdown",
   "id": "ded39bab",
   "metadata": {},
   "source": [
    "Final MAE is 6.535, which is less than maximum of 6.8, objective complete\n",
    "\n",
    "**Conclusion**\n",
    "\n",
    "The model can be used to predict the technological parameter of the ladle temperature at the end of the process. 4 models were built. All models are adequate, the best was LGBMRegressor. The most influential characteristics were initial temperature and total process time. The following is a report detailing the analysis performed."
   ]
  },
  {
   "cell_type": "markdown",
   "id": "d917ec78",
   "metadata": {},
   "source": [
    "## General conclusion\n",
    "\n",
    "The primary limiting factor in the project can be attributed to the limited processing power available. It was necessary to reduce the iterations and boundaries of the RandomizedSearchCV hyperparameters, which directly impacted the quality metric of the final model.\n",
    "\n",
    "Data preprocessing involved combining data from different tables into one using an inner join for model training. Out of approximately 3200 batches, we selected around 2400.\n",
    "\n",
    "To train the model, we initially selected a 25% test sample. Four models were built on the training set: LinearRegression, RandomForestRegressor, LGBMRegressor, and CatBoostRegressor. We used cross_val_score for linear regression and RandomizedSearchCV for the others. All models demonstrated adequacy compared to the null model. We selected the best model based on the overall quality indicator - average absolute error - and then tested it on the test sample to obtain the final result.\n",
    "\n",
    "From the electrode data, we obtained four batch features: the number of cycles, total power, mean power, and mean downtime. We didn't use total downtime as it was directly correlated with the time between the first and last temperature measurements. Total power was calculated by aggregating active and reactive power over arc heating time. Downtime was obtained by aggregating the time between the end and the beginning of the arc of two successive cycles.\n",
    "\n",
    "Any additives used in less than 1% of batches were excluded from the data. Even in this case, it's worth noting that the least-used additives ranked at the bottom of the list of feature importance for the model. Therefore, reintroducing them into the training features is unlikely to significantly improve it.\n",
    "\n",
    "From the temperature measurement data, two features were obtained: the initial temperature and the time between the measurement of the initial and final temperatures (total process time). Intermediate temperatures are not known in advance and could not be used. The final temperature became our target for predictions.\n",
    "\n",
    "The best model was CatBoostRegressor with the following hyperparameters: 'n_estimators': 105, 'learning_rate': 0.21, 'depth': 6. It's essential to note that this model cannot be definitively called the leader, as LGBM was close behind. The difference can be attributed to the method of random selection of hyperparameters used in RandomizedSearchCV and processing power limitations. In further work to improve predictions, both models should be compared further. The most influential characteristics were wire additive 1 and initial temperature. The final MAE metric on the test sample was 6.535, which is below the maximum of 6.8.\n",
    "\n",
    "To further improve the metric, the following methods can be proposed:\n",
    "\n",
    "1. Adding more variable hyperparameters to CatBoost/LGBM models\n",
    "2. Expanding the boundaries of the considered hyperparameters\n",
    "3. Increasing the number of RandomizedSearchCV iterations\n",
    "4. Replacing RandomizedSearchCV with HalvingRandomSearchCV, which promises faster searching\n",
    "5. Further review of source data in order to look for previously undiscovered useful features"
   ]
  }
 ],
 "metadata": {
  "kernelspec": {
   "display_name": "Python 3 (ipykernel)",
   "language": "python",
   "name": "python3"
  },
  "language_info": {
   "codemirror_mode": {
    "name": "ipython",
    "version": 3
   },
   "file_extension": ".py",
   "mimetype": "text/x-python",
   "name": "python",
   "nbconvert_exporter": "python",
   "pygments_lexer": "ipython3",
   "version": "3.11.6"
  },
  "toc": {
   "base_numbering": 1,
   "nav_menu": {},
   "number_sections": true,
   "sideBar": true,
   "skip_h1_title": true,
   "title_cell": "Table of Contents",
   "title_sidebar": "Contents",
   "toc_cell": false,
   "toc_position": {
    "height": "775px",
    "left": "29px",
    "top": "111.133px",
    "width": "384px"
   },
   "toc_section_display": true,
   "toc_window_display": true
  }
 },
 "nbformat": 4,
 "nbformat_minor": 5
}
