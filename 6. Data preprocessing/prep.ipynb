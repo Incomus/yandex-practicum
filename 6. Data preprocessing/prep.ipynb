{
 "cells": [
  {
   "cell_type": "markdown",
   "id": "1fa9de45",
   "metadata": {},
   "source": [
    "# Borrower reliability research\n",
    "## 1. Data overview"
   ]
  },
  {
   "cell_type": "code",
   "execution_count": 1,
   "id": "5895c32b",
   "metadata": {},
   "outputs": [],
   "source": [
    "import pandas as pd"
   ]
  },
  {
   "cell_type": "code",
   "execution_count": 2,
   "id": "1ea80dc2",
   "metadata": {
    "scrolled": true
   },
   "outputs": [
    {
     "name": "stdout",
     "output_type": "stream",
     "text": [
      "    children  days_employed  dob_years            education  education_id  \\\n",
      "0          1   -8437.673028         42               высшее             0   \n",
      "1          1   -4024.803754         36              среднее             1   \n",
      "2          0   -5623.422610         33              Среднее             1   \n",
      "3          3   -4124.747207         32              среднее             1   \n",
      "4          0  340266.072047         53              среднее             1   \n",
      "5          0    -926.185831         27               высшее             0   \n",
      "6          0   -2879.202052         43               высшее             0   \n",
      "7          0    -152.779569         50              СРЕДНЕЕ             1   \n",
      "8          2   -6929.865299         35               ВЫСШЕЕ             0   \n",
      "9          0   -2188.756445         41              среднее             1   \n",
      "10         2   -4171.483647         36               высшее             0   \n",
      "11         0    -792.701887         40              среднее             1   \n",
      "12         0            NaN         65              среднее             1   \n",
      "13         0   -1846.641941         54  неоконченное высшее             2   \n",
      "14         0   -1844.956182         56               высшее             0   \n",
      "15         1    -972.364419         26              среднее             1   \n",
      "16         0   -1719.934226         35              среднее             1   \n",
      "17         0   -2369.999720         33               высшее             0   \n",
      "18         0  400281.136913         53              среднее             1   \n",
      "19         0  -10038.818549         48              СРЕДНЕЕ             1   \n",
      "\n",
      "       family_status  family_status_id gender income_type  debt  \\\n",
      "0    женат / замужем                 0      F   сотрудник     0   \n",
      "1    женат / замужем                 0      F   сотрудник     0   \n",
      "2    женат / замужем                 0      M   сотрудник     0   \n",
      "3    женат / замужем                 0      M   сотрудник     0   \n",
      "4   гражданский брак                 1      F   пенсионер     0   \n",
      "5   гражданский брак                 1      M   компаньон     0   \n",
      "6    женат / замужем                 0      F   компаньон     0   \n",
      "7    женат / замужем                 0      M   сотрудник     0   \n",
      "8   гражданский брак                 1      F   сотрудник     0   \n",
      "9    женат / замужем                 0      M   сотрудник     0   \n",
      "10   женат / замужем                 0      M   компаньон     0   \n",
      "11   женат / замужем                 0      F   сотрудник     0   \n",
      "12  гражданский брак                 1      M   пенсионер     0   \n",
      "13   женат / замужем                 0      F   сотрудник     0   \n",
      "14  гражданский брак                 1      F   компаньон     1   \n",
      "15   женат / замужем                 0      F   сотрудник     0   \n",
      "16   женат / замужем                 0      F   сотрудник     0   \n",
      "17  гражданский брак                 1      M   сотрудник     0   \n",
      "18    вдовец / вдова                 2      F   пенсионер     0   \n",
      "19         в разводе                 3      F   сотрудник     0   \n",
      "\n",
      "     total_income                                 purpose  \n",
      "0   253875.639453                           покупка жилья  \n",
      "1   112080.014102                 приобретение автомобиля  \n",
      "2   145885.952297                           покупка жилья  \n",
      "3   267628.550329              дополнительное образование  \n",
      "4   158616.077870                         сыграть свадьбу  \n",
      "5   255763.565419                           покупка жилья  \n",
      "6   240525.971920                       операции с жильем  \n",
      "7   135823.934197                             образование  \n",
      "8    95856.832424                   на проведение свадьбы  \n",
      "9   144425.938277                 покупка жилья для семьи  \n",
      "10  113943.491460                    покупка недвижимости  \n",
      "11   77069.234271       покупка коммерческой недвижимости  \n",
      "12            NaN                         сыграть свадьбу  \n",
      "13  130458.228857                 приобретение автомобиля  \n",
      "14  165127.911772              покупка жилой недвижимости  \n",
      "15  116820.904450  строительство собственной недвижимости  \n",
      "16  289202.704229                            недвижимость  \n",
      "17   90410.586745              строительство недвижимости  \n",
      "18   56823.777243      на покупку подержанного автомобиля  \n",
      "19  242831.107982            на покупку своего автомобиля  \n"
     ]
    }
   ],
   "source": [
    "data = pd.read_csv('D:\\Jupyter\\\\6. Data preprocessing\\data_prep.csv')\n",
    "print(data.head(20))"
   ]
  },
  {
   "cell_type": "code",
   "execution_count": 3,
   "id": "b6ebe607",
   "metadata": {},
   "outputs": [
    {
     "name": "stdout",
     "output_type": "stream",
     "text": [
      "<class 'pandas.core.frame.DataFrame'>\n",
      "RangeIndex: 21525 entries, 0 to 21524\n",
      "Data columns (total 12 columns):\n",
      " #   Column            Non-Null Count  Dtype  \n",
      "---  ------            --------------  -----  \n",
      " 0   children          21525 non-null  int64  \n",
      " 1   days_employed     19351 non-null  float64\n",
      " 2   dob_years         21525 non-null  int64  \n",
      " 3   education         21525 non-null  object \n",
      " 4   education_id      21525 non-null  int64  \n",
      " 5   family_status     21525 non-null  object \n",
      " 6   family_status_id  21525 non-null  int64  \n",
      " 7   gender            21525 non-null  object \n",
      " 8   income_type       21525 non-null  object \n",
      " 9   debt              21525 non-null  int64  \n",
      " 10  total_income      19351 non-null  float64\n",
      " 11  purpose           21525 non-null  object \n",
      "dtypes: float64(2), int64(5), object(5)\n",
      "memory usage: 2.0+ MB\n"
     ]
    }
   ],
   "source": [
    "data.info()"
   ]
  },
  {
   "cell_type": "markdown",
   "id": "99cf1e6b",
   "metadata": {},
   "source": [
    "## 2. Data Preprocessing\n",
    "### 2.1. Missing values"
   ]
  },
  {
   "cell_type": "code",
   "execution_count": 4,
   "id": "316baf3a",
   "metadata": {},
   "outputs": [
    {
     "data": {
      "text/plain": [
       "children               0\n",
       "days_employed       2174\n",
       "dob_years              0\n",
       "education              0\n",
       "education_id           0\n",
       "family_status          0\n",
       "family_status_id       0\n",
       "gender                 0\n",
       "income_type            0\n",
       "debt                   0\n",
       "total_income        2174\n",
       "purpose                0\n",
       "dtype: int64"
      ]
     },
     "execution_count": 4,
     "metadata": {},
     "output_type": "execute_result"
    }
   ],
   "source": [
    "data.isnull().sum()"
   ]
  },
  {
   "cell_type": "markdown",
   "id": "15ebde62",
   "metadata": {},
   "source": [
    "'total_income' is most dependant on 'income_type', thus we will insert median values in missing data for every type seperatly"
   ]
  },
  {
   "cell_type": "code",
   "execution_count": 5,
   "id": "d3fe5f66",
   "metadata": {},
   "outputs": [],
   "source": [
    "for type in data['income_type'].unique():\n",
    "    type_income = data[data['income_type'] == type]['total_income'].median()\n",
    "    data.loc[(data['income_type'] == type) & (data['total_income'].isna()), 'total_income'] = type_income"
   ]
  },
  {
   "cell_type": "markdown",
   "id": "b18bb329",
   "metadata": {},
   "source": [
    "### 2.2. Anomalious data"
   ]
  },
  {
   "cell_type": "code",
   "execution_count": 6,
   "id": "62e9d9e2",
   "metadata": {},
   "outputs": [
    {
     "data": {
      "text/plain": [
       "income_type\n",
       "безработный        366413.652744\n",
       "в декрете            3296.759962\n",
       "госслужащий          2689.368353\n",
       "компаньон            1547.382223\n",
       "пенсионер          365213.306266\n",
       "предприниматель       520.848083\n",
       "сотрудник            1574.202821\n",
       "студент               578.751554\n",
       "Name: days_employed, dtype: float64"
      ]
     },
     "execution_count": 6,
     "metadata": {},
     "output_type": "execute_result"
    }
   ],
   "source": [
    "data['days_employed'] = data['days_employed'].abs()\n",
    "data.groupby('income_type')['days_employed'].median()"
   ]
  },
  {
   "cell_type": "code",
   "execution_count": 7,
   "id": "6f1b434c",
   "metadata": {},
   "outputs": [
    {
     "data": {
      "text/plain": [
       "array([ 1,  0,  3,  2, -1,  4, 20,  5], dtype=int64)"
      ]
     },
     "execution_count": 7,
     "metadata": {},
     "output_type": "execute_result"
    }
   ],
   "source": [
    "data['children'].unique()"
   ]
  },
  {
   "cell_type": "code",
   "execution_count": 8,
   "id": "bc22ae6c",
   "metadata": {},
   "outputs": [
    {
     "data": {
      "text/plain": [
       "array([1, 0, 3, 2, 4, 5], dtype=int64)"
      ]
     },
     "execution_count": 8,
     "metadata": {},
     "output_type": "execute_result"
    }
   ],
   "source": [
    "data = data.drop(data[data['children'].isin([-1,20])].index)\n",
    "data['children'].unique()"
   ]
  },
  {
   "cell_type": "markdown",
   "id": "62ccdc41",
   "metadata": {},
   "source": [
    "### 2.3. Missing values, continuing\n",
    "For 'days_employed' it's the same as 'total_income'"
   ]
  },
  {
   "cell_type": "code",
   "execution_count": 9,
   "id": "3856519f",
   "metadata": {},
   "outputs": [
    {
     "data": {
      "text/plain": [
       "children            0\n",
       "days_employed       0\n",
       "dob_years           0\n",
       "education           0\n",
       "education_id        0\n",
       "family_status       0\n",
       "family_status_id    0\n",
       "gender              0\n",
       "income_type         0\n",
       "debt                0\n",
       "total_income        0\n",
       "purpose             0\n",
       "dtype: int64"
      ]
     },
     "execution_count": 9,
     "metadata": {},
     "output_type": "execute_result"
    }
   ],
   "source": [
    "for type in data['income_type'].unique():\n",
    "    data.loc[(data['income_type'] == type) & (data['days_employed'].isna()), 'days_employed'] = \\\n",
    "    data.loc[data['income_type'] == type,'days_employed'].median()\n",
    "data.isnull().sum()"
   ]
  },
  {
   "cell_type": "markdown",
   "id": "5011b9d5",
   "metadata": {},
   "source": [
    "### 2.4. Changing Data Types"
   ]
  },
  {
   "cell_type": "code",
   "execution_count": 10,
   "id": "a06cf28c",
   "metadata": {},
   "outputs": [],
   "source": [
    "data['total_income'] = data['total_income'].astype('int')"
   ]
  },
  {
   "cell_type": "markdown",
   "id": "3b419b76",
   "metadata": {},
   "source": [
    "### 2.5. Duplicate processing"
   ]
  },
  {
   "cell_type": "code",
   "execution_count": 11,
   "id": "17cfb8cb",
   "metadata": {},
   "outputs": [
    {
     "data": {
      "text/plain": [
       "array(['высшее', 'среднее', 'неоконченное высшее', 'начальное',\n",
       "       'ученая степень'], dtype=object)"
      ]
     },
     "execution_count": 11,
     "metadata": {},
     "output_type": "execute_result"
    }
   ],
   "source": [
    "data['education'] = data['education'].str.lower()\n",
    "data['education'].unique()"
   ]
  },
  {
   "cell_type": "code",
   "execution_count": 12,
   "id": "5f8ec7b2",
   "metadata": {},
   "outputs": [
    {
     "data": {
      "text/plain": [
       "71"
      ]
     },
     "execution_count": 12,
     "metadata": {},
     "output_type": "execute_result"
    }
   ],
   "source": [
    "data.duplicated().sum()"
   ]
  },
  {
   "cell_type": "markdown",
   "id": "87b285ed",
   "metadata": {},
   "source": [
    "### 2.6. Data categorisation\n",
    "\n",
    "The following categories for 'total_income' are used:\n",
    "\n",
    "- 0–30000 — `'E'`;\n",
    "- 30001–50000 — `'D'`;\n",
    "- 50001–200000 — `'C'`;\n",
    "- 200001–1000000 — `'B'`;\n",
    "- 1000001 и выше — `'A'`."
   ]
  },
  {
   "cell_type": "code",
   "execution_count": 13,
   "id": "d74c2517",
   "metadata": {},
   "outputs": [
    {
     "data": {
      "text/plain": [
       "array(['покупка жилья', 'приобретение автомобиля',\n",
       "       'дополнительное образование', 'сыграть свадьбу',\n",
       "       'операции с жильем', 'образование', 'на проведение свадьбы',\n",
       "       'покупка жилья для семьи', 'покупка недвижимости',\n",
       "       'покупка коммерческой недвижимости', 'покупка жилой недвижимости',\n",
       "       'строительство собственной недвижимости', 'недвижимость',\n",
       "       'строительство недвижимости', 'на покупку подержанного автомобиля',\n",
       "       'на покупку своего автомобиля',\n",
       "       'операции с коммерческой недвижимостью',\n",
       "       'строительство жилой недвижимости', 'жилье',\n",
       "       'операции со своей недвижимостью', 'автомобили',\n",
       "       'заняться образованием', 'сделка с подержанным автомобилем',\n",
       "       'получение образования', 'автомобиль', 'свадьба',\n",
       "       'получение дополнительного образования', 'покупка своего жилья',\n",
       "       'операции с недвижимостью', 'получение высшего образования',\n",
       "       'свой автомобиль', 'сделка с автомобилем',\n",
       "       'профильное образование', 'высшее образование',\n",
       "       'покупка жилья для сдачи', 'на покупку автомобиля', 'ремонт жилью',\n",
       "       'заняться высшим образованием'], dtype=object)"
      ]
     },
     "execution_count": 13,
     "metadata": {},
     "output_type": "execute_result"
    }
   ],
   "source": [
    "def categorize_income(income):\n",
    "    if income<30001:\n",
    "        return 'E'\n",
    "    elif income<50001:\n",
    "        return 'D'\n",
    "    elif income<200001:\n",
    "        return 'C'\n",
    "    elif income<1000001:\n",
    "        return 'B'\n",
    "    else:\n",
    "        return 'A'\n",
    "    \n",
    "data['total_income_category'] = data['total_income'].apply(categorize_income)\n",
    "data['purpose'].unique()"
   ]
  },
  {
   "cell_type": "markdown",
   "id": "ba7c516a",
   "metadata": {},
   "source": [
    "The following categories for 'purpose' are used:\n",
    "\n",
    "- `'операции с автомобилем'`,\n",
    "- `'операции с недвижимостью'`,\n",
    "- `'проведение свадьбы'`,\n",
    "- `'получение образования'`."
   ]
  },
  {
   "cell_type": "code",
   "execution_count": 14,
   "id": "06dbf9c1",
   "metadata": {},
   "outputs": [],
   "source": [
    "def categorize_purpose(purpose):\n",
    "    if 'автомоб' in purpose:\n",
    "        return 'операции с автомобилем'\n",
    "    elif any(x in purpose for x in ['недвиж','жиль','кварт']):\n",
    "        return 'операции с недвижимостью'\n",
    "    elif 'свадьб' in purpose:\n",
    "        return 'проведение свадьбы'\n",
    "    elif 'образован' in purpose:\n",
    "        return 'получение образования'\n",
    "    else:\n",
    "        return 'неопределено'\n",
    "    \n",
    "data['purpose_category'] = data['purpose'].apply(categorize_purpose)"
   ]
  },
  {
   "cell_type": "markdown",
   "id": "9e4e3a7c",
   "metadata": {},
   "source": [
    "## 3. Data exploration\n",
    "### 3.1. Relationship between the number of children and repayment of the loan on time\n",
    "Loan repayment on time is given as 1 or 0 in the debt column, so you can check the dependence by dividing the sum of the searched debt groups by the group size"
   ]
  },
  {
   "cell_type": "code",
   "execution_count": 15,
   "id": "8a18ddf6",
   "metadata": {},
   "outputs": [
    {
     "data": {
      "text/html": [
       "<style type=\"text/css\">\n",
       "</style>\n",
       "<table id=\"T_8b8df\">\n",
       "  <thead>\n",
       "    <tr>\n",
       "      <th class=\"blank level0\" >&nbsp;</th>\n",
       "      <th id=\"T_8b8df_level0_col0\" class=\"col_heading level0 col0\" >count</th>\n",
       "      <th id=\"T_8b8df_level0_col1\" class=\"col_heading level0 col1\" >sum</th>\n",
       "      <th id=\"T_8b8df_level0_col2\" class=\"col_heading level0 col2\" >mean</th>\n",
       "    </tr>\n",
       "    <tr>\n",
       "      <th class=\"blank level1\" >&nbsp;</th>\n",
       "      <th id=\"T_8b8df_level1_col0\" class=\"col_heading level1 col0\" >debt</th>\n",
       "      <th id=\"T_8b8df_level1_col1\" class=\"col_heading level1 col1\" >debt</th>\n",
       "      <th id=\"T_8b8df_level1_col2\" class=\"col_heading level1 col2\" >debt</th>\n",
       "    </tr>\n",
       "    <tr>\n",
       "      <th class=\"index_name level0\" >children</th>\n",
       "      <th class=\"blank col0\" >&nbsp;</th>\n",
       "      <th class=\"blank col1\" >&nbsp;</th>\n",
       "      <th class=\"blank col2\" >&nbsp;</th>\n",
       "    </tr>\n",
       "  </thead>\n",
       "  <tbody>\n",
       "    <tr>\n",
       "      <th id=\"T_8b8df_level0_row0\" class=\"row_heading level0 row0\" >0</th>\n",
       "      <td id=\"T_8b8df_row0_col0\" class=\"data row0 col0\" >14149</td>\n",
       "      <td id=\"T_8b8df_row0_col1\" class=\"data row0 col1\" >1063</td>\n",
       "      <td id=\"T_8b8df_row0_col2\" class=\"data row0 col2\" >7.51%</td>\n",
       "    </tr>\n",
       "    <tr>\n",
       "      <th id=\"T_8b8df_level0_row1\" class=\"row_heading level0 row1\" >1</th>\n",
       "      <td id=\"T_8b8df_row1_col0\" class=\"data row1 col0\" >4818</td>\n",
       "      <td id=\"T_8b8df_row1_col1\" class=\"data row1 col1\" >444</td>\n",
       "      <td id=\"T_8b8df_row1_col2\" class=\"data row1 col2\" >9.22%</td>\n",
       "    </tr>\n",
       "    <tr>\n",
       "      <th id=\"T_8b8df_level0_row2\" class=\"row_heading level0 row2\" >2</th>\n",
       "      <td id=\"T_8b8df_row2_col0\" class=\"data row2 col0\" >2055</td>\n",
       "      <td id=\"T_8b8df_row2_col1\" class=\"data row2 col1\" >194</td>\n",
       "      <td id=\"T_8b8df_row2_col2\" class=\"data row2 col2\" >9.44%</td>\n",
       "    </tr>\n",
       "    <tr>\n",
       "      <th id=\"T_8b8df_level0_row3\" class=\"row_heading level0 row3\" >3</th>\n",
       "      <td id=\"T_8b8df_row3_col0\" class=\"data row3 col0\" >330</td>\n",
       "      <td id=\"T_8b8df_row3_col1\" class=\"data row3 col1\" >27</td>\n",
       "      <td id=\"T_8b8df_row3_col2\" class=\"data row3 col2\" >8.18%</td>\n",
       "    </tr>\n",
       "    <tr>\n",
       "      <th id=\"T_8b8df_level0_row4\" class=\"row_heading level0 row4\" >4</th>\n",
       "      <td id=\"T_8b8df_row4_col0\" class=\"data row4 col0\" >41</td>\n",
       "      <td id=\"T_8b8df_row4_col1\" class=\"data row4 col1\" >4</td>\n",
       "      <td id=\"T_8b8df_row4_col2\" class=\"data row4 col2\" >9.76%</td>\n",
       "    </tr>\n",
       "    <tr>\n",
       "      <th id=\"T_8b8df_level0_row5\" class=\"row_heading level0 row5\" >5</th>\n",
       "      <td id=\"T_8b8df_row5_col0\" class=\"data row5 col0\" >9</td>\n",
       "      <td id=\"T_8b8df_row5_col1\" class=\"data row5 col1\" >0</td>\n",
       "      <td id=\"T_8b8df_row5_col2\" class=\"data row5 col2\" >0.00%</td>\n",
       "    </tr>\n",
       "  </tbody>\n",
       "</table>\n"
      ],
      "text/plain": [
       "<pandas.io.formats.style.Styler at 0x220995a7d10>"
      ]
     },
     "execution_count": 15,
     "metadata": {},
     "output_type": "execute_result"
    }
   ],
   "source": [
    "data_pic = data.pivot_table(index = 'children', values = 'debt', aggfunc = ['count', 'sum', 'mean'])\\\n",
    "    .sort_values(by = ('children'))\\\n",
    "    .style.format({('mean', 'debt') : '{:.2%}'})\n",
    "data_pic"
   ]
  },
  {
   "cell_type": "markdown",
   "id": "d3f67a9d",
   "metadata": {},
   "source": [
    "**Conclusion:**\n",
    "\n",
    "The group without children has a reduced proportion of debtors; no other dependencies are observed. A group of 5 children is too small to draw conclusions."
   ]
  },
  {
   "cell_type": "code",
   "execution_count": 16,
   "id": "c1e81812",
   "metadata": {},
   "outputs": [
    {
     "data": {
      "text/plain": [
       "0.18548501687305965"
      ]
     },
     "execution_count": 16,
     "metadata": {},
     "output_type": "execute_result"
    }
   ],
   "source": [
    "data_sum = data.groupby('children')['debt'].sum()\n",
    "data_count = data.groupby('children')['debt'].count()\n",
    "data_div = data_sum / data_count\n",
    "data_div_child = (data_sum[1:6].sum() / data_count[1:6].sum())\n",
    "(data_div_child - data_div[0]) / data_div_child"
   ]
  },
  {
   "cell_type": "markdown",
   "id": "586f4602",
   "metadata": {},
   "source": [
    "On average, there are 19% fewer debtors in the group without children\n",
    "### 3.2. Relationship between marital status and loan repayment on time"
   ]
  },
  {
   "cell_type": "code",
   "execution_count": 18,
   "id": "c1876379",
   "metadata": {},
   "outputs": [
    {
     "data": {
      "text/plain": [
       "array(['женат / замужем', 'вдовец / вдова', 'Не женат / не замужем'],\n",
       "      dtype=object)"
      ]
     },
     "metadata": {},
     "output_type": "display_data"
    },
    {
     "name": "stdout",
     "output_type": "stream",
     "text": [
      "Share of debtors\n"
     ]
    },
    {
     "data": {
      "text/plain": [
       "family_status\n",
       "Не женат / не замужем    0.097535\n",
       "женат / замужем          0.079699\n",
       "вдовец / вдова           0.068660\n",
       "Name: debt, dtype: float64"
      ]
     },
     "execution_count": 18,
     "metadata": {},
     "output_type": "execute_result"
    }
   ],
   "source": [
    "display(data['family_status'].unique())\n",
    "\n",
    "data.loc[data['family_status'] == 'гражданский брак','family_status'] = 'женат / замужем'\n",
    "data.loc[data['family_status'] == 'в разводе','family_status'] = 'вдовец / вдова'\n",
    "\n",
    "data_sum = data.groupby('family_status')['debt'].sum()\n",
    "\n",
    "data_count = data.groupby('family_status')['debt'].count()\n",
    "data_div = data_sum / data_count\n",
    "print('Share of debtors')\n",
    "data_div.sort_values(ascending = False)"
   ]
  },
  {
   "cell_type": "markdown",
   "id": "ac4f818d",
   "metadata": {},
   "source": [
    "**Conclusion:**\n",
    "\n",
    "Single and unmarried have the largest share of debtors, previously married have the smallest, and currently married have an average share.\n",
    "### 3.3. Relationship between income level and loan repayment on time"
   ]
  },
  {
   "cell_type": "code",
   "execution_count": 20,
   "id": "0409cdef",
   "metadata": {},
   "outputs": [
    {
     "data": {
      "text/html": [
       "<style type=\"text/css\">\n",
       "</style>\n",
       "<table id=\"T_9acf7\">\n",
       "  <thead>\n",
       "    <tr>\n",
       "      <th class=\"blank level0\" >&nbsp;</th>\n",
       "      <th id=\"T_9acf7_level0_col0\" class=\"col_heading level0 col0\" >count</th>\n",
       "      <th id=\"T_9acf7_level0_col1\" class=\"col_heading level0 col1\" >sum</th>\n",
       "      <th id=\"T_9acf7_level0_col2\" class=\"col_heading level0 col2\" >mean</th>\n",
       "    </tr>\n",
       "    <tr>\n",
       "      <th class=\"blank level1\" >&nbsp;</th>\n",
       "      <th id=\"T_9acf7_level1_col0\" class=\"col_heading level1 col0\" >debt</th>\n",
       "      <th id=\"T_9acf7_level1_col1\" class=\"col_heading level1 col1\" >debt</th>\n",
       "      <th id=\"T_9acf7_level1_col2\" class=\"col_heading level1 col2\" >debt</th>\n",
       "    </tr>\n",
       "    <tr>\n",
       "      <th class=\"index_name level0\" >total_income_category</th>\n",
       "      <th class=\"blank col0\" >&nbsp;</th>\n",
       "      <th class=\"blank col1\" >&nbsp;</th>\n",
       "      <th class=\"blank col2\" >&nbsp;</th>\n",
       "    </tr>\n",
       "  </thead>\n",
       "  <tbody>\n",
       "    <tr>\n",
       "      <th id=\"T_9acf7_level0_row0\" class=\"row_heading level0 row0\" >C</th>\n",
       "      <td id=\"T_9acf7_row0_col0\" class=\"data row0 col0\" >15992</td>\n",
       "      <td id=\"T_9acf7_row0_col1\" class=\"data row0 col1\" >1353</td>\n",
       "      <td id=\"T_9acf7_row0_col2\" class=\"data row0 col2\" >8.46%</td>\n",
       "    </tr>\n",
       "    <tr>\n",
       "      <th id=\"T_9acf7_level0_row1\" class=\"row_heading level0 row1\" >B</th>\n",
       "      <td id=\"T_9acf7_row1_col0\" class=\"data row1 col0\" >5014</td>\n",
       "      <td id=\"T_9acf7_row1_col1\" class=\"data row1 col1\" >354</td>\n",
       "      <td id=\"T_9acf7_row1_col2\" class=\"data row1 col2\" >7.06%</td>\n",
       "    </tr>\n",
       "    <tr>\n",
       "      <th id=\"T_9acf7_level0_row2\" class=\"row_heading level0 row2\" >D</th>\n",
       "      <td id=\"T_9acf7_row2_col0\" class=\"data row2 col0\" >349</td>\n",
       "      <td id=\"T_9acf7_row2_col1\" class=\"data row2 col1\" >21</td>\n",
       "      <td id=\"T_9acf7_row2_col2\" class=\"data row2 col2\" >6.02%</td>\n",
       "    </tr>\n",
       "    <tr>\n",
       "      <th id=\"T_9acf7_level0_row3\" class=\"row_heading level0 row3\" >A</th>\n",
       "      <td id=\"T_9acf7_row3_col0\" class=\"data row3 col0\" >25</td>\n",
       "      <td id=\"T_9acf7_row3_col1\" class=\"data row3 col1\" >2</td>\n",
       "      <td id=\"T_9acf7_row3_col2\" class=\"data row3 col2\" >8.00%</td>\n",
       "    </tr>\n",
       "    <tr>\n",
       "      <th id=\"T_9acf7_level0_row4\" class=\"row_heading level0 row4\" >E</th>\n",
       "      <td id=\"T_9acf7_row4_col0\" class=\"data row4 col0\" >22</td>\n",
       "      <td id=\"T_9acf7_row4_col1\" class=\"data row4 col1\" >2</td>\n",
       "      <td id=\"T_9acf7_row4_col2\" class=\"data row4 col2\" >9.09%</td>\n",
       "    </tr>\n",
       "  </tbody>\n",
       "</table>\n"
      ],
      "text/plain": [
       "<pandas.io.formats.style.Styler at 0x220a8cac5d0>"
      ]
     },
     "execution_count": 20,
     "metadata": {},
     "output_type": "execute_result"
    }
   ],
   "source": [
    "data.pivot_table(index = 'total_income_category', values = 'debt', aggfunc = ['count', 'sum', 'mean'])\\\n",
    "    .sort_values(by = ('count', 'debt'), ascending = False)\\\n",
    "    .style.format({('mean', 'debt') : '{:.2%}'})"
   ]
  },
  {
   "cell_type": "markdown",
   "id": "9522c6d4",
   "metadata": {},
   "source": [
    "**Conclusion:**\n",
    "\n",
    "We can safely discard groups A and E as statistically insignificant. The largest group, medium-earning Group C, had the highest proportion of debtors, higher than high-earning Group B. The smallest share of debtors is in group D with low earnings.\n",
    "\n",
    "### 3.4. Relationship between purposes of a loan and loan repayment on time"
   ]
  },
  {
   "cell_type": "code",
   "execution_count": 21,
   "id": "d10a8b80",
   "metadata": {},
   "outputs": [
    {
     "name": "stdout",
     "output_type": "stream",
     "text": [
      "Share of debtors\n"
     ]
    },
    {
     "data": {
      "text/plain": [
       "purpose_category\n",
       "операции с автомобилем      0.093284\n",
       "получение образования       0.092319\n",
       "проведение свадьбы          0.078306\n",
       "операции с недвижимостью    0.072356\n",
       "Name: debt, dtype: float64"
      ]
     },
     "execution_count": 21,
     "metadata": {},
     "output_type": "execute_result"
    }
   ],
   "source": [
    "data_sum = data.groupby('purpose_category')['debt'].sum()\n",
    "\n",
    "data_count = data.groupby('purpose_category')['debt'].count()\n",
    "data_div = data_sum / data_count\n",
    "print('Share of debtors')\n",
    "data_div.sort_values(ascending = False)"
   ]
  },
  {
   "cell_type": "markdown",
   "id": "9f243df6",
   "metadata": {},
   "source": [
    "**Conclusion:**\n",
    "\n",
    "2 groups of similar shares: car and education have a larger share of debtors than wedding and real estate."
   ]
  },
  {
   "cell_type": "code",
   "execution_count": 22,
   "id": "8b54f78c",
   "metadata": {},
   "outputs": [
    {
     "data": {
      "text/plain": [
       "0.20903377058707306"
      ]
     },
     "execution_count": 22,
     "metadata": {},
     "output_type": "execute_result"
    }
   ],
   "source": [
    "data_sum_purpose1 = data_sum['операции с автомобилем'] + data_sum['получение образования']\n",
    "data_count_purpose1 = data_count['операции с автомобилем'] + data_count['получение образования']\n",
    "data_div_purpose1 = data_sum_purpose1 / data_count_purpose1\n",
    "data_sum_purpose2 = data_sum['проведение свадьбы'] + data_sum['операции с недвижимостью']\n",
    "data_count_purpose2 = data_count['проведение свадьбы'] + data_count['операции с недвижимостью']\n",
    "data_div_purpose2 = data_sum_purpose2 / data_count_purpose2\n",
    "(data_div_purpose1 - data_div_purpose2)/data_div_purpose1"
   ]
  },
  {
   "cell_type": "markdown",
   "id": "0c128d6b",
   "metadata": {},
   "source": [
    "On average, there are 21% fewer debtors in the group with weddings and real estate\n",
    "\n",
    "**Overall:**\n",
    "\n",
    "Data shows that having children leads to an increased chance of getting into loan debt. At the same time, those who are not married also have an increased chance of incurring debt. It makes sense to conduct a joint analysis of the presence of children and marital status in the future. In terms of earnings: group C with average earnings has the highest proportion of debtors. By purpose: loans for cars and education turned out to have the largest share of debtors."
   ]
  }
 ],
 "metadata": {
  "kernelspec": {
   "display_name": "Python 3 (ipykernel)",
   "language": "python",
   "name": "python3"
  },
  "language_info": {
   "codemirror_mode": {
    "name": "ipython",
    "version": 3
   },
   "file_extension": ".py",
   "mimetype": "text/x-python",
   "name": "python",
   "nbconvert_exporter": "python",
   "pygments_lexer": "ipython3",
   "version": "3.11.6"
  }
 },
 "nbformat": 4,
 "nbformat_minor": 5
}
